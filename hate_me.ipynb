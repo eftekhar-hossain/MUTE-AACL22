{
  "nbformat": 4,
  "nbformat_minor": 0,
  "metadata": {
    "colab": {
      "provenance": [],
      "collapsed_sections": [
        "eRGGhoSR-UNZ",
        "BV26OBaYc9QL"
      ],
      "include_colab_link": true
    },
    "kernelspec": {
      "name": "python3",
      "display_name": "Python 3"
    },
    "language_info": {
      "name": "python"
    },
    "accelerator": "GPU",
    "widgets": {
      "application/vnd.jupyter.widget-state+json": {
        "23ba9d876e0147779e100240e84e775f": {
          "model_module": "@jupyter-widgets/controls",
          "model_name": "HBoxModel",
          "model_module_version": "1.5.0",
          "state": {
            "_view_name": "HBoxView",
            "_dom_classes": [],
            "_model_name": "HBoxModel",
            "_view_module": "@jupyter-widgets/controls",
            "_model_module_version": "1.5.0",
            "_view_count": null,
            "_view_module_version": "1.5.0",
            "box_style": "",
            "layout": "IPY_MODEL_1633ee525bfc47a48fd9d6b58f24acc6",
            "_model_module": "@jupyter-widgets/controls",
            "children": [
              "IPY_MODEL_77bf86dbbdfc46499a6cb2d898f513fe",
              "IPY_MODEL_7368ebf9f37e4c5fb377c7196ce65ebf",
              "IPY_MODEL_fe31ba332529486daf1dd2f2e095cb84"
            ]
          }
        },
        "1633ee525bfc47a48fd9d6b58f24acc6": {
          "model_module": "@jupyter-widgets/base",
          "model_name": "LayoutModel",
          "model_module_version": "1.2.0",
          "state": {
            "_view_name": "LayoutView",
            "grid_template_rows": null,
            "right": null,
            "justify_content": null,
            "_view_module": "@jupyter-widgets/base",
            "overflow": null,
            "_model_module_version": "1.2.0",
            "_view_count": null,
            "flex_flow": null,
            "width": null,
            "min_width": null,
            "border": null,
            "align_items": null,
            "bottom": null,
            "_model_module": "@jupyter-widgets/base",
            "top": null,
            "grid_column": null,
            "overflow_y": null,
            "overflow_x": null,
            "grid_auto_flow": null,
            "grid_area": null,
            "grid_template_columns": null,
            "flex": null,
            "_model_name": "LayoutModel",
            "justify_items": null,
            "grid_row": null,
            "max_height": null,
            "align_content": null,
            "visibility": null,
            "align_self": null,
            "height": null,
            "min_height": null,
            "padding": null,
            "grid_auto_rows": null,
            "grid_gap": null,
            "max_width": null,
            "order": null,
            "_view_module_version": "1.2.0",
            "grid_template_areas": null,
            "object_position": null,
            "object_fit": null,
            "grid_auto_columns": null,
            "margin": null,
            "display": null,
            "left": null
          }
        },
        "77bf86dbbdfc46499a6cb2d898f513fe": {
          "model_module": "@jupyter-widgets/controls",
          "model_name": "HTMLModel",
          "model_module_version": "1.5.0",
          "state": {
            "_view_name": "HTMLView",
            "style": "IPY_MODEL_0ef221686b4e423db52b4eb247840d40",
            "_dom_classes": [],
            "description": "",
            "_model_name": "HTMLModel",
            "placeholder": "​",
            "_view_module": "@jupyter-widgets/controls",
            "_model_module_version": "1.5.0",
            "value": "Downloading: 100%",
            "_view_count": null,
            "_view_module_version": "1.5.0",
            "description_tooltip": null,
            "_model_module": "@jupyter-widgets/controls",
            "layout": "IPY_MODEL_381c92d3d3b94b9786fc13f7f4cee313"
          }
        },
        "7368ebf9f37e4c5fb377c7196ce65ebf": {
          "model_module": "@jupyter-widgets/controls",
          "model_name": "FloatProgressModel",
          "model_module_version": "1.5.0",
          "state": {
            "_view_name": "ProgressView",
            "style": "IPY_MODEL_eea48bbe82504e6f83b0249ffa59c421",
            "_dom_classes": [],
            "description": "",
            "_model_name": "FloatProgressModel",
            "bar_style": "success",
            "max": 512,
            "_view_module": "@jupyter-widgets/controls",
            "_model_module_version": "1.5.0",
            "value": 512,
            "_view_count": null,
            "_view_module_version": "1.5.0",
            "orientation": "horizontal",
            "min": 0,
            "description_tooltip": null,
            "_model_module": "@jupyter-widgets/controls",
            "layout": "IPY_MODEL_0721627ce3bc44f4b73002ebf13ad4a5"
          }
        },
        "fe31ba332529486daf1dd2f2e095cb84": {
          "model_module": "@jupyter-widgets/controls",
          "model_name": "HTMLModel",
          "model_module_version": "1.5.0",
          "state": {
            "_view_name": "HTMLView",
            "style": "IPY_MODEL_43f82eb976b44734b7ed0adc97ea11e3",
            "_dom_classes": [],
            "description": "",
            "_model_name": "HTMLModel",
            "placeholder": "​",
            "_view_module": "@jupyter-widgets/controls",
            "_model_module_version": "1.5.0",
            "value": " 512/512 [00:00&lt;00:00, 15.0kB/s]",
            "_view_count": null,
            "_view_module_version": "1.5.0",
            "description_tooltip": null,
            "_model_module": "@jupyter-widgets/controls",
            "layout": "IPY_MODEL_958a02870b28474cb0113a247d8ccf42"
          }
        },
        "0ef221686b4e423db52b4eb247840d40": {
          "model_module": "@jupyter-widgets/controls",
          "model_name": "DescriptionStyleModel",
          "model_module_version": "1.5.0",
          "state": {
            "_view_name": "StyleView",
            "_model_name": "DescriptionStyleModel",
            "description_width": "",
            "_view_module": "@jupyter-widgets/base",
            "_model_module_version": "1.5.0",
            "_view_count": null,
            "_view_module_version": "1.2.0",
            "_model_module": "@jupyter-widgets/controls"
          }
        },
        "381c92d3d3b94b9786fc13f7f4cee313": {
          "model_module": "@jupyter-widgets/base",
          "model_name": "LayoutModel",
          "model_module_version": "1.2.0",
          "state": {
            "_view_name": "LayoutView",
            "grid_template_rows": null,
            "right": null,
            "justify_content": null,
            "_view_module": "@jupyter-widgets/base",
            "overflow": null,
            "_model_module_version": "1.2.0",
            "_view_count": null,
            "flex_flow": null,
            "width": null,
            "min_width": null,
            "border": null,
            "align_items": null,
            "bottom": null,
            "_model_module": "@jupyter-widgets/base",
            "top": null,
            "grid_column": null,
            "overflow_y": null,
            "overflow_x": null,
            "grid_auto_flow": null,
            "grid_area": null,
            "grid_template_columns": null,
            "flex": null,
            "_model_name": "LayoutModel",
            "justify_items": null,
            "grid_row": null,
            "max_height": null,
            "align_content": null,
            "visibility": null,
            "align_self": null,
            "height": null,
            "min_height": null,
            "padding": null,
            "grid_auto_rows": null,
            "grid_gap": null,
            "max_width": null,
            "order": null,
            "_view_module_version": "1.2.0",
            "grid_template_areas": null,
            "object_position": null,
            "object_fit": null,
            "grid_auto_columns": null,
            "margin": null,
            "display": null,
            "left": null
          }
        },
        "eea48bbe82504e6f83b0249ffa59c421": {
          "model_module": "@jupyter-widgets/controls",
          "model_name": "ProgressStyleModel",
          "model_module_version": "1.5.0",
          "state": {
            "_view_name": "StyleView",
            "_model_name": "ProgressStyleModel",
            "description_width": "",
            "_view_module": "@jupyter-widgets/base",
            "_model_module_version": "1.5.0",
            "_view_count": null,
            "_view_module_version": "1.2.0",
            "bar_color": null,
            "_model_module": "@jupyter-widgets/controls"
          }
        },
        "0721627ce3bc44f4b73002ebf13ad4a5": {
          "model_module": "@jupyter-widgets/base",
          "model_name": "LayoutModel",
          "model_module_version": "1.2.0",
          "state": {
            "_view_name": "LayoutView",
            "grid_template_rows": null,
            "right": null,
            "justify_content": null,
            "_view_module": "@jupyter-widgets/base",
            "overflow": null,
            "_model_module_version": "1.2.0",
            "_view_count": null,
            "flex_flow": null,
            "width": null,
            "min_width": null,
            "border": null,
            "align_items": null,
            "bottom": null,
            "_model_module": "@jupyter-widgets/base",
            "top": null,
            "grid_column": null,
            "overflow_y": null,
            "overflow_x": null,
            "grid_auto_flow": null,
            "grid_area": null,
            "grid_template_columns": null,
            "flex": null,
            "_model_name": "LayoutModel",
            "justify_items": null,
            "grid_row": null,
            "max_height": null,
            "align_content": null,
            "visibility": null,
            "align_self": null,
            "height": null,
            "min_height": null,
            "padding": null,
            "grid_auto_rows": null,
            "grid_gap": null,
            "max_width": null,
            "order": null,
            "_view_module_version": "1.2.0",
            "grid_template_areas": null,
            "object_position": null,
            "object_fit": null,
            "grid_auto_columns": null,
            "margin": null,
            "display": null,
            "left": null
          }
        },
        "43f82eb976b44734b7ed0adc97ea11e3": {
          "model_module": "@jupyter-widgets/controls",
          "model_name": "DescriptionStyleModel",
          "model_module_version": "1.5.0",
          "state": {
            "_view_name": "StyleView",
            "_model_name": "DescriptionStyleModel",
            "description_width": "",
            "_view_module": "@jupyter-widgets/base",
            "_model_module_version": "1.5.0",
            "_view_count": null,
            "_view_module_version": "1.2.0",
            "_model_module": "@jupyter-widgets/controls"
          }
        },
        "958a02870b28474cb0113a247d8ccf42": {
          "model_module": "@jupyter-widgets/base",
          "model_name": "LayoutModel",
          "model_module_version": "1.2.0",
          "state": {
            "_view_name": "LayoutView",
            "grid_template_rows": null,
            "right": null,
            "justify_content": null,
            "_view_module": "@jupyter-widgets/base",
            "overflow": null,
            "_model_module_version": "1.2.0",
            "_view_count": null,
            "flex_flow": null,
            "width": null,
            "min_width": null,
            "border": null,
            "align_items": null,
            "bottom": null,
            "_model_module": "@jupyter-widgets/base",
            "top": null,
            "grid_column": null,
            "overflow_y": null,
            "overflow_x": null,
            "grid_auto_flow": null,
            "grid_area": null,
            "grid_template_columns": null,
            "flex": null,
            "_model_name": "LayoutModel",
            "justify_items": null,
            "grid_row": null,
            "max_height": null,
            "align_content": null,
            "visibility": null,
            "align_self": null,
            "height": null,
            "min_height": null,
            "padding": null,
            "grid_auto_rows": null,
            "grid_gap": null,
            "max_width": null,
            "order": null,
            "_view_module_version": "1.2.0",
            "grid_template_areas": null,
            "object_position": null,
            "object_fit": null,
            "grid_auto_columns": null,
            "margin": null,
            "display": null,
            "left": null
          }
        },
        "fd3ac5f1743649a09b85b8401a41b761": {
          "model_module": "@jupyter-widgets/controls",
          "model_name": "HBoxModel",
          "model_module_version": "1.5.0",
          "state": {
            "_view_name": "HBoxView",
            "_dom_classes": [],
            "_model_name": "HBoxModel",
            "_view_module": "@jupyter-widgets/controls",
            "_model_module_version": "1.5.0",
            "_view_count": null,
            "_view_module_version": "1.5.0",
            "box_style": "",
            "layout": "IPY_MODEL_5171bcc9caf0481da375730127a4e4fe",
            "_model_module": "@jupyter-widgets/controls",
            "children": [
              "IPY_MODEL_0bae85c1a2794a3fb55707a5dcd77cf3",
              "IPY_MODEL_8a5b93f1227a4f9c9cd2bf6e04992856",
              "IPY_MODEL_f04c730df53b4a64ad00400750e386a2"
            ]
          }
        },
        "5171bcc9caf0481da375730127a4e4fe": {
          "model_module": "@jupyter-widgets/base",
          "model_name": "LayoutModel",
          "model_module_version": "1.2.0",
          "state": {
            "_view_name": "LayoutView",
            "grid_template_rows": null,
            "right": null,
            "justify_content": null,
            "_view_module": "@jupyter-widgets/base",
            "overflow": null,
            "_model_module_version": "1.2.0",
            "_view_count": null,
            "flex_flow": null,
            "width": null,
            "min_width": null,
            "border": null,
            "align_items": null,
            "bottom": null,
            "_model_module": "@jupyter-widgets/base",
            "top": null,
            "grid_column": null,
            "overflow_y": null,
            "overflow_x": null,
            "grid_auto_flow": null,
            "grid_area": null,
            "grid_template_columns": null,
            "flex": null,
            "_model_name": "LayoutModel",
            "justify_items": null,
            "grid_row": null,
            "max_height": null,
            "align_content": null,
            "visibility": null,
            "align_self": null,
            "height": null,
            "min_height": null,
            "padding": null,
            "grid_auto_rows": null,
            "grid_gap": null,
            "max_width": null,
            "order": null,
            "_view_module_version": "1.2.0",
            "grid_template_areas": null,
            "object_position": null,
            "object_fit": null,
            "grid_auto_columns": null,
            "margin": null,
            "display": null,
            "left": null
          }
        },
        "0bae85c1a2794a3fb55707a5dcd77cf3": {
          "model_module": "@jupyter-widgets/controls",
          "model_name": "HTMLModel",
          "model_module_version": "1.5.0",
          "state": {
            "_view_name": "HTMLView",
            "style": "IPY_MODEL_21d0aa5921cf4529a419d4d4170b8625",
            "_dom_classes": [],
            "description": "",
            "_model_name": "HTMLModel",
            "placeholder": "​",
            "_view_module": "@jupyter-widgets/controls",
            "_model_module_version": "1.5.0",
            "value": "Downloading: 100%",
            "_view_count": null,
            "_view_module_version": "1.5.0",
            "description_tooltip": null,
            "_model_module": "@jupyter-widgets/controls",
            "layout": "IPY_MODEL_10e0e9d75c524358a09555880f03e8b1"
          }
        },
        "8a5b93f1227a4f9c9cd2bf6e04992856": {
          "model_module": "@jupyter-widgets/controls",
          "model_name": "FloatProgressModel",
          "model_module_version": "1.5.0",
          "state": {
            "_view_name": "ProgressView",
            "style": "IPY_MODEL_99a109d606514d638b701678f8076ff7",
            "_dom_classes": [],
            "description": "",
            "_model_name": "FloatProgressModel",
            "bar_style": "success",
            "max": 1885418496,
            "_view_module": "@jupyter-widgets/controls",
            "_model_module_version": "1.5.0",
            "value": 1885418496,
            "_view_count": null,
            "_view_module_version": "1.5.0",
            "orientation": "horizontal",
            "min": 0,
            "description_tooltip": null,
            "_model_module": "@jupyter-widgets/controls",
            "layout": "IPY_MODEL_05c10f36450c4aafb682239d49dc90ad"
          }
        },
        "f04c730df53b4a64ad00400750e386a2": {
          "model_module": "@jupyter-widgets/controls",
          "model_name": "HTMLModel",
          "model_module_version": "1.5.0",
          "state": {
            "_view_name": "HTMLView",
            "style": "IPY_MODEL_e63c9c7150134eb58666a4aefd32524b",
            "_dom_classes": [],
            "description": "",
            "_model_name": "HTMLModel",
            "placeholder": "​",
            "_view_module": "@jupyter-widgets/controls",
            "_model_module_version": "1.5.0",
            "value": " 1.76G/1.76G [01:10&lt;00:00, 17.8MB/s]",
            "_view_count": null,
            "_view_module_version": "1.5.0",
            "description_tooltip": null,
            "_model_module": "@jupyter-widgets/controls",
            "layout": "IPY_MODEL_4bec4f486a09434ebe65b786cd279a01"
          }
        },
        "21d0aa5921cf4529a419d4d4170b8625": {
          "model_module": "@jupyter-widgets/controls",
          "model_name": "DescriptionStyleModel",
          "model_module_version": "1.5.0",
          "state": {
            "_view_name": "StyleView",
            "_model_name": "DescriptionStyleModel",
            "description_width": "",
            "_view_module": "@jupyter-widgets/base",
            "_model_module_version": "1.5.0",
            "_view_count": null,
            "_view_module_version": "1.2.0",
            "_model_module": "@jupyter-widgets/controls"
          }
        },
        "10e0e9d75c524358a09555880f03e8b1": {
          "model_module": "@jupyter-widgets/base",
          "model_name": "LayoutModel",
          "model_module_version": "1.2.0",
          "state": {
            "_view_name": "LayoutView",
            "grid_template_rows": null,
            "right": null,
            "justify_content": null,
            "_view_module": "@jupyter-widgets/base",
            "overflow": null,
            "_model_module_version": "1.2.0",
            "_view_count": null,
            "flex_flow": null,
            "width": null,
            "min_width": null,
            "border": null,
            "align_items": null,
            "bottom": null,
            "_model_module": "@jupyter-widgets/base",
            "top": null,
            "grid_column": null,
            "overflow_y": null,
            "overflow_x": null,
            "grid_auto_flow": null,
            "grid_area": null,
            "grid_template_columns": null,
            "flex": null,
            "_model_name": "LayoutModel",
            "justify_items": null,
            "grid_row": null,
            "max_height": null,
            "align_content": null,
            "visibility": null,
            "align_self": null,
            "height": null,
            "min_height": null,
            "padding": null,
            "grid_auto_rows": null,
            "grid_gap": null,
            "max_width": null,
            "order": null,
            "_view_module_version": "1.2.0",
            "grid_template_areas": null,
            "object_position": null,
            "object_fit": null,
            "grid_auto_columns": null,
            "margin": null,
            "display": null,
            "left": null
          }
        },
        "99a109d606514d638b701678f8076ff7": {
          "model_module": "@jupyter-widgets/controls",
          "model_name": "ProgressStyleModel",
          "model_module_version": "1.5.0",
          "state": {
            "_view_name": "StyleView",
            "_model_name": "ProgressStyleModel",
            "description_width": "",
            "_view_module": "@jupyter-widgets/base",
            "_model_module_version": "1.5.0",
            "_view_count": null,
            "_view_module_version": "1.2.0",
            "bar_color": null,
            "_model_module": "@jupyter-widgets/controls"
          }
        },
        "05c10f36450c4aafb682239d49dc90ad": {
          "model_module": "@jupyter-widgets/base",
          "model_name": "LayoutModel",
          "model_module_version": "1.2.0",
          "state": {
            "_view_name": "LayoutView",
            "grid_template_rows": null,
            "right": null,
            "justify_content": null,
            "_view_module": "@jupyter-widgets/base",
            "overflow": null,
            "_model_module_version": "1.2.0",
            "_view_count": null,
            "flex_flow": null,
            "width": null,
            "min_width": null,
            "border": null,
            "align_items": null,
            "bottom": null,
            "_model_module": "@jupyter-widgets/base",
            "top": null,
            "grid_column": null,
            "overflow_y": null,
            "overflow_x": null,
            "grid_auto_flow": null,
            "grid_area": null,
            "grid_template_columns": null,
            "flex": null,
            "_model_name": "LayoutModel",
            "justify_items": null,
            "grid_row": null,
            "max_height": null,
            "align_content": null,
            "visibility": null,
            "align_self": null,
            "height": null,
            "min_height": null,
            "padding": null,
            "grid_auto_rows": null,
            "grid_gap": null,
            "max_width": null,
            "order": null,
            "_view_module_version": "1.2.0",
            "grid_template_areas": null,
            "object_position": null,
            "object_fit": null,
            "grid_auto_columns": null,
            "margin": null,
            "display": null,
            "left": null
          }
        },
        "e63c9c7150134eb58666a4aefd32524b": {
          "model_module": "@jupyter-widgets/controls",
          "model_name": "DescriptionStyleModel",
          "model_module_version": "1.5.0",
          "state": {
            "_view_name": "StyleView",
            "_model_name": "DescriptionStyleModel",
            "description_width": "",
            "_view_module": "@jupyter-widgets/base",
            "_model_module_version": "1.5.0",
            "_view_count": null,
            "_view_module_version": "1.2.0",
            "_model_module": "@jupyter-widgets/controls"
          }
        },
        "4bec4f486a09434ebe65b786cd279a01": {
          "model_module": "@jupyter-widgets/base",
          "model_name": "LayoutModel",
          "model_module_version": "1.2.0",
          "state": {
            "_view_name": "LayoutView",
            "grid_template_rows": null,
            "right": null,
            "justify_content": null,
            "_view_module": "@jupyter-widgets/base",
            "overflow": null,
            "_model_module_version": "1.2.0",
            "_view_count": null,
            "flex_flow": null,
            "width": null,
            "min_width": null,
            "border": null,
            "align_items": null,
            "bottom": null,
            "_model_module": "@jupyter-widgets/base",
            "top": null,
            "grid_column": null,
            "overflow_y": null,
            "overflow_x": null,
            "grid_auto_flow": null,
            "grid_area": null,
            "grid_template_columns": null,
            "flex": null,
            "_model_name": "LayoutModel",
            "justify_items": null,
            "grid_row": null,
            "max_height": null,
            "align_content": null,
            "visibility": null,
            "align_self": null,
            "height": null,
            "min_height": null,
            "padding": null,
            "grid_auto_rows": null,
            "grid_gap": null,
            "max_width": null,
            "order": null,
            "_view_module_version": "1.2.0",
            "grid_template_areas": null,
            "object_position": null,
            "object_fit": null,
            "grid_auto_columns": null,
            "margin": null,
            "display": null,
            "left": null
          }
        },
        "d79c2c38430c4e879d9cc0b5d0026f5c": {
          "model_module": "@jupyter-widgets/controls",
          "model_name": "HBoxModel",
          "model_module_version": "1.5.0",
          "state": {
            "_view_name": "HBoxView",
            "_dom_classes": [],
            "_model_name": "HBoxModel",
            "_view_module": "@jupyter-widgets/controls",
            "_model_module_version": "1.5.0",
            "_view_count": null,
            "_view_module_version": "1.5.0",
            "box_style": "",
            "layout": "IPY_MODEL_e6f6badc5c4449efb7e5ecad99c3e514",
            "_model_module": "@jupyter-widgets/controls",
            "children": [
              "IPY_MODEL_0ff6c99e014f428ea09674ebfdb11761",
              "IPY_MODEL_f542b900a054419eaecf4a5e3f0566e1",
              "IPY_MODEL_0fc8738cd09c45dd91d8bdf64078c7cc"
            ]
          }
        },
        "e6f6badc5c4449efb7e5ecad99c3e514": {
          "model_module": "@jupyter-widgets/base",
          "model_name": "LayoutModel",
          "model_module_version": "1.2.0",
          "state": {
            "_view_name": "LayoutView",
            "grid_template_rows": null,
            "right": null,
            "justify_content": null,
            "_view_module": "@jupyter-widgets/base",
            "overflow": null,
            "_model_module_version": "1.2.0",
            "_view_count": null,
            "flex_flow": null,
            "width": null,
            "min_width": null,
            "border": null,
            "align_items": null,
            "bottom": null,
            "_model_module": "@jupyter-widgets/base",
            "top": null,
            "grid_column": null,
            "overflow_y": null,
            "overflow_x": null,
            "grid_auto_flow": null,
            "grid_area": null,
            "grid_template_columns": null,
            "flex": null,
            "_model_name": "LayoutModel",
            "justify_items": null,
            "grid_row": null,
            "max_height": null,
            "align_content": null,
            "visibility": null,
            "align_self": null,
            "height": null,
            "min_height": null,
            "padding": null,
            "grid_auto_rows": null,
            "grid_gap": null,
            "max_width": null,
            "order": null,
            "_view_module_version": "1.2.0",
            "grid_template_areas": null,
            "object_position": null,
            "object_fit": null,
            "grid_auto_columns": null,
            "margin": null,
            "display": null,
            "left": null
          }
        },
        "0ff6c99e014f428ea09674ebfdb11761": {
          "model_module": "@jupyter-widgets/controls",
          "model_name": "HTMLModel",
          "model_module_version": "1.5.0",
          "state": {
            "_view_name": "HTMLView",
            "style": "IPY_MODEL_a265b93ba72248abaf92d0543eb26b26",
            "_dom_classes": [],
            "description": "",
            "_model_name": "HTMLModel",
            "placeholder": "​",
            "_view_module": "@jupyter-widgets/controls",
            "_model_module_version": "1.5.0",
            "value": "Downloading: 100%",
            "_view_count": null,
            "_view_module_version": "1.5.0",
            "description_tooltip": null,
            "_model_module": "@jupyter-widgets/controls",
            "layout": "IPY_MODEL_354c35cb7e304fd7a545816aa49e913c"
          }
        },
        "f542b900a054419eaecf4a5e3f0566e1": {
          "model_module": "@jupyter-widgets/controls",
          "model_name": "FloatProgressModel",
          "model_module_version": "1.5.0",
          "state": {
            "_view_name": "ProgressView",
            "style": "IPY_MODEL_652e9d18cdb34c51985a0d9ea76fcc0c",
            "_dom_classes": [],
            "description": "",
            "_model_name": "FloatProgressModel",
            "bar_style": "success",
            "max": 2237676,
            "_view_module": "@jupyter-widgets/controls",
            "_model_module_version": "1.5.0",
            "value": 2237676,
            "_view_count": null,
            "_view_module_version": "1.5.0",
            "orientation": "horizontal",
            "min": 0,
            "description_tooltip": null,
            "_model_module": "@jupyter-widgets/controls",
            "layout": "IPY_MODEL_2e93b4481c444bd083d77fce21711959"
          }
        },
        "0fc8738cd09c45dd91d8bdf64078c7cc": {
          "model_module": "@jupyter-widgets/controls",
          "model_name": "HTMLModel",
          "model_module_version": "1.5.0",
          "state": {
            "_view_name": "HTMLView",
            "style": "IPY_MODEL_24f35df8295040a7a8403aa89fea5876",
            "_dom_classes": [],
            "description": "",
            "_model_name": "HTMLModel",
            "placeholder": "​",
            "_view_module": "@jupyter-widgets/controls",
            "_model_module_version": "1.5.0",
            "value": " 2.13M/2.13M [00:00&lt;00:00, 23.2MB/s]",
            "_view_count": null,
            "_view_module_version": "1.5.0",
            "description_tooltip": null,
            "_model_module": "@jupyter-widgets/controls",
            "layout": "IPY_MODEL_fa095debd00d4cb4bf85ea98255b0e48"
          }
        },
        "a265b93ba72248abaf92d0543eb26b26": {
          "model_module": "@jupyter-widgets/controls",
          "model_name": "DescriptionStyleModel",
          "model_module_version": "1.5.0",
          "state": {
            "_view_name": "StyleView",
            "_model_name": "DescriptionStyleModel",
            "description_width": "",
            "_view_module": "@jupyter-widgets/base",
            "_model_module_version": "1.5.0",
            "_view_count": null,
            "_view_module_version": "1.2.0",
            "_model_module": "@jupyter-widgets/controls"
          }
        },
        "354c35cb7e304fd7a545816aa49e913c": {
          "model_module": "@jupyter-widgets/base",
          "model_name": "LayoutModel",
          "model_module_version": "1.2.0",
          "state": {
            "_view_name": "LayoutView",
            "grid_template_rows": null,
            "right": null,
            "justify_content": null,
            "_view_module": "@jupyter-widgets/base",
            "overflow": null,
            "_model_module_version": "1.2.0",
            "_view_count": null,
            "flex_flow": null,
            "width": null,
            "min_width": null,
            "border": null,
            "align_items": null,
            "bottom": null,
            "_model_module": "@jupyter-widgets/base",
            "top": null,
            "grid_column": null,
            "overflow_y": null,
            "overflow_x": null,
            "grid_auto_flow": null,
            "grid_area": null,
            "grid_template_columns": null,
            "flex": null,
            "_model_name": "LayoutModel",
            "justify_items": null,
            "grid_row": null,
            "max_height": null,
            "align_content": null,
            "visibility": null,
            "align_self": null,
            "height": null,
            "min_height": null,
            "padding": null,
            "grid_auto_rows": null,
            "grid_gap": null,
            "max_width": null,
            "order": null,
            "_view_module_version": "1.2.0",
            "grid_template_areas": null,
            "object_position": null,
            "object_fit": null,
            "grid_auto_columns": null,
            "margin": null,
            "display": null,
            "left": null
          }
        },
        "652e9d18cdb34c51985a0d9ea76fcc0c": {
          "model_module": "@jupyter-widgets/controls",
          "model_name": "ProgressStyleModel",
          "model_module_version": "1.5.0",
          "state": {
            "_view_name": "StyleView",
            "_model_name": "ProgressStyleModel",
            "description_width": "",
            "_view_module": "@jupyter-widgets/base",
            "_model_module_version": "1.5.0",
            "_view_count": null,
            "_view_module_version": "1.2.0",
            "bar_color": null,
            "_model_module": "@jupyter-widgets/controls"
          }
        },
        "2e93b4481c444bd083d77fce21711959": {
          "model_module": "@jupyter-widgets/base",
          "model_name": "LayoutModel",
          "model_module_version": "1.2.0",
          "state": {
            "_view_name": "LayoutView",
            "grid_template_rows": null,
            "right": null,
            "justify_content": null,
            "_view_module": "@jupyter-widgets/base",
            "overflow": null,
            "_model_module_version": "1.2.0",
            "_view_count": null,
            "flex_flow": null,
            "width": null,
            "min_width": null,
            "border": null,
            "align_items": null,
            "bottom": null,
            "_model_module": "@jupyter-widgets/base",
            "top": null,
            "grid_column": null,
            "overflow_y": null,
            "overflow_x": null,
            "grid_auto_flow": null,
            "grid_area": null,
            "grid_template_columns": null,
            "flex": null,
            "_model_name": "LayoutModel",
            "justify_items": null,
            "grid_row": null,
            "max_height": null,
            "align_content": null,
            "visibility": null,
            "align_self": null,
            "height": null,
            "min_height": null,
            "padding": null,
            "grid_auto_rows": null,
            "grid_gap": null,
            "max_width": null,
            "order": null,
            "_view_module_version": "1.2.0",
            "grid_template_areas": null,
            "object_position": null,
            "object_fit": null,
            "grid_auto_columns": null,
            "margin": null,
            "display": null,
            "left": null
          }
        },
        "24f35df8295040a7a8403aa89fea5876": {
          "model_module": "@jupyter-widgets/controls",
          "model_name": "DescriptionStyleModel",
          "model_module_version": "1.5.0",
          "state": {
            "_view_name": "StyleView",
            "_model_name": "DescriptionStyleModel",
            "description_width": "",
            "_view_module": "@jupyter-widgets/base",
            "_model_module_version": "1.5.0",
            "_view_count": null,
            "_view_module_version": "1.2.0",
            "_model_module": "@jupyter-widgets/controls"
          }
        },
        "fa095debd00d4cb4bf85ea98255b0e48": {
          "model_module": "@jupyter-widgets/base",
          "model_name": "LayoutModel",
          "model_module_version": "1.2.0",
          "state": {
            "_view_name": "LayoutView",
            "grid_template_rows": null,
            "right": null,
            "justify_content": null,
            "_view_module": "@jupyter-widgets/base",
            "overflow": null,
            "_model_module_version": "1.2.0",
            "_view_count": null,
            "flex_flow": null,
            "width": null,
            "min_width": null,
            "border": null,
            "align_items": null,
            "bottom": null,
            "_model_module": "@jupyter-widgets/base",
            "top": null,
            "grid_column": null,
            "overflow_y": null,
            "overflow_x": null,
            "grid_auto_flow": null,
            "grid_area": null,
            "grid_template_columns": null,
            "flex": null,
            "_model_name": "LayoutModel",
            "justify_items": null,
            "grid_row": null,
            "max_height": null,
            "align_content": null,
            "visibility": null,
            "align_self": null,
            "height": null,
            "min_height": null,
            "padding": null,
            "grid_auto_rows": null,
            "grid_gap": null,
            "max_width": null,
            "order": null,
            "_view_module_version": "1.2.0",
            "grid_template_areas": null,
            "object_position": null,
            "object_fit": null,
            "grid_auto_columns": null,
            "margin": null,
            "display": null,
            "left": null
          }
        },
        "df031b5db6ca486fbd418d6c0d20c34f": {
          "model_module": "@jupyter-widgets/controls",
          "model_name": "HBoxModel",
          "model_module_version": "1.5.0",
          "state": {
            "_view_name": "HBoxView",
            "_dom_classes": [],
            "_model_name": "HBoxModel",
            "_view_module": "@jupyter-widgets/controls",
            "_model_module_version": "1.5.0",
            "_view_count": null,
            "_view_module_version": "1.5.0",
            "box_style": "",
            "layout": "IPY_MODEL_eb4ed9249a6a4a25b3ffbbb206fa3253",
            "_model_module": "@jupyter-widgets/controls",
            "children": [
              "IPY_MODEL_ede7964d9cbd49b2926b03e31e9ffb37",
              "IPY_MODEL_53b37c6e4a1f47f3acec9b3d36efd33a",
              "IPY_MODEL_c3cd6c5582234cf4b4df4b3d3288434a"
            ]
          }
        },
        "eb4ed9249a6a4a25b3ffbbb206fa3253": {
          "model_module": "@jupyter-widgets/base",
          "model_name": "LayoutModel",
          "model_module_version": "1.2.0",
          "state": {
            "_view_name": "LayoutView",
            "grid_template_rows": null,
            "right": null,
            "justify_content": null,
            "_view_module": "@jupyter-widgets/base",
            "overflow": null,
            "_model_module_version": "1.2.0",
            "_view_count": null,
            "flex_flow": null,
            "width": null,
            "min_width": null,
            "border": null,
            "align_items": null,
            "bottom": null,
            "_model_module": "@jupyter-widgets/base",
            "top": null,
            "grid_column": null,
            "overflow_y": null,
            "overflow_x": null,
            "grid_auto_flow": null,
            "grid_area": null,
            "grid_template_columns": null,
            "flex": null,
            "_model_name": "LayoutModel",
            "justify_items": null,
            "grid_row": null,
            "max_height": null,
            "align_content": null,
            "visibility": null,
            "align_self": null,
            "height": null,
            "min_height": null,
            "padding": null,
            "grid_auto_rows": null,
            "grid_gap": null,
            "max_width": null,
            "order": null,
            "_view_module_version": "1.2.0",
            "grid_template_areas": null,
            "object_position": null,
            "object_fit": null,
            "grid_auto_columns": null,
            "margin": null,
            "display": null,
            "left": null
          }
        },
        "ede7964d9cbd49b2926b03e31e9ffb37": {
          "model_module": "@jupyter-widgets/controls",
          "model_name": "HTMLModel",
          "model_module_version": "1.5.0",
          "state": {
            "_view_name": "HTMLView",
            "style": "IPY_MODEL_9437d00842514c80a7bf0a4ad3277701",
            "_dom_classes": [],
            "description": "",
            "_model_name": "HTMLModel",
            "placeholder": "​",
            "_view_module": "@jupyter-widgets/controls",
            "_model_module_version": "1.5.0",
            "value": "Downloading: 100%",
            "_view_count": null,
            "_view_module_version": "1.5.0",
            "description_tooltip": null,
            "_model_module": "@jupyter-widgets/controls",
            "layout": "IPY_MODEL_0eb69d52f28d4d29a7ed96be16a7f656"
          }
        },
        "53b37c6e4a1f47f3acec9b3d36efd33a": {
          "model_module": "@jupyter-widgets/controls",
          "model_name": "FloatProgressModel",
          "model_module_version": "1.5.0",
          "state": {
            "_view_name": "ProgressView",
            "style": "IPY_MODEL_f039bfce568047849421ca5827e20bbb",
            "_dom_classes": [],
            "description": "",
            "_model_name": "FloatProgressModel",
            "bar_style": "success",
            "max": 491,
            "_view_module": "@jupyter-widgets/controls",
            "_model_module_version": "1.5.0",
            "value": 491,
            "_view_count": null,
            "_view_module_version": "1.5.0",
            "orientation": "horizontal",
            "min": 0,
            "description_tooltip": null,
            "_model_module": "@jupyter-widgets/controls",
            "layout": "IPY_MODEL_a2ed53bb30fd4d93a6c0ba9aee2e05a3"
          }
        },
        "c3cd6c5582234cf4b4df4b3d3288434a": {
          "model_module": "@jupyter-widgets/controls",
          "model_name": "HTMLModel",
          "model_module_version": "1.5.0",
          "state": {
            "_view_name": "HTMLView",
            "style": "IPY_MODEL_5fcc813a20b84ff486f0288494b71b23",
            "_dom_classes": [],
            "description": "",
            "_model_name": "HTMLModel",
            "placeholder": "​",
            "_view_module": "@jupyter-widgets/controls",
            "_model_module_version": "1.5.0",
            "value": " 491/491 [00:00&lt;00:00, 13.7kB/s]",
            "_view_count": null,
            "_view_module_version": "1.5.0",
            "description_tooltip": null,
            "_model_module": "@jupyter-widgets/controls",
            "layout": "IPY_MODEL_7a9ecbdd5b13465b89b23e8e770a7d07"
          }
        },
        "9437d00842514c80a7bf0a4ad3277701": {
          "model_module": "@jupyter-widgets/controls",
          "model_name": "DescriptionStyleModel",
          "model_module_version": "1.5.0",
          "state": {
            "_view_name": "StyleView",
            "_model_name": "DescriptionStyleModel",
            "description_width": "",
            "_view_module": "@jupyter-widgets/base",
            "_model_module_version": "1.5.0",
            "_view_count": null,
            "_view_module_version": "1.2.0",
            "_model_module": "@jupyter-widgets/controls"
          }
        },
        "0eb69d52f28d4d29a7ed96be16a7f656": {
          "model_module": "@jupyter-widgets/base",
          "model_name": "LayoutModel",
          "model_module_version": "1.2.0",
          "state": {
            "_view_name": "LayoutView",
            "grid_template_rows": null,
            "right": null,
            "justify_content": null,
            "_view_module": "@jupyter-widgets/base",
            "overflow": null,
            "_model_module_version": "1.2.0",
            "_view_count": null,
            "flex_flow": null,
            "width": null,
            "min_width": null,
            "border": null,
            "align_items": null,
            "bottom": null,
            "_model_module": "@jupyter-widgets/base",
            "top": null,
            "grid_column": null,
            "overflow_y": null,
            "overflow_x": null,
            "grid_auto_flow": null,
            "grid_area": null,
            "grid_template_columns": null,
            "flex": null,
            "_model_name": "LayoutModel",
            "justify_items": null,
            "grid_row": null,
            "max_height": null,
            "align_content": null,
            "visibility": null,
            "align_self": null,
            "height": null,
            "min_height": null,
            "padding": null,
            "grid_auto_rows": null,
            "grid_gap": null,
            "max_width": null,
            "order": null,
            "_view_module_version": "1.2.0",
            "grid_template_areas": null,
            "object_position": null,
            "object_fit": null,
            "grid_auto_columns": null,
            "margin": null,
            "display": null,
            "left": null
          }
        },
        "f039bfce568047849421ca5827e20bbb": {
          "model_module": "@jupyter-widgets/controls",
          "model_name": "ProgressStyleModel",
          "model_module_version": "1.5.0",
          "state": {
            "_view_name": "StyleView",
            "_model_name": "ProgressStyleModel",
            "description_width": "",
            "_view_module": "@jupyter-widgets/base",
            "_model_module_version": "1.5.0",
            "_view_count": null,
            "_view_module_version": "1.2.0",
            "bar_color": null,
            "_model_module": "@jupyter-widgets/controls"
          }
        },
        "a2ed53bb30fd4d93a6c0ba9aee2e05a3": {
          "model_module": "@jupyter-widgets/base",
          "model_name": "LayoutModel",
          "model_module_version": "1.2.0",
          "state": {
            "_view_name": "LayoutView",
            "grid_template_rows": null,
            "right": null,
            "justify_content": null,
            "_view_module": "@jupyter-widgets/base",
            "overflow": null,
            "_model_module_version": "1.2.0",
            "_view_count": null,
            "flex_flow": null,
            "width": null,
            "min_width": null,
            "border": null,
            "align_items": null,
            "bottom": null,
            "_model_module": "@jupyter-widgets/base",
            "top": null,
            "grid_column": null,
            "overflow_y": null,
            "overflow_x": null,
            "grid_auto_flow": null,
            "grid_area": null,
            "grid_template_columns": null,
            "flex": null,
            "_model_name": "LayoutModel",
            "justify_items": null,
            "grid_row": null,
            "max_height": null,
            "align_content": null,
            "visibility": null,
            "align_self": null,
            "height": null,
            "min_height": null,
            "padding": null,
            "grid_auto_rows": null,
            "grid_gap": null,
            "max_width": null,
            "order": null,
            "_view_module_version": "1.2.0",
            "grid_template_areas": null,
            "object_position": null,
            "object_fit": null,
            "grid_auto_columns": null,
            "margin": null,
            "display": null,
            "left": null
          }
        },
        "5fcc813a20b84ff486f0288494b71b23": {
          "model_module": "@jupyter-widgets/controls",
          "model_name": "DescriptionStyleModel",
          "model_module_version": "1.5.0",
          "state": {
            "_view_name": "StyleView",
            "_model_name": "DescriptionStyleModel",
            "description_width": "",
            "_view_module": "@jupyter-widgets/base",
            "_model_module_version": "1.5.0",
            "_view_count": null,
            "_view_module_version": "1.2.0",
            "_model_module": "@jupyter-widgets/controls"
          }
        },
        "7a9ecbdd5b13465b89b23e8e770a7d07": {
          "model_module": "@jupyter-widgets/base",
          "model_name": "LayoutModel",
          "model_module_version": "1.2.0",
          "state": {
            "_view_name": "LayoutView",
            "grid_template_rows": null,
            "right": null,
            "justify_content": null,
            "_view_module": "@jupyter-widgets/base",
            "overflow": null,
            "_model_module_version": "1.2.0",
            "_view_count": null,
            "flex_flow": null,
            "width": null,
            "min_width": null,
            "border": null,
            "align_items": null,
            "bottom": null,
            "_model_module": "@jupyter-widgets/base",
            "top": null,
            "grid_column": null,
            "overflow_y": null,
            "overflow_x": null,
            "grid_auto_flow": null,
            "grid_area": null,
            "grid_template_columns": null,
            "flex": null,
            "_model_name": "LayoutModel",
            "justify_items": null,
            "grid_row": null,
            "max_height": null,
            "align_content": null,
            "visibility": null,
            "align_self": null,
            "height": null,
            "min_height": null,
            "padding": null,
            "grid_auto_rows": null,
            "grid_gap": null,
            "max_width": null,
            "order": null,
            "_view_module_version": "1.2.0",
            "grid_template_areas": null,
            "object_position": null,
            "object_fit": null,
            "grid_auto_columns": null,
            "margin": null,
            "display": null,
            "left": null
          }
        }
      }
    }
  },
  "cells": [
    {
      "cell_type": "markdown",
      "metadata": {
        "id": "view-in-github",
        "colab_type": "text"
      },
      "source": [
        "<a href=\"https://colab.research.google.com/github/eftekhar-hossain/Multimodal-Hateful-Memes/blob/main/hate_me.ipynb\" target=\"_parent\"><img src=\"https://colab.research.google.com/assets/colab-badge.svg\" alt=\"Open In Colab\"/></a>"
      ]
    },
    {
      "cell_type": "code",
      "execution_count": null,
      "metadata": {
        "colab": {
          "base_uri": "https://localhost:8080/"
        },
        "id": "UK-sOIlN8Q7L",
        "outputId": "a3bfb6fe-6fee-46b8-a9ec-278e5ccfe8ae"
      },
      "outputs": [
        {
          "output_type": "stream",
          "name": "stdout",
          "text": [
            "Mounted at /content/drive\n"
          ]
        }
      ],
      "source": [
        "from google.colab import drive\n",
        "drive._mount('/content/drive')"
      ]
    },
    {
      "cell_type": "markdown",
      "source": [
        "#Libraries"
      ],
      "metadata": {
        "id": "EvSCjE_k9G0_"
      }
    },
    {
      "cell_type": "code",
      "metadata": {
        "colab": {
          "base_uri": "https://localhost:8080/"
        },
        "id": "6OdpHrd7yReb",
        "outputId": "eafd6912-cbf1-4629-e524-3cbe8b6acdb6"
      },
      "source": [
        "%%time\n",
        "import os\n",
        "from glob import glob\n",
        "import numpy as np\n",
        "import matplotlib.pyplot as plt\n",
        "%matplotlib inline\n",
        "import pandas as pd\n",
        "import seaborn as sns\n",
        "import re,nltk,json\n",
        "from bs4 import BeautifulSoup\n",
        "### ML Librarires--------------------\n",
        "from sklearn.preprocessing import OneHotEncoder\n",
        "from sklearn.metrics import confusion_matrix,classification_report\n",
        "from sklearn.model_selection import train_test_split\n",
        "from sklearn.feature_extraction.text import TfidfVectorizer\n",
        "from sklearn.linear_model import LogisticRegression\n",
        "from sklearn.tree import DecisionTreeClassifier\n",
        "from sklearn.ensemble import RandomForestClassifier\n",
        "from sklearn.naive_bayes import MultinomialNB\n",
        "from sklearn.svm import SVC\n",
        "from sklearn.metrics import accuracy_score,precision_score,recall_score,f1_score,roc_auc_score\n",
        "from sklearn.metrics import average_precision_score,roc_auc_score, roc_curve, precision_recall_curve\n",
        "###-------------------------------------------\n",
        "from keras.utils.vis_utils import plot_model\n",
        "np.random.seed(42)\n",
        "import string, spacy,unicodedata, random\n",
        "class color: # Text style\n",
        "   PURPLE = '\\033[95m'\n",
        "   CYAN = '\\033[96m'\n",
        "   DARKCYAN = '\\033[36m'\n",
        "   BLUE = '\\033[94m'\n",
        "   GREEN = '\\033[92m'\n",
        "   YELLOW = '\\033[93m'\n",
        "   RED = '\\033[91m'\n",
        "   BOLD = '\\033[1m'\n",
        "   UNDERLINE = '\\033[4m'\n",
        "   END = '\\033[0m'\n",
        "import warnings\n",
        "warnings.filterwarnings('ignore')\n",
        "### Pretrained Word Embeddings\n",
        "main_path = \"/content/drive/MyDrive/Colab Notebooks/NLP Projects/Online Memes/Dataset-3300/Hateful Memes/\"\n",
        "models_path = \"/content/drive/MyDrive/Colab Notebooks/NLP Projects/Online Memes/Dataset-3300/Hateful Memes/Models/\"\n",
        "results_path = \"/content/drive/MyDrive/Colab Notebooks/NLP Projects/Online Memes/Dataset-3300/Hateful Memes/Results/\"\n",
        "memes_path = \"/content/drive/MyDrive/Colab Notebooks/NLP Projects/Online Memes/Dataset-3300/\""
      ],
      "execution_count": null,
      "outputs": [
        {
          "output_type": "stream",
          "name": "stdout",
          "text": [
            "CPU times: user 6.47 s, sys: 979 ms, total: 7.45 s\n",
            "Wall time: 15.2 s\n"
          ]
        }
      ]
    },
    {
      "cell_type": "code",
      "metadata": {
        "id": "X99RtxqmtKgc"
      },
      "source": [
        "from keras.preprocessing import image\n",
        "from tensorflow.keras.applications.xception import Xception\n",
        "from keras.applications.vgg16 import VGG16\n",
        "from keras.applications.vgg19 import VGG19\n",
        "from keras.applications.densenet import DenseNet121\n",
        "from keras.applications.inception_v3 import InceptionV3\n",
        "from tensorflow.keras.applications.resnet50 import ResNet50\n",
        "from tensorflow.keras.applications.inception_resnet_v2 import InceptionResNetV2\n",
        "from keras.applications.vgg16 import preprocess_input\n",
        "from keras.preprocessing.text import Tokenizer\n",
        "from keras.layers import Dense, GlobalAveragePooling2D, Embedding, LSTM, multiply, concatenate\n",
        "from keras.models import Model\n",
        "from keras import preprocessing, Input\n",
        "from tensorflow import keras\n",
        "from keras.models import Sequential\n",
        "#Import from keras_preprocessing not from keras.preprocessing\n",
        "from keras_preprocessing.image import ImageDataGenerator\n",
        "from keras.layers import Dense, Activation, Flatten, Dropout, BatchNormalization\n",
        "from keras.layers import Conv2D, MaxPooling2D\n",
        "from keras import regularizers, optimizers\n",
        "from tensorflow.keras.models import load_model\n",
        "import itertools\n",
        "from PIL import Image, ImageFile\n",
        "import tensorflow as tf\n",
        "import tensorflow.keras as keras\n",
        "from tensorflow.keras.preprocessing.text import Tokenizer\n",
        "from tensorflow.keras.preprocessing.sequence import pad_sequences\n",
        "from tensorflow.keras.layers import Concatenate, Dense, Input, LSTM, Embedding, Dropout, Activation, GRU, Flatten,Reshape,dot,multiply\n",
        "from tensorflow.keras.layers import Bidirectional, GlobalMaxPool1D\n",
        "from tensorflow.keras.models import Model, Sequential\n",
        "from tensorflow.keras.layers import Convolution1D,MaxPooling1D,Conv1D\n",
        "from tensorflow.keras import initializers, regularizers, constraints, optimizers, layers\n",
        "from tensorflow.keras.layers import Add, BatchNormalization, Activation, Dropout\n",
        "from tensorflow.keras.optimizers import RMSprop,Adam,SGD,Nadam\n",
        "keras.backend.clear_session()"
      ],
      "execution_count": null,
      "outputs": []
    },
    {
      "cell_type": "markdown",
      "source": [
        "#Dataset Fetching"
      ],
      "metadata": {
        "id": "3ULkWBhhBF1Q"
      }
    },
    {
      "cell_type": "code",
      "source": [
        "train_data = pd.read_excel(main_path + 'train_hate.xlsx')\n",
        "valid_data = pd.read_excel(main_path + 'valid_hate.xlsx')\n",
        "test_data = pd.read_excel(main_path + 'test_hate.xlsx')"
      ],
      "metadata": {
        "id": "1-zmrD5JBICy"
      },
      "execution_count": null,
      "outputs": []
    },
    {
      "cell_type": "code",
      "source": [
        "print(\"Number of Training Data: \",len(train_data))\n",
        "print(\"Number of Validation Data: \",len(valid_data))\n",
        "print(\"Number of Test Data: \",len(test_data))"
      ],
      "metadata": {
        "id": "s6WqQbCtBcx4"
      },
      "execution_count": null,
      "outputs": []
    },
    {
      "cell_type": "code",
      "source": [
        "train_data['Label'].value_counts()"
      ],
      "metadata": {
        "colab": {
          "base_uri": "https://localhost:8080/"
        },
        "id": "gtZnAwhyBsHB",
        "outputId": "ed89037d-92f5-4116-cbd0-0f3e5faa8659"
      },
      "execution_count": null,
      "outputs": [
        {
          "output_type": "execute_result",
          "data": {
            "text/plain": [
              "not-hate    2092\n",
              "hate        1275\n",
              "Name: Label, dtype: int64"
            ]
          },
          "metadata": {},
          "execution_count": 36
        }
      ]
    },
    {
      "cell_type": "code",
      "source": [
        "valid_data['Label'].value_counts()"
      ],
      "metadata": {
        "colab": {
          "base_uri": "https://localhost:8080/"
        },
        "id": "kFCj2qukByUX",
        "outputId": "9f00e9a4-eb8c-4ec5-89c8-16cae5a80e3f"
      },
      "execution_count": null,
      "outputs": [
        {
          "output_type": "execute_result",
          "data": {
            "text/plain": [
              "not-hate    223\n",
              "hate        152\n",
              "Name: Label, dtype: int64"
            ]
          },
          "metadata": {},
          "execution_count": 37
        }
      ]
    },
    {
      "cell_type": "code",
      "source": [
        "test_data['Label'].value_counts()"
      ],
      "metadata": {
        "colab": {
          "base_uri": "https://localhost:8080/"
        },
        "id": "JcSZp2SfB1PE",
        "outputId": "42b61bad-936f-4e23-9f88-c6cfe8ee03f4"
      },
      "execution_count": null,
      "outputs": [
        {
          "output_type": "execute_result",
          "data": {
            "text/plain": [
              "not-hate    257\n",
              "hate        159\n",
              "Name: Label, dtype: int64"
            ]
          },
          "metadata": {},
          "execution_count": 38
        }
      ]
    },
    {
      "cell_type": "code",
      "source": [
        "## Replace Names\n",
        "train_data['enc_label'] = train_data['Label'].replace({'hate':1,'not-hate':0})\n",
        "valid_data['enc_label'] = valid_data['Label'].replace({'hate':1,'not-hate':0})\n",
        "test_data['enc_label'] = test_data['Label'].replace({'hate':1,'not-hate':0})"
      ],
      "metadata": {
        "id": "NPHAEtoXD8zv"
      },
      "execution_count": null,
      "outputs": []
    },
    {
      "cell_type": "markdown",
      "metadata": {
        "id": "DFR-3TfU1npe"
      },
      "source": [
        "## Display Some Data"
      ]
    },
    {
      "cell_type": "code",
      "metadata": {
        "id": "lbbgMuDxgxl1",
        "colab": {
          "base_uri": "https://localhost:8080/",
          "height": 511
        },
        "outputId": "21cebaf7-5167-4d70-bd3f-c2b602679758"
      },
      "source": [
        "from matplotlib import image as im\n",
        "for i in range(2):\n",
        "  data = im.imread(memes_path+'3300 Memes/'+ train_data['image_name'][i],0)\n",
        "  plt.figure()\n",
        "  plt.axis('off')\n",
        "  plt.imshow(data)\n",
        "  plt.title(train_data['Label'][i])"
      ],
      "execution_count": null,
      "outputs": [
        {
          "output_type": "display_data",
          "data": {
            "image/png": "[encoded data removed]",
            "text/plain": [
              "<Figure size 432x288 with 1 Axes>"
            ]
          },
          "metadata": {
            "needs_background": "light"
          }
        },
        {
          "output_type": "display_data",
          "data": {
            "image/png": "[encoded data removed]",
            "text/plain": [
              "<Figure size 432x288 with 1 Axes>"
            ]
          },
          "metadata": {
            "needs_background": "light"
          }
        }
      ]
    },
    {
      "cell_type": "code",
      "metadata": {
        "id": "1wqPxvGi1sgw"
      },
      "source": [
        "n = 472\n",
        "from matplotlib import image as im\n",
        "data = im.imread(memes_path+'3300 Memes/'+ test_data['image_name'][n],0)\n",
        "plt.figure()\n",
        "plt.axis('off')\n",
        "plt.imshow(data)\n",
        "#plt.title('Human Damage')\n",
        "plt.savefig(results_path+\"472_negative.png\",bbox_inches='tight')\n",
        "test_data['Label'][n]"
      ],
      "execution_count": null,
      "outputs": []
    },
    {
      "cell_type": "markdown",
      "metadata": {
        "id": "UsNaV9I8TAIO"
      },
      "source": [
        "#Memes Fetching"
      ]
    },
    {
      "cell_type": "code",
      "metadata": {
        "id": "paJIWu6loAjG"
      },
      "source": [
        "## collect image names from the folders\n",
        "def create_img_array(img_dirct):\n",
        "    all_imgs = []\n",
        "    for root, j, files in os.walk(img_dirct):\n",
        "        for file in files:\n",
        "            file = root + '' + file\n",
        "            all_imgs.append(file)\n",
        "    return all_imgs\n",
        "\n",
        "def create_img_path(DF, Col_name, img_dir):\n",
        "    img_path = [img_dir + '' + str(name) for name in DF[Col_name]]\n",
        "    return img_path\n"
      ],
      "execution_count": null,
      "outputs": []
    },
    {
      "cell_type": "code",
      "metadata": {
        "id": "mG0fO5iWothg"
      },
      "source": [
        "# Function that returns image reading from the path\n",
        "def get_input(path):\n",
        "    # Loading image from given path\n",
        "    # and resizing it to 150*150*3 format\n",
        "    ImageFile.LOAD_TRUNCATED_IMAGES = True\n",
        "    img = image.load_img(path, target_size=(150,150))\n",
        "    return(img)\n",
        "\n",
        "# Takes in image and preprocess it\n",
        "def process_input(img):\n",
        "    # Converting image to array\n",
        "    img_data = image.img_to_array(img)\n",
        "    # Adding one more dimension to array\n",
        "    img_data = np.expand_dims(img_data, axis=0)\n",
        "    #\n",
        "    img_data = preprocess_input(img_data)\n",
        "    return(img_data)\n"
      ],
      "execution_count": null,
      "outputs": []
    },
    {
      "cell_type": "code",
      "metadata": {
        "id": "tTdqCqT-of3I"
      },
      "source": [
        "img_dir = memes_path+'3300 Memes/'\n",
        "# Creating train, test and validation image path\n",
        "train_img_path = create_img_path(train_data,'image_name', img_dir)\n",
        "valid_img_path = create_img_path(valid_data,'image_name', img_dir)\n",
        "test_img_path = create_img_path(test_data,'image_name', img_dir)"
      ],
      "execution_count": null,
      "outputs": []
    },
    {
      "cell_type": "code",
      "metadata": {
        "id": "YJtMHxj91Ve-"
      },
      "source": [
        "# Create an array of training images\n",
        "train_images = []\n",
        "for i in train_img_path:\n",
        "  input_img = get_input(i)\n",
        "  input_img = process_input(input_img)\n",
        "  train_images.append(input_img[0])\n",
        "  print(i)\n",
        "\n",
        "# convert into numpy array\n",
        "train_image = np.array(train_images)\n",
        "print(train_image.shape)"
      ],
      "execution_count": null,
      "outputs": []
    },
    {
      "cell_type": "code",
      "metadata": {
        "id": "ohQMSop42dCS"
      },
      "source": [
        "import pickle as pkl\n",
        "with open(main_path+'train_image.pkl','wb') as f:\n",
        "    pkl.dump(train_image, f)"
      ],
      "execution_count": null,
      "outputs": []
    },
    {
      "cell_type": "code",
      "source": [
        "# Create an array of test images\n",
        "valid_images = []\n",
        "for i in valid_img_path:\n",
        "  input_img = get_input(i)\n",
        "  input_img = process_input(input_img)\n",
        "  valid_images.append(input_img[0])\n",
        "\n",
        "# convert into numpy array\n",
        "valid_image = np.array(valid_images)\n",
        "print(valid_image.shape)"
      ],
      "metadata": {
        "colab": {
          "base_uri": "https://localhost:8080/"
        },
        "id": "b3FjkXkAlmWf",
        "outputId": "1c0cb9a4-969c-4d43-c60a-9859e7ba7fd9"
      },
      "execution_count": null,
      "outputs": [
        {
          "output_type": "stream",
          "name": "stdout",
          "text": [
            "(375, 150, 150, 3)\n"
          ]
        }
      ]
    },
    {
      "cell_type": "code",
      "source": [
        "import pickle as pkl\n",
        "with open(main_path+'valid_image.pkl','wb') as f:\n",
        "    pkl.dump(valid_image, f)"
      ],
      "metadata": {
        "id": "6uZsHfO6mDtm"
      },
      "execution_count": null,
      "outputs": []
    },
    {
      "cell_type": "code",
      "metadata": {
        "colab": {
          "base_uri": "https://localhost:8080/"
        },
        "id": "6qL2axtfXaTD",
        "outputId": "47590e64-6491-47c4-cb83-bca1bafb1832"
      },
      "source": [
        "# Create an array of test images\n",
        "test_images = []\n",
        "for i in test_img_path:\n",
        "  input_img = get_input(i)\n",
        "  input_img = process_input(input_img)\n",
        "  test_images.append(input_img[0])\n",
        "\n",
        "# convert into numpy array\n",
        "test_image = np.array(test_images)\n",
        "print(test_image.shape)"
      ],
      "execution_count": null,
      "outputs": [
        {
          "output_type": "stream",
          "name": "stdout",
          "text": [
            "(416, 150, 150, 3)\n"
          ]
        }
      ]
    },
    {
      "cell_type": "code",
      "metadata": {
        "id": "aKmaIa12S5BR"
      },
      "source": [
        "import pickle as pkl\n",
        "with open(main_path+'test_image.pkl','wb') as f:\n",
        "    pkl.dump(test_image, f)"
      ],
      "execution_count": null,
      "outputs": []
    },
    {
      "cell_type": "markdown",
      "metadata": {
        "id": "ods1PQP5Tldi"
      },
      "source": [
        "#Image Fetching"
      ]
    },
    {
      "cell_type": "code",
      "metadata": {
        "colab": {
          "base_uri": "https://localhost:8080/"
        },
        "id": "tPktz8fiTgZ9",
        "outputId": "dd845aa7-a73f-48a7-9e83-f3b036475512"
      },
      "source": [
        "import pickle as pkl\n",
        "\n",
        "## Train image\n",
        "with open(main_path+'train_image.pkl','rb') as f:\n",
        "  train_image = pkl.load(f)\n",
        "  print(\"Training Images:-- \",train_image.shape)\n",
        "\n",
        "## Valid image\n",
        "with open(main_path+'valid_image.pkl','rb') as f:\n",
        "  valid_image = pkl.load(f)\n",
        "  print(\"Valid Images:-- \",valid_image.shape)\n",
        "\n",
        "## Test image\n",
        "with open(main_path+'test_image.pkl','rb') as f:\n",
        "  test_image = pkl.load(f)\n",
        "  print(\"Test Images:-- \",test_image.shape)"
      ],
      "execution_count": null,
      "outputs": [
        {
          "output_type": "stream",
          "name": "stdout",
          "text": [
            "Training Images:--  (3365, 150, 150, 3)\n",
            "Valid Images:--  (375, 150, 150, 3)\n",
            "Test Images:--  (416, 150, 150, 3)\n"
          ]
        }
      ]
    },
    {
      "cell_type": "markdown",
      "metadata": {
        "id": "wkxjIwRe-0Yi"
      },
      "source": [
        "#Captions Cleaning"
      ]
    },
    {
      "cell_type": "code",
      "source": [
        "stp_path = '/content/drive/My Drive/Colab Notebooks/NLP Projects/Document Categorization/'\n",
        "stp = open(stp_path+'bangla_stopwords.txt','r',encoding='utf-8').read().split()"
      ],
      "metadata": {
        "id": "AWlD6qpp09hp"
      },
      "execution_count": null,
      "outputs": []
    },
    {
      "cell_type": "code",
      "metadata": {
        "id": "2KQ85ABT_CvU"
      },
      "source": [
        "'''\n",
        "Text Cleaning\n",
        "'''\n",
        "def text_cleaning(row):\n",
        "   #to remove HTML tags\n",
        "  text = BeautifulSoup(row, 'html.parser').get_text()\n",
        "  d = re.sub(r'(https|http)?:\\/\\/(\\w|\\.|\\/|\\?|\\=|\\&|\\%)*\\b', '', text, flags=re.MULTILINE) #This line is for removing url\n",
        "  post = d.replace('\\n', '')\n",
        "  post = post.replace('—', ' ')\n",
        "  post = post.replace('।', ' ')\n",
        "  text = ''.join([c for c in post if c not in string.punctuation])\n",
        "  # to remove special characters\n",
        "  pattern = r'^\\s*|\\s\\s*'\n",
        "  text = re.sub(pattern, ' ', text).strip()\n",
        "  # convert into lower case\n",
        "  text = text.lower()\n",
        "  # Stopword\n",
        "  #result = text.split()\n",
        "  #text = [word.strip() for word in result if word not in stp ]\n",
        "  #text =\" \".join(text)\n",
        "\n",
        "  return text"
      ],
      "execution_count": null,
      "outputs": []
    },
    {
      "cell_type": "code",
      "metadata": {
        "id": "AXEQ5ijz_T_t",
        "colab": {
          "base_uri": "https://localhost:8080/"
        },
        "outputId": "0a13930a-fd5c-41c6-dcb1-132e1807ff50"
      },
      "source": [
        "#Removing punctuations\n",
        "train_data['cleaned'] = train_data['Captions'].apply(text_cleaning)\n",
        "valid_data['cleaned'] = valid_data['Captions'].apply(text_cleaning)\n",
        "test_data['cleaned'] = test_data['Captions'].apply(text_cleaning)\n",
        "\n",
        "\n",
        "## Data samples after cleaning\n",
        "print(\"Data samples after cleaning:\\n\")\n",
        "for i in range(100):\n",
        "  print(\"Original Data:===\\n\",train_data.Captions[i],\"\\nCleaned Data:===\\n\",train_data.cleaned[i], \"\\nLabel:== \",train_data.Label[i])"
      ],
      "execution_count": null,
      "outputs": [
        {
          "output_type": "stream",
          "name": "stdout",
          "text": [
            "Data samples after cleaning:\n",
            "\n",
            "Original Data:===\n",
            " যখন কোন মেয়ে আমার ডিপি তে লাভ রিয়েক্ট দেয় আমি-  \n",
            "Cleaned Data:===\n",
            " যখন কোন মেয়ে আমার ডিপি তে লাভ রিয়েক্ট দেয় আমি \n",
            "Label:==  not-hate\n",
            "Original Data:===\n",
            " বিয়ের আগে মা এগুলো কি রান্না করছ একটুও স্বাদ হয়নি! বিয়ের পরে জান কবে এই রান্না শিখলে দারুণ হইছে! \n",
            "Cleaned Data:===\n",
            " বিয়ের আগে মা এগুলো কি রান্না করছ একটুও স্বাদ হয়নি বিয়ের পরে জান কবে এই রান্না শিখলে দারুণ হইছে \n",
            "Label:==  not-hate\n",
            "Original Data:===\n",
            " চিকচিক করে বালি কোথাও নাই কাঁদা মুখ খানা সাদা তার হাত দুটো কেন কালা ?  \n",
            "Cleaned Data:===\n",
            " চিকচিক করে বালি কোথাও নাই কাঁদা মুখ খানা সাদা তার হাত দুটো কেন কালা \n",
            "Label:==  hate\n",
            "Original Data:===\n",
            " বাংলাদেশের বিরুদ্ধে লড়তে প্রস্তুত মিয়ানমার!  আয় থাপ্পরায় ইয়াবার পিনিক নামায় দিমু! \n",
            "Cleaned Data:===\n",
            " বাংলাদেশের বিরুদ্ধে লড়তে প্রস্তুত মিয়ানমার আয় থাপ্পরায় ইয়াবার পিনিক নামায় দিমু \n",
            "Label:==  not-hate\n",
            "Original Data:===\n",
            " যখন  তুমি সবে মাত্র Bathroom থেকে বেরিয়েছো আর সামনে ক্রাশকে দেখতে পাও  \n",
            "Cleaned Data:===\n",
            " যখন তুমি সবে মাত্র bathroom থেকে বেরিয়েছো আর সামনে ক্রাশকে দেখতে পাও \n",
            "Label:==  not-hate\n",
            "Original Data:===\n",
            " আজ সারা রাত দেব, জেতার আনন্দ   বলছে কী এসব ! এতজনকে সামলাবে কী করে একা !   পার্টি দেব পার্টি   \n",
            "Cleaned Data:===\n",
            " আজ সারা রাত দেব জেতার আনন্দ বলছে কী এসব এতজনকে সামলাবে কী করে একা পার্টি দেব পার্টি \n",
            "Label:==  hate\n",
            "Original Data:===\n",
            " ন্যায়না সাইফ তোমাকে এমন জায়গায় মারতে চাচ্ছে যেখানে পোরে গেলেও কোন সমস্যা হয় না   শালা ঢ্যামনা , অনিলের ফাদে পড়েছে  \n",
            "Cleaned Data:===\n",
            " ন্যায়না সাইফ তোমাকে এমন জায়গায় মারতে চাচ্ছে যেখানে পোরে গেলেও কোন সমস্যা হয় না শালা ঢ্যামনা অনিলের ফাদে পড়েছে \n",
            "Label:==  hate\n",
            "Original Data:===\n",
            " আমাকে যখন আম্মু প্রথমবার নার্সারি এর ক্লাস এ রেখে আসে  \n",
            "Cleaned Data:===\n",
            " আমাকে যখন আম্মু প্রথমবার নার্সারি এর ক্লাস এ রেখে আসে \n",
            "Label:==  not-hate\n",
            "Original Data:===\n",
            " When you're happy cuz exam is over and then realize the real exam will be at হাশরের ময়দান   \n",
            "Cleaned Data:===\n",
            " when youre happy cuz exam is over and then realize the real exam will be at হাশরের ময়দান \n",
            "Label:==  not-hate\n",
            "Original Data:===\n",
            " প্রতিদিন নিয়মিত UC ব্রাউজার এ ঢোকার পর    UC browser to me: তুই তো মৃত্যুর পর সোজা জাহান্নামে যাবি   \n",
            "Cleaned Data:===\n",
            " প্রতিদিন নিয়মিত uc ব্রাউজার এ ঢোকার পর uc browser to me তুই তো মৃত্যুর পর সোজা জাহান্নামে যাবি \n",
            "Label:==  not-hate\n",
            "Original Data:===\n",
            " ভার্সিটির বড় ভাই    আমি*    কুমুদিনীর মেয়ে  \n",
            "Cleaned Data:===\n",
            " ভার্সিটির বড় ভাই আমি কুমুদিনীর মেয়ে \n",
            "Label:==  hate\n",
            "Original Data:===\n",
            " মিনিটে মিনিটে মিমস শেয়ার করা ফ্রেন্ড   আমি   তোরে যে কি বাল দেইখা লিস্টে নিছিলাম  \n",
            "Cleaned Data:===\n",
            " মিনিটে মিনিটে মিমস শেয়ার করা ফ্রেন্ড আমি তোরে যে কি বাল দেইখা লিস্টে নিছিলাম \n",
            "Label:==  not-hate\n",
            "Original Data:===\n",
            " আম্মু যখন আমাকে মারে  ৫ বছর বয়সী আমিঃ  দাদা আমাকে  মারছে  \n",
            "Cleaned Data:===\n",
            " আম্মু যখন আমাকে মারে ৫ বছর বয়সী আমিঃ দাদা আমাকে মারছে \n",
            "Label:==  not-hate\n",
            "Original Data:===\n",
            " Before being বউদি    After being বউদি  \n",
            "Cleaned Data:===\n",
            " before being বউদি after being বউদি \n",
            "Label:==  hate\n",
            "Original Data:===\n",
            " এশিয়া কাপে অংশগ্রহন করব ।   আসছি আমি ...... \n",
            "Cleaned Data:===\n",
            " এশিয়া কাপে অংশগ্রহন করব আসছি আমি \n",
            "Label:==  hate\n",
            "Original Data:===\n",
            " She - I bet he is thinking about helping the students in the protest.    Ayman - Accha Robi theke check ta ekhono ashlona keno ?   \n",
            "Cleaned Data:===\n",
            " she i bet he is thinking about helping the students in the protest ayman accha robi theke check ta ekhono ashlona keno \n",
            "Label:==  hate\n",
            "Original Data:===\n",
            " বাইয়া একটা গান শুনাই মধু হ‌ই হ‌ই বিষ হাওয়াইলা! \n",
            "Cleaned Data:===\n",
            " বাইয়া একটা গান শুনাই মধু হ‌ই হ‌ই বিষ হাওয়াইলা \n",
            "Label:==  not-hate\n",
            "Original Data:===\n",
            " সারাবছর স্কুল খোলা রাখার পর    সৃষ্টি    সরকার   ভাল রেজাল্ট    বিন্দুবাসিনী  \n",
            "Cleaned Data:===\n",
            " সারাবছর স্কুল খোলা রাখার পর সৃষ্টি সরকার ভাল রেজাল্ট বিন্দুবাসিনী \n",
            "Label:==  not-hate\n",
            "Original Data:===\n",
            " রোজ নিয়মিত পানি পান করে শরীর সুস্থ রাখায় আমাকে ধন্যবাদ দেয়া আমার কিডনি*     আইফোন ১২ কেনার উদ্দেশ্যে নিয়মিতভাবে কিডনির পরিচর্যা করা আমি*  \n",
            "Cleaned Data:===\n",
            " রোজ নিয়মিত পানি পান করে শরীর সুস্থ রাখায় আমাকে ধন্যবাদ দেয়া আমার কিডনি আইফোন ১২ কেনার উদ্দেশ্যে নিয়মিতভাবে কিডনির পরিচর্যা করা আমি \n",
            "Label:==  not-hate\n",
            "Original Data:===\n",
            " ডিয়ার বাংলাদেশ ,   কাপ জেতার আশা ছেড়ে দাও     এটা ভেবে খুশি হও যে, তোমরা ভারতের সাথে ফাইনাল খেলছো  \n",
            "Cleaned Data:===\n",
            " ডিয়ার বাংলাদেশ কাপ জেতার আশা ছেড়ে দাও এটা ভেবে খুশি হও যে তোমরা ভারতের সাথে ফাইনাল খেলছো \n",
            "Label:==  hate\n",
            "Original Data:===\n",
            " একদিন আমিও অস্কার পাব    এক্সপ্রেশন পাল্টাবে কী তোর দাদু ?   কপি করা ছাড়বে কি তোর বাবা ?  \n",
            "Cleaned Data:===\n",
            " একদিন আমিও অস্কার পাব এক্সপ্রেশন পাল্টাবে কী তোর দাদু কপি করা ছাড়বে কি তোর বাবা \n",
            "Label:==  hate\n",
            "Original Data:===\n",
            " কী ছিল    কী হয়ে গেল     মার্ক করা বল টা কেমন ?  \n",
            "Cleaned Data:===\n",
            " কী ছিল কী হয়ে গেল মার্ক করা বল টা কেমন \n",
            "Label:==  hate\n",
            "Original Data:===\n",
            " First person of your taglist is gay !! \n",
            "Cleaned Data:===\n",
            " first person of your taglist is gay \n",
            "Label:==  not-hate\n",
            "Original Data:===\n",
            " বলতো ৫ এরপর কি হয়? ৬,৭ খুব ভালো তারপর? ৮,৯,১০ ভেরি গুড,তারপর??  গুলাম, বিবি, বাদশা \n",
            "Cleaned Data:===\n",
            " বলতো ৫ এরপর কি হয় ৬৭ খুব ভালো তারপর ৮৯১০ ভেরি গুডতারপর গুলাম বিবি বাদশা \n",
            "Label:==  not-hate\n",
            "Original Data:===\n",
            " Parents : *sleeping*     রাত ৩ টায় নবজাতক বাচ্চাঃ \n",
            "Cleaned Data:===\n",
            " parents sleeping রাত ৩ টায় নবজাতক বাচ্চাঃ \n",
            "Label:==  hate\n",
            "Original Data:===\n",
            "  আগে আমাকে কোন মেয়ে পাত্তা দিত না   ফির মসি নে বোলা  একটা DSLR কিনে ফটোগ্রাফি করতে     এখন ঝিঙ্কু মামনিগুলো আমার চারপাশে ঘিরে থাকে ফ্রিতে ফটো তোলার জন্য  \n",
            "Cleaned Data:===\n",
            " আগে আমাকে কোন মেয়ে পাত্তা দিত না ফির মসি নে বোলা একটা dslr কিনে ফটোগ্রাফি করতে এখন ঝিঙ্কু মামনিগুলো আমার চারপাশে ঘিরে থাকে ফ্রিতে ফটো তোলার জন্য \n",
            "Label:==  hate\n",
            "Original Data:===\n",
            " পাদ   Fart    আমার খোলা হাওয়া \n",
            "Cleaned Data:===\n",
            " পাদ fart আমার খোলা হাওয়া \n",
            "Label:==  not-hate\n",
            "Original Data:===\n",
            " জিপিএ-৫ পেয়েও যখন মনে পড়ে এ বছর কোন ফটোসেশন হবেনা**  Girls: ফাইট্টা যায় ... বুকটা ফাইট্টা যায়   \n",
            "Cleaned Data:===\n",
            " জিপিএ৫ পেয়েও যখন মনে পড়ে এ বছর কোন ফটোসেশন হবেনা girls ফাইট্টা যায় বুকটা ফাইট্টা যায় \n",
            "Label:==  not-hate\n",
            "Original Data:===\n",
            " জানু নতুন একটা ক্রিম পাইছি তুমি ৭ দিনেই ফর্সা হয়ে যাবা বাবু লাগবে না, আমি নতুন ফটো ইডিট এপ্স নামাইছি \n",
            "Cleaned Data:===\n",
            " জানু নতুন একটা ক্রিম পাইছি তুমি ৭ দিনেই ফর্সা হয়ে যাবা বাবু লাগবে না আমি নতুন ফটো ইডিট এপ্স নামাইছি \n",
            "Label:==  not-hate\n",
            "Original Data:===\n",
            " Everyone: Eid er dress kinsos ?   Me: Hoga kinsi*    Bal kinsi*  \n",
            "Cleaned Data:===\n",
            " everyone eid er dress kinsos me hoga kinsi bal kinsi \n",
            "Label:==  not-hate\n",
            "Original Data:===\n",
            " এবার আমার এক্টিং এ নতুন কিছু আনতে চলেছি     আমার নতুন নতুন মডেল আসলেও তোর এক্টিং এ নতুন কিছু আসবে না   \n",
            "Cleaned Data:===\n",
            " এবার আমার এক্টিং এ নতুন কিছু আনতে চলেছি আমার নতুন নতুন মডেল আসলেও তোর এক্টিং এ নতুন কিছু আসবে না \n",
            "Label:==  hate\n",
            "Original Data:===\n",
            " এসেছিলাম একা    যেতে হবে একা    মাঝখানে এক খানকিরপোলার সাথে দেখা  \n",
            "Cleaned Data:===\n",
            " এসেছিলাম একা যেতে হবে একা মাঝখানে এক খানকিরপোলার সাথে দেখা \n",
            "Label:==  hate\n",
            "Original Data:===\n",
            " পাকিস্তান উৎপাদন করে ফেন্সিডিল মায়ানমার উৎপাদন করে ইয়াবা বাংলাদেশ উৎপাদন করে GPA-5 \n",
            "Cleaned Data:===\n",
            " পাকিস্তান উৎপাদন করে ফেন্সিডিল মায়ানমার উৎপাদন করে ইয়াবা বাংলাদেশ উৎপাদন করে gpa5 \n",
            "Label:==  not-hate\n",
            "Original Data:===\n",
            " মেয়েদের থেকে ছেলেদের পাশের হার বেশি হওয়া শর্তে পত্রিকায় মেয়েদের ছবি আসে কেন ?  কারণঃ \n",
            "Cleaned Data:===\n",
            " মেয়েদের থেকে ছেলেদের পাশের হার বেশি হওয়া শর্তে পত্রিকায় মেয়েদের ছবি আসে কেন কারণঃ \n",
            "Label:==  hate\n",
            "Original Data:===\n",
            " হ্যাঁ দেখেছি  Avengers Infinity war দেখেছিস ?    টাইগার সোরফ   ফেভারিট সুপারহিরো কে ?  তুই আজকে শেষ  \n",
            "Cleaned Data:===\n",
            " হ্যাঁ দেখেছি avengers infinity war দেখেছিস টাইগার সোরফ ফেভারিট সুপারহিরো কে তুই আজকে শেষ \n",
            "Label:==  hate\n",
            "Original Data:===\n",
            " শান্তিতে P*rn দেখতে থাকা আমি*   You have used 100% of 2GB-72Hours-TK45.Validity: \n",
            "Cleaned Data:===\n",
            " শান্তিতে prn দেখতে থাকা আমি you have used 100 of 2gb72hourstk45validity \n",
            "Label:==  not-hate\n",
            "Original Data:===\n",
            " Ammu : ফ্রিজ এ তো আর যায়গা নাই অবশিষ্ঠ কাচ্চি গুলা যে কই রাখি ?   Me :   \n",
            "Cleaned Data:===\n",
            " ammu ফ্রিজ এ তো আর যায়গা নাই অবশিষ্ঠ কাচ্চি গুলা যে কই রাখি me \n",
            "Label:==  not-hate\n",
            "Original Data:===\n",
            " কিরে,ফিজিক্স পরীক্ষার প্রস্তুতি কেমন?  ভাল না ভাই কী করমু এখন?  প্রশ্ন লাগবে নাকি?  হ ভাই লাগবে দেন প্রত্যেক অধ্যায়ের শেষে দেখ প্রশ্ন আছে অইখান থেকে নিয়ে নে।  \n",
            "Cleaned Data:===\n",
            " কিরেফিজিক্স পরীক্ষার প্রস্তুতি কেমন ভাল না ভাই কী করমু এখন প্রশ্ন লাগবে নাকি হ ভাই লাগবে দেন প্রত্যেক অধ্যায়ের শেষে দেখ প্রশ্ন আছে অইখান থেকে নিয়ে নে \n",
            "Label:==  not-hate\n",
            "Original Data:===\n",
            " দোস্ত চিনির ডিব্বায় খালি পিঁপড়া ধরে তোর বাসায় এরকম হয়না! আরে বলদ!!! আমি চিনির ডিব্বায় লবন লিখা রাখছি, যাতে পিঁপড়া না ধরে!!! \n",
            "Cleaned Data:===\n",
            " দোস্ত চিনির ডিব্বায় খালি পিঁপড়া ধরে তোর বাসায় এরকম হয়না আরে বলদ আমি চিনির ডিব্বায় লবন লিখা রাখছি যাতে পিঁপড়া না ধরে \n",
            "Label:==  not-hate\n",
            "Original Data:===\n",
            " স্যার ঐ লোকের শরীরে ২টা বলেট পাওয়া গেছে। এটার মানে বুঝছো দয়া? এর মানে হল ঐ লোককে গুলি করে মারা হইছে! \n",
            "Cleaned Data:===\n",
            " স্যার ঐ লোকের শরীরে ২টা বলেট পাওয়া গেছে এটার মানে বুঝছো দয়া এর মানে হল ঐ লোককে গুলি করে মারা হইছে \n",
            "Label:==  not-hate\n",
            "Original Data:===\n",
            " ডাটা প্যাক না কিনেই যখন আপনি ব্রাউজিং শুরু করেন   সিম কোম্পানিঃ  আপনিঃ  \n",
            "Cleaned Data:===\n",
            " ডাটা প্যাক না কিনেই যখন আপনি ব্রাউজিং শুরু করেন সিম কোম্পানিঃ আপনিঃ \n",
            "Label:==  not-hate\n",
            "Original Data:===\n",
            " বাস মনে করে উঠছিলাম! পরে বুঝলাম! এইটা তো বাস না! বড়সর একটা ওভেন আছিলো! \n",
            "Cleaned Data:===\n",
            " বাস মনে করে উঠছিলাম পরে বুঝলাম এইটা তো বাস না বড়সর একটা ওভেন আছিলো \n",
            "Label:==  not-hate\n",
            "Original Data:===\n",
            " Can you hear me Mr. Stark ?    মৃত লাশকে কখনো কথা বলতে দেখছো ?   \n",
            "Cleaned Data:===\n",
            " can you hear me mr stark মৃত লাশকে কখনো কথা বলতে দেখছো \n",
            "Label:==  not-hate\n",
            "Original Data:===\n",
            " stop continue    continue but slowly \n",
            "Cleaned Data:===\n",
            " stop continue continue but slowly \n",
            "Label:==  hate\n",
            "Original Data:===\n",
            " মেয়েটি দেখতে কুৎসিত , এটার ইংলিশ কি হবে  DAT GIRL LOOKS LIKE \"SAHARA KHATUN\" \n",
            "Cleaned Data:===\n",
            " মেয়েটি দেখতে কুৎসিত এটার ইংলিশ কি হবে dat girl looks like sahara khatun \n",
            "Label:==  hate\n",
            "Original Data:===\n",
            " আমাদের প্রত্যেকের এমন বন্ধু আছে   যাদের দরকারের সময় পাওয়া যায় না কিন্তু দাওয়াতে সবার আগে পাওয়া যায়    \n",
            "Cleaned Data:===\n",
            " আমাদের প্রত্যেকের এমন বন্ধু আছে যাদের দরকারের সময় পাওয়া যায় না কিন্তু দাওয়াতে সবার আগে পাওয়া যায় \n",
            "Label:==  not-hate\n",
            "Original Data:===\n",
            " যখন কোন Teacher বলে   \"সত্যটা বলো, তাহলে আর কিচ্ছু বলবো না\"  ভাইজান, আমার কপালে কি বোকাচোদা লেখা আছে ?  \n",
            "Cleaned Data:===\n",
            " যখন কোন teacher বলে সত্যটা বলো তাহলে আর কিচ্ছু বলবো না ভাইজান আমার কপালে কি বোকাচোদা লেখা আছে \n",
            "Label:==  not-hate\n",
            "Original Data:===\n",
            " প্রতিটি মেয়ের স্বপ্ন থালে , যে তার বর অনেক রকম স্টাইল জানবে   \n",
            "Cleaned Data:===\n",
            " প্রতিটি মেয়ের স্বপ্ন থালে যে তার বর অনেক রকম স্টাইল জানবে \n",
            "Label:==  not-hate\n",
            "Original Data:===\n",
            " এমন এক জেলায় বসবাস করি     যেখানে কারেন্ট ছাড়া কোনো মেয়ে নাই ... \n",
            "Cleaned Data:===\n",
            " এমন এক জেলায় বসবাস করি যেখানে কারেন্ট ছাড়া কোনো মেয়ে নাই \n",
            "Label:==  hate\n",
            "Original Data:===\n",
            " Good Night   Good N8    Gd 98    Gd 3 2 2 3 \n",
            "Cleaned Data:===\n",
            " good night good n8 gd 98 gd 3 2 2 3 \n",
            "Label:==  not-hate\n",
            "Original Data:===\n",
            " যখন কোন মেয়ে তার বাবাকে বলে \"আজ আমার বাবুটাকে নিয়ে আসব তোমাদের সাথে দেখা করাতে \"     বাবু না বাল খালি গু# মারার তাল  \n",
            "Cleaned Data:===\n",
            " যখন কোন মেয়ে তার বাবাকে বলে আজ আমার বাবুটাকে নিয়ে আসব তোমাদের সাথে দেখা করাতে বাবু না বাল খালি গু মারার তাল \n",
            "Label:==  hate\n",
            "Original Data:===\n",
            " যখন বাড়ির লোক খবর পায়    পিকনিকে যেয়ে মদ খেতে শুরু করেছি !  \n",
            "Cleaned Data:===\n",
            " যখন বাড়ির লোক খবর পায় পিকনিকে যেয়ে মদ খেতে শুরু করেছি \n",
            "Label:==  not-hate\n",
            "Original Data:===\n",
            " সৃষ্টির মেয়ে    সরকারি চাকুরী   \n",
            "Cleaned Data:===\n",
            " সৃষ্টির মেয়ে সরকারি চাকুরী \n",
            "Label:==  hate\n",
            "Original Data:===\n",
            " When I see a guy getting tensed over a pimple .  Why are you gay ?  \n",
            "Cleaned Data:===\n",
            " when i see a guy getting tensed over a pimple why are you gay \n",
            "Label:==  not-hate\n",
            "Original Data:===\n",
            " মামা মোবাইলে খেলা দেখমু কিভাবে? মোবাইলের ক্যামেরা on করে টিভির সামনে ধরে রাখ \n",
            "Cleaned Data:===\n",
            " মামা মোবাইলে খেলা দেখমু কিভাবে মোবাইলের ক্যামেরা on করে টিভির সামনে ধরে রাখ \n",
            "Label:==  not-hate\n",
            "Original Data:===\n",
            " প্লিজ না    যৌনতা দেবো ফ্রিতে যদি সতীত্ব না চাস  \n",
            "Cleaned Data:===\n",
            " প্লিজ না যৌনতা দেবো ফ্রিতে যদি সতীত্ব না চাস \n",
            "Label:==  hate\n",
            "Original Data:===\n",
            " ভাই বার্থডেতে কোনো গিফট দিবি না ?   ওকে KFC-তে পার্টি দেবো... চলো,    Emotion নিয়ে খেলিস বা** \n",
            "Cleaned Data:===\n",
            " ভাই বার্থডেতে কোনো গিফট দিবি না ওকে kfcতে পার্টি দেবো চলো emotion নিয়ে খেলিস বা \n",
            "Label:==  not-hate\n",
            "Original Data:===\n",
            " এলাকার মুরব্বিঃ   এই ছেলে সালাম দেয়া শেখোনাই ?  Me:  চেচান কে ? পেটে কি কিরমি আছে ?  \n",
            "Cleaned Data:===\n",
            " এলাকার মুরব্বিঃ এই ছেলে সালাম দেয়া শেখোনাই me চেচান কে পেটে কি কিরমি আছে \n",
            "Label:==  hate\n",
            "Original Data:===\n",
            " Srilankan Fans rn !  হায়রে হায়রে   Srilanka \n",
            "Cleaned Data:===\n",
            " srilankan fans rn হায়রে হায়রে srilanka \n",
            "Label:==  not-hate\n",
            "Original Data:===\n",
            " Extraction  দেখার পর সবাইঃ   বাঙালি একটা জিনিস পাইলে চুইদা ভোদাটার অবস্থা এমন করবো যেন মাথা ঢুকানো যায়  \n",
            "Cleaned Data:===\n",
            " extraction দেখার পর সবাইঃ বাঙালি একটা জিনিস পাইলে চুইদা ভোদাটার অবস্থা এমন করবো যেন মাথা ঢুকানো যায় \n",
            "Label:==  hate\n",
            "Original Data:===\n",
            " Don't compare these legend    with these ultra legend  \n",
            "Cleaned Data:===\n",
            " dont compare these legend with these ultra legend \n",
            "Label:==  hate\n",
            "Original Data:===\n",
            " সবজি ওয়ালাঃ ভাই ধনেপাতা দেবো?   আমিঃ ধনে না ! হাতে দেন !   আমিঃ   সবজি ওয়ালাঃ  \n",
            "Cleaned Data:===\n",
            " সবজি ওয়ালাঃ ভাই ধনেপাতা দেবো আমিঃ ধনে না হাতে দেন আমিঃ সবজি ওয়ালাঃ \n",
            "Label:==  not-hate\n",
            "Original Data:===\n",
            " What I order from online     What I get in delivery  \n",
            "Cleaned Data:===\n",
            " what i order from online what i get in delivery \n",
            "Label:==  hate\n",
            "Original Data:===\n",
            " Ammu- বই খোলা রাখতে নেই   শয়তানে পড়ে ফেলবে !  Sir- বিদ্যা অর্জন করা ফরয    Nice Me -  I Am Inspired By Mom And Teacher... Now Peace    \n",
            "Cleaned Data:===\n",
            " ammu বই খোলা রাখতে নেই শয়তানে পড়ে ফেলবে sir বিদ্যা অর্জন করা ফরয nice me i am inspired by mom and teacher now peace \n",
            "Label:==  not-hate\n",
            "Original Data:===\n",
            " when a girl keeps starting at you and you try to act smart  \n",
            "Cleaned Data:===\n",
            " when a girl keeps starting at you and you try to act smart \n",
            "Label:==  not-hate\n",
            "Original Data:===\n",
            " আমি নাকি প্রতি ম্যাচে সাবাইকে  \"HAPPY\" বানায়ে দেই?  তাইলে তো মনে হয় আজকে সবাইকে \"ANUSHKA\" বানায়ে দিছি।  \n",
            "Cleaned Data:===\n",
            " আমি নাকি প্রতি ম্যাচে সাবাইকে happy বানায়ে দেই তাইলে তো মনে হয় আজকে সবাইকে anushka বানায়ে দিছি \n",
            "Label:==  not-hate\n",
            "Original Data:===\n",
            " 12ভাতারী   12ভাতারী pro \n",
            "Cleaned Data:===\n",
            " 12ভাতারী 12ভাতারী pro \n",
            "Label:==  hate\n",
            "Original Data:===\n",
            " বাংলাদেশ টেলিভিশন - বিটিভি     ভোটে দাড়ানোর গ্যাড়া সামলাতে না পেরে নির্বাচনের আগেই খাটে শুয়ে শুয়ে ভ্যালট বাক্সে ভোট ঢুকাচ্ছেন ন্যারো আলম ।  \n",
            "Cleaned Data:===\n",
            " বাংলাদেশ টেলিভিশন বিটিভি ভোটে দাড়ানোর গ্যাড়া সামলাতে না পেরে নির্বাচনের আগেই খাটে শুয়ে শুয়ে ভ্যালট বাক্সে ভোট ঢুকাচ্ছেন ন্যারো আলম \n",
            "Label:==  hate\n",
            "Original Data:===\n",
            " ফেচবুকে পাওয়া আজকের সেরা ছবি   বিদায় পিতীবি  \n",
            "Cleaned Data:===\n",
            " ফেচবুকে পাওয়া আজকের সেরা ছবি বিদায় পিতীবি \n",
            "Label:==  hate\n",
            "Original Data:===\n",
            " *Anything bad happens*  in the country     *সরকার    বিএনপি-জামাতের চক্রান্ত   \n",
            "Cleaned Data:===\n",
            " anything bad happens in the country সরকার বিএনপিজামাতের চক্রান্ত \n",
            "Label:==  hate\n",
            "Original Data:===\n",
            " *Bathing in winter be like*   বাবা গো   \n",
            "Cleaned Data:===\n",
            " bathing in winter be like বাবা গো \n",
            "Label:==  hate\n",
            "Original Data:===\n",
            " বালুপাস দাড়িয়ে বালু খাচ্ছি বালুর সাথে বালুকন্যা ভেসে আসবে এই আশায়... \n",
            "Cleaned Data:===\n",
            " বালুপাস দাড়িয়ে বালু খাচ্ছি বালুর সাথে বালুকন্যা ভেসে আসবে এই আশায় \n",
            "Label:==  not-hate\n",
            "Original Data:===\n",
            " বিজয়ের মাস আইসা পরসে এখন দেশপ্রেম দেখাইতে PROFILE PICTURE চেঞ্জ কইরা বাংলাদেশ এর পতাকা দিতে হবে \n",
            "Cleaned Data:===\n",
            " বিজয়ের মাস আইসা পরসে এখন দেশপ্রেম দেখাইতে profile picture চেঞ্জ কইরা বাংলাদেশ এর পতাকা দিতে হবে \n",
            "Label:==  not-hate\n",
            "Original Data:===\n",
            " পাঠ্য বই কে কে আনেনি চেক করতে আসা স্যার     ব্যাঞ্চের সামনে বই না পেয়ে স্যারের হাতে মার খাওয়া আমার বন্ধুরা     এদিকে অন্য সাব্জেক্টের বই ব্যাঞ্চের সামনে রেখে মার খাওয়া থেকে বেঁচে যাওয়া আমি  \n",
            "Cleaned Data:===\n",
            " পাঠ্য বই কে কে আনেনি চেক করতে আসা স্যার ব্যাঞ্চের সামনে বই না পেয়ে স্যারের হাতে মার খাওয়া আমার বন্ধুরা এদিকে অন্য সাব্জেক্টের বই ব্যাঞ্চের সামনে রেখে মার খাওয়া থেকে বেঁচে যাওয়া আমি \n",
            "Label:==  not-hate\n",
            "Original Data:===\n",
            " When everyone in your group starts singing a song you never heard before  \n",
            "Cleaned Data:===\n",
            " when everyone in your group starts singing a song you never heard before \n",
            "Label:==  not-hate\n",
            "Original Data:===\n",
            " সবাই বেহেস্তে যাইতে চায় কিন্তু কেউ মরতে চায়না \n",
            "Cleaned Data:===\n",
            " সবাই বেহেস্তে যাইতে চায় কিন্তু কেউ মরতে চায়না \n",
            "Label:==  not-hate\n",
            "Original Data:===\n",
            " You waited.     Of course.  \n",
            "Cleaned Data:===\n",
            " you waited of course \n",
            "Label:==  hate\n",
            "Original Data:===\n",
            " Afran Nisho Natok  *kamlachodas     Avengers : Endgame  \n",
            "Cleaned Data:===\n",
            " afran nisho natok kamlachodas avengers endgame \n",
            "Label:==  not-hate\n",
            "Original Data:===\n",
            " বেকার প্রকৌশলী'স*    বেকার *ডাক্তার'স     ভর্তিচ্ছু শিক্ষার্থীদের বোকা বানানো      \n",
            "Cleaned Data:===\n",
            " বেকার প্রকৌশলীস বেকার ডাক্তারস ভর্তিচ্ছু শিক্ষার্থীদের বোকা বানানো \n",
            "Label:==  not-hate\n",
            "Original Data:===\n",
            " দেখ দেখ ওই ছেলেটাও  BTS  ফ্যান  \n",
            "Cleaned Data:===\n",
            " দেখ দেখ ওই ছেলেটাও bts ফ্যান \n",
            "Label:==  hate\n",
            "Original Data:===\n",
            " আসছে ১৬ই ডিসেম্বর আসুন সবাই মিলে নিজেদের ফেসবুক পাসোওয়ার্ড BANGLADESH রাখি একটা বিশ্ব রেকর্ড হয়ে যাক \n",
            "Cleaned Data:===\n",
            " আসছে ১৬ই ডিসেম্বর আসুন সবাই মিলে নিজেদের ফেসবুক পাসোওয়ার্ড bangladesh রাখি একটা বিশ্ব রেকর্ড হয়ে যাক \n",
            "Label:==  not-hate\n",
            "Original Data:===\n",
            " কমলাপুর Station এ ঘুরো ঘুরি করার পর    random দালালঃ   তোর কি গাঞ্জা লাগবো !?    \n",
            "Cleaned Data:===\n",
            " কমলাপুর station এ ঘুরো ঘুরি করার পর random দালালঃ তোর কি গাঞ্জা লাগবো \n",
            "Label:==  not-hate\n",
            "Original Data:===\n",
            " জান ওয়ার্ল্ডকাপ তোমার পছন্দের দল কোনটা?  নেদারল্যান্ড আর অপছন্দের দল? হল্যান্ড এতগুলা পচা \n",
            "Cleaned Data:===\n",
            " জান ওয়ার্ল্ডকাপ তোমার পছন্দের দল কোনটা নেদারল্যান্ড আর অপছন্দের দল হল্যান্ড এতগুলা পচা \n",
            "Label:==  not-hate\n",
            "Original Data:===\n",
            " যখন লঙ্কায় আগুন লেগেছিল    লঙ্কা   হনুমান  \n",
            "Cleaned Data:===\n",
            " যখন লঙ্কায় আগুন লেগেছিল লঙ্কা হনুমান \n",
            "Label:==  not-hate\n",
            "Original Data:===\n",
            " পাশের বাড়ির চৌধুরী সাহেব এর গরু    *Me  নিজের গরু  \n",
            "Cleaned Data:===\n",
            " পাশের বাড়ির চৌধুরী সাহেব এর গরু me নিজের গরু \n",
            "Label:==  hate\n",
            "Original Data:===\n",
            " ইতিহাস সাক্ষী যে স্বামী যত বেশি চুপচাপ এবং মিতভাষী সেই স্বামীর বিবাহিত জীবন এবং ব্যক্তিগত জীবন ততটুকু সুখী \n",
            "Cleaned Data:===\n",
            " ইতিহাস সাক্ষী যে স্বামী যত বেশি চুপচাপ এবং মিতভাষী সেই স্বামীর বিবাহিত জীবন এবং ব্যক্তিগত জীবন ততটুকু সুখী \n",
            "Label:==  not-hate\n",
            "Original Data:===\n",
            " *Me  *করলা ভাজি   Ammu*  \n",
            "Cleaned Data:===\n",
            " me করলা ভাজি ammu \n",
            "Label:==  not-hate\n",
            "Original Data:===\n",
            " টি টোয়েন্টি ক্রিকেটে 62 ম্যাচে 2102 রান করেন , এভারেজ - 48.88   হাফ সেঞ্চুরী - 18 টা  \n",
            "Cleaned Data:===\n",
            " টি টোয়েন্টি ক্রিকেটে 62 ম্যাচে 2102 রান করেন এভারেজ 4888 হাফ সেঞ্চুরী 18 টা \n",
            "Label:==  not-hate\n",
            "Original Data:===\n",
            " আজ তো শ্রমিক দিবসের ছুটি । আজ বলো কাজে যাবে না   আজ বেশি কাস্টমার হবে ।   কাজে যেতেই হবে আমাকে   কোথায় কাজ কর তুমি ?    সেখানেই যেখানে 'Time is money'     না... না মধু  না... \n",
            "Cleaned Data:===\n",
            " আজ তো শ্রমিক দিবসের ছুটি আজ বলো কাজে যাবে না আজ বেশি কাস্টমার হবে কাজে যেতেই হবে আমাকে কোথায় কাজ কর তুমি সেখানেই যেখানে time is money না না মধু না \n",
            "Label:==  hate\n",
            "Original Data:===\n",
            " যখন কেউ বলে \"বিশ্বাস করো আমি অন্য ছেলেদের মত না\"  \n",
            "Cleaned Data:===\n",
            " যখন কেউ বলে বিশ্বাস করো আমি অন্য ছেলেদের মত না \n",
            "Label:==  not-hate\n",
            "Original Data:===\n",
            " Ammu - নিচের থিকা ১০ টাকার কাচামরিচ  নিয়া আয় ।   i sleep     Friend -  দোস্ত জলদি নিচে নাম  Problem হইসে  একটা     real shit  \n",
            "Cleaned Data:===\n",
            " ammu নিচের থিকা ১০ টাকার কাচামরিচ নিয়া আয় i sleep friend দোস্ত জলদি নিচে নাম problem হইসে একটা real shit \n",
            "Label:==  not-hate\n",
            "Original Data:===\n",
            " Whe she sees a hot boy around her    just after breakup:  \n",
            "Cleaned Data:===\n",
            " whe she sees a hot boy around her just after breakup \n",
            "Label:==  hate\n",
            "Original Data:===\n",
            " থানা পাড়া মিমের বাসার সামনে দাড়াই থাকো কেন সারাদিন ?  \n",
            "Cleaned Data:===\n",
            " থানা পাড়া মিমের বাসার সামনে দাড়াই থাকো কেন সারাদিন \n",
            "Label:==  not-hate\n",
            "Original Data:===\n",
            " আমি রোজ রাতে ঘুমানোর আগে লাগাই বিছানার উপর দাঁড়াইয়া লাগাই চেয়ারের উপর দাঁড়াইয়া লাগাই আমি মশারী লাগানোর কথা বলতেছি \n",
            "Cleaned Data:===\n",
            " আমি রোজ রাতে ঘুমানোর আগে লাগাই বিছানার উপর দাঁড়াইয়া লাগাই চেয়ারের উপর দাঁড়াইয়া লাগাই আমি মশারী লাগানোর কথা বলতেছি \n",
            "Label:==  not-hate\n",
            "Original Data:===\n",
            " Boys Let's Confuse Girls   12:00 AM   3:00 AM    6:00 AM \n",
            "Cleaned Data:===\n",
            " boys lets confuse girls 1200 am 300 am 600 am \n",
            "Label:==  not-hate\n",
            "Original Data:===\n",
            " Care react নিয়ে চিল্লাতে থাকা পোলাপান    ১০ বছর ধরে dislike react এর  আশায় বসে থাকা আমি  \n",
            "Cleaned Data:===\n",
            " care react নিয়ে চিল্লাতে থাকা পোলাপান ১০ বছর ধরে dislike react এর আশায় বসে থাকা আমি \n",
            "Label:==  not-hate\n",
            "Original Data:===\n",
            " সম্প্রতি এক গবেষণায় প্রমাণিত হয়েছে যে... ঘুমের ট্যাবলেট এর চেয়ে পড়ার টেবিল বেশি কার্যকরী! \n",
            "Cleaned Data:===\n",
            " সম্প্রতি এক গবেষণায় প্রমাণিত হয়েছে যে ঘুমের ট্যাবলেট এর চেয়ে পড়ার টেবিল বেশি কার্যকরী \n",
            "Label:==  not-hate\n",
            "Original Data:===\n",
            " চোদসে  \n",
            "Cleaned Data:===\n",
            " চোদসে \n",
            "Label:==  not-hate\n",
            "Original Data:===\n",
            " *ভার্সিটি পড়ুয়া আপনি যখন আপনার বন্ধু ও তার প্রেমিকার ঝগড়া থামানোর চেষ্টা করেন    সদ্য জেএসসি অটো পাস করা তার গালফ্রেন্ডঃ     বেয়াদবি করো কেন?  জানো না বড়দের মাঝখানে কথা বলতে হয় না ! \n",
            "Cleaned Data:===\n",
            " ভার্সিটি পড়ুয়া আপনি যখন আপনার বন্ধু ও তার প্রেমিকার ঝগড়া থামানোর চেষ্টা করেন সদ্য জেএসসি অটো পাস করা তার গালফ্রেন্ডঃ বেয়াদবি করো কেন জানো না বড়দের মাঝখানে কথা বলতে হয় না \n",
            "Label:==  not-hate\n",
            "Original Data:===\n",
            " Student  পড়াশোনা    ল্যাদ, ঘুম, আড্ডা,  PUBG, chatting, etc...  \n",
            "Cleaned Data:===\n",
            " student পড়াশোনা ল্যাদ ঘুম আড্ডা pubg chatting etc \n",
            "Label:==  not-hate\n"
          ]
        }
      ]
    },
    {
      "cell_type": "markdown",
      "metadata": {
        "id": "eRGGhoSR-UNZ"
      },
      "source": [
        "#One Hot Encoding"
      ]
    },
    {
      "cell_type": "code",
      "metadata": {
        "id": "vfd2Z0c-3x6_"
      },
      "source": [
        "encoder=OneHotEncoder(sparse=False)\n",
        "\n",
        "encoded_labels = pd.DataFrame (encoder.fit_transform(train_data[['Label']]))\n",
        "\n",
        "encoded_labels.columns = encoder.get_feature_names(['Label'])\n",
        "\n",
        "train_data= pd.concat([train_data, encoded_labels ], axis=1)"
      ],
      "execution_count": null,
      "outputs": []
    },
    {
      "cell_type": "code",
      "source": [
        "train_data.columns"
      ],
      "metadata": {
        "colab": {
          "base_uri": "https://localhost:8080/"
        },
        "id": "ow2t8YJ41ANm",
        "outputId": "27aafb3c-691b-485e-f8cc-1885e8505ec6"
      },
      "execution_count": null,
      "outputs": [
        {
          "output_type": "execute_result",
          "data": {
            "text/plain": [
              "Index(['image_name', 'Captions', 'Label_Hate', 'Label', 'enc_label', 'cleaned',\n",
              "       'Hate', 'Not-Hate', 'Label_hate', 'Label_not-hate'],\n",
              "      dtype='object')"
            ]
          },
          "metadata": {},
          "execution_count": 32
        }
      ]
    },
    {
      "cell_type": "code",
      "metadata": {
        "id": "alEhfx5H3-tX"
      },
      "source": [
        "train_data = train_data.rename(columns={'Label_hate':'Hate',\n",
        "                                        'Label_not-hate':'Not-Hate'\n",
        "                                       })"
      ],
      "execution_count": null,
      "outputs": []
    },
    {
      "cell_type": "code",
      "metadata": {
        "id": "-1kLyPROHDmm",
        "colab": {
          "base_uri": "https://localhost:8080/",
          "height": 659
        },
        "outputId": "4c95eb53-991f-4388-813c-59992efd22ec"
      },
      "source": [
        "train_data"
      ],
      "execution_count": null,
      "outputs": [
        {
          "output_type": "execute_result",
          "data": {
            "text/html": [
              "\n",
              "  <div id=\"df-138a02d0-4964-4ee6-9874-d02d4f83cad7\">\n",
              "    <div class=\"colab-df-container\">\n",
              "      <div>\n",
              "<style scoped>\n",
              "    .dataframe tbody tr th:only-of-type {\n",
              "        vertical-align: middle;\n",
              "    }\n",
              "\n",
              "    .dataframe tbody tr th {\n",
              "        vertical-align: top;\n",
              "    }\n",
              "\n",
              "    .dataframe thead th {\n",
              "        text-align: right;\n",
              "    }\n",
              "</style>\n",
              "<table border=\"1\" class=\"dataframe\">\n",
              "  <thead>\n",
              "    <tr style=\"text-align: right;\">\n",
              "      <th></th>\n",
              "      <th>image_name</th>\n",
              "      <th>Captions</th>\n",
              "      <th>Label_Hate</th>\n",
              "      <th>Label</th>\n",
              "      <th>enc_label</th>\n",
              "      <th>cleaned</th>\n",
              "      <th>Hate</th>\n",
              "      <th>Not-Hate</th>\n",
              "      <th>Hate</th>\n",
              "      <th>Not-Hate</th>\n",
              "    </tr>\n",
              "  </thead>\n",
              "  <tbody>\n",
              "    <tr>\n",
              "      <th>0</th>\n",
              "      <td>direct-offense (76).jpg</td>\n",
              "      <td>যখন কোন মেয়ে আমার ডিপি তে লাভ রিয়েক্ট দেয় আমি-</td>\n",
              "      <td>not-hate</td>\n",
              "      <td>not-hate</td>\n",
              "      <td>0</td>\n",
              "      <td>মেয়ে ডিপি তে লাভ রিয়েক্ট দেয়</td>\n",
              "      <td>0.0</td>\n",
              "      <td>1.0</td>\n",
              "      <td>0.0</td>\n",
              "      <td>1.0</td>\n",
              "    </tr>\n",
              "    <tr>\n",
              "      <th>1</th>\n",
              "      <td>KAM (427).jpg</td>\n",
              "      <td>বিয়ের আগে মা এগুলো কি রান্না করছ একটুও স্বাদ হ...</td>\n",
              "      <td>not-hate</td>\n",
              "      <td>not-hate</td>\n",
              "      <td>0</td>\n",
              "      <td>বিয়ের মা এগুলো রান্না করছ একটুও স্বাদ হয়নি বিয়...</td>\n",
              "      <td>0.0</td>\n",
              "      <td>1.0</td>\n",
              "      <td>0.0</td>\n",
              "      <td>1.0</td>\n",
              "    </tr>\n",
              "    <tr>\n",
              "      <th>2</th>\n",
              "      <td>ovodro_img (486).jpg</td>\n",
              "      <td>চিকচিক করে বালি কোথাও নাই কাঁদা মুখ খানা সাদা ...</td>\n",
              "      <td>hate_women</td>\n",
              "      <td>hate</td>\n",
              "      <td>1</td>\n",
              "      <td>চিকচিক বালি কোথাও কাঁদা মুখ খানা সাদা হাত কালা</td>\n",
              "      <td>1.0</td>\n",
              "      <td>0.0</td>\n",
              "      <td>1.0</td>\n",
              "      <td>0.0</td>\n",
              "    </tr>\n",
              "    <tr>\n",
              "      <th>3</th>\n",
              "      <td>KAM (225).jpg</td>\n",
              "      <td>বাংলাদেশের বিরুদ্ধে লড়তে প্রস্তুত মিয়ানমার!  আ...</td>\n",
              "      <td>not-hate</td>\n",
              "      <td>not-hate</td>\n",
              "      <td>0</td>\n",
              "      <td>বাংলাদেশের বিরুদ্ধে লড়তে প্রস্তুত মিয়ানমার আয় ...</td>\n",
              "      <td>0.0</td>\n",
              "      <td>1.0</td>\n",
              "      <td>0.0</td>\n",
              "      <td>1.0</td>\n",
              "    </tr>\n",
              "    <tr>\n",
              "      <th>4</th>\n",
              "      <td>ovodro_img (614).jpg</td>\n",
              "      <td>যখন  তুমি সবে মাত্র Bathroom থেকে বেরিয়েছো আর ...</td>\n",
              "      <td>not-hate</td>\n",
              "      <td>not-hate</td>\n",
              "      <td>0</td>\n",
              "      <td>সবে bathroom বেরিয়েছো ক্রাশকে পাও</td>\n",
              "      <td>0.0</td>\n",
              "      <td>1.0</td>\n",
              "      <td>0.0</td>\n",
              "      <td>1.0</td>\n",
              "    </tr>\n",
              "    <tr>\n",
              "      <th>...</th>\n",
              "      <td>...</td>\n",
              "      <td>...</td>\n",
              "      <td>...</td>\n",
              "      <td>...</td>\n",
              "      <td>...</td>\n",
              "      <td>...</td>\n",
              "      <td>...</td>\n",
              "      <td>...</td>\n",
              "      <td>...</td>\n",
              "      <td>...</td>\n",
              "    </tr>\n",
              "    <tr>\n",
              "      <th>3360</th>\n",
              "      <td>KAM (146).jpg</td>\n",
              "      <td>মামুনি, পড়তে বস! পড়মু না পড়মু না তোরে জুনায়েদে...</td>\n",
              "      <td>not-hate</td>\n",
              "      <td>not-hate</td>\n",
              "      <td>0</td>\n",
              "      <td>মামুনি পড়তে বস পড়মু পড়মু তোরে জুনায়েদের লগে বি...</td>\n",
              "      <td>0.0</td>\n",
              "      <td>1.0</td>\n",
              "      <td>0.0</td>\n",
              "      <td>1.0</td>\n",
              "    </tr>\n",
              "    <tr>\n",
              "      <th>3361</th>\n",
              "      <td>bangla-memes (197).jpg</td>\n",
              "      <td>রমযান মাসঃ   *approaching*   শয়তানঃ     বিপদের...</td>\n",
              "      <td>not-hate</td>\n",
              "      <td>not-hate</td>\n",
              "      <td>0</td>\n",
              "      <td>রমযান মাসঃ approaching শয়তানঃ বিপদের গন্ধ পাচ্ছি</td>\n",
              "      <td>0.0</td>\n",
              "      <td>1.0</td>\n",
              "      <td>0.0</td>\n",
              "      <td>1.0</td>\n",
              "    </tr>\n",
              "    <tr>\n",
              "      <th>3362</th>\n",
              "      <td>bangla-gag (4).png</td>\n",
              "      <td>GIRLS IN REAL LIFE    GIRLS IN FACEBOOK</td>\n",
              "      <td>hate_community</td>\n",
              "      <td>hate</td>\n",
              "      <td>1</td>\n",
              "      <td>girls in real life girls in facebook</td>\n",
              "      <td>1.0</td>\n",
              "      <td>0.0</td>\n",
              "      <td>1.0</td>\n",
              "      <td>0.0</td>\n",
              "    </tr>\n",
              "    <tr>\n",
              "      <th>3363</th>\n",
              "      <td>Halal Memes (344).jpg</td>\n",
              "      <td>বোরকাওয়ালী কোন মেয়ের চোখের দিকে তাকানোর পর !  ...</td>\n",
              "      <td>not-hate</td>\n",
              "      <td>not-hate</td>\n",
              "      <td>0</td>\n",
              "      <td>বোরকাওয়ালী মেয়ের চোখের তাকানোর আমিঃ</td>\n",
              "      <td>0.0</td>\n",
              "      <td>1.0</td>\n",
              "      <td>0.0</td>\n",
              "      <td>1.0</td>\n",
              "    </tr>\n",
              "    <tr>\n",
              "      <th>3364</th>\n",
              "      <td>bamboo-vaiya (451).jpg</td>\n",
              "      <td>*Nobel এর বিরুদ্ধে চিল্লাতে থাকা Public    *বা...</td>\n",
              "      <td>hate_celebrity</td>\n",
              "      <td>hate</td>\n",
              "      <td>1</td>\n",
              "      <td>nobel বিরুদ্ধে চিল্লাতে public বাইঞ্চোদ</td>\n",
              "      <td>1.0</td>\n",
              "      <td>0.0</td>\n",
              "      <td>1.0</td>\n",
              "      <td>0.0</td>\n",
              "    </tr>\n",
              "  </tbody>\n",
              "</table>\n",
              "<p>3365 rows × 10 columns</p>\n",
              "</div>\n",
              "      <button class=\"colab-df-convert\" onclick=\"convertToInteractive('df-138a02d0-4964-4ee6-9874-d02d4f83cad7')\"\n",
              "              title=\"Convert this dataframe to an interactive table.\"\n",
              "              style=\"display:none;\">\n",
              "        \n",
              "  <svg xmlns=\"http://www.w3.org/2000/svg\" height=\"24px\"viewBox=\"0 0 24 24\"\n",
              "       width=\"24px\">\n",
              "    <path d=\"M0 0h24v24H0V0z\" fill=\"none\"/>\n",
              "    <path d=\"M18.56 5.44l.94 2.06.94-2.06 2.06-.94-2.06-.94-.94-2.06-.94 2.06-2.06.94zm-11 1L8.5 8.5l.94-2.06 2.06-.94-2.06-.94L8.5 2.5l-.94 2.06-2.06.94zm10 10l.94 2.06.94-2.06 2.06-.94-2.06-.94-.94-2.06-.94 2.06-2.06.94z\"/><path d=\"M17.41 7.96l-1.37-1.37c-.4-.4-.92-.59-1.43-.59-.52 0-1.04.2-1.43.59L10.3 9.45l-7.72 7.72c-.78.78-.78 2.05 0 2.83L4 21.41c.39.39.9.59 1.41.59.51 0 1.02-.2 1.41-.59l7.78-7.78 2.81-2.81c.8-.78.8-2.07 0-2.86zM5.41 20L4 18.59l7.72-7.72 1.47 1.35L5.41 20z\"/>\n",
              "  </svg>\n",
              "      </button>\n",
              "      \n",
              "  <style>\n",
              "    .colab-df-container {\n",
              "      display:flex;\n",
              "      flex-wrap:wrap;\n",
              "      gap: 12px;\n",
              "    }\n",
              "\n",
              "    .colab-df-convert {\n",
              "      background-color: #E8F0FE;\n",
              "      border: none;\n",
              "      border-radius: 50%;\n",
              "      cursor: pointer;\n",
              "      display: none;\n",
              "      fill: #1967D2;\n",
              "      height: 32px;\n",
              "      padding: 0 0 0 0;\n",
              "      width: 32px;\n",
              "    }\n",
              "\n",
              "    .colab-df-convert:hover {\n",
              "      background-color: #E2EBFA;\n",
              "      box-shadow: 0px 1px 2px rgba(60, 64, 67, 0.3), 0px 1px 3px 1px rgba(60, 64, 67, 0.15);\n",
              "      fill: #174EA6;\n",
              "    }\n",
              "\n",
              "    [theme=dark] .colab-df-convert {\n",
              "      background-color: #3B4455;\n",
              "      fill: #D2E3FC;\n",
              "    }\n",
              "\n",
              "    [theme=dark] .colab-df-convert:hover {\n",
              "      background-color: #434B5C;\n",
              "      box-shadow: 0px 1px 3px 1px rgba(0, 0, 0, 0.15);\n",
              "      filter: drop-shadow(0px 1px 2px rgba(0, 0, 0, 0.3));\n",
              "      fill: #FFFFFF;\n",
              "    }\n",
              "  </style>\n",
              "\n",
              "      <script>\n",
              "        const buttonEl =\n",
              "          document.querySelector('#df-138a02d0-4964-4ee6-9874-d02d4f83cad7 button.colab-df-convert');\n",
              "        buttonEl.style.display =\n",
              "          google.colab.kernel.accessAllowed ? 'block' : 'none';\n",
              "\n",
              "        async function convertToInteractive(key) {\n",
              "          const element = document.querySelector('#df-138a02d0-4964-4ee6-9874-d02d4f83cad7');\n",
              "          const dataTable =\n",
              "            await google.colab.kernel.invokeFunction('convertToInteractive',\n",
              "                                                     [key], {});\n",
              "          if (!dataTable) return;\n",
              "\n",
              "          const docLinkHtml = 'Like what you see? Visit the ' +\n",
              "            '<a target=\"_blank\" href=https://colab.research.google.com/notebooks/data_table.ipynb>data table notebook</a>'\n",
              "            + ' to learn more about interactive tables.';\n",
              "          element.innerHTML = '';\n",
              "          dataTable['output_type'] = 'display_data';\n",
              "          await google.colab.output.renderOutput(dataTable, element);\n",
              "          const docLink = document.createElement('div');\n",
              "          docLink.innerHTML = docLinkHtml;\n",
              "          element.appendChild(docLink);\n",
              "        }\n",
              "      </script>\n",
              "    </div>\n",
              "  </div>\n",
              "  "
            ],
            "text/plain": [
              "                   image_name  ... Not-Hate\n",
              "0     direct-offense (76).jpg  ...      1.0\n",
              "1               KAM (427).jpg  ...      1.0\n",
              "2        ovodro_img (486).jpg  ...      0.0\n",
              "3               KAM (225).jpg  ...      1.0\n",
              "4        ovodro_img (614).jpg  ...      1.0\n",
              "...                       ...  ...      ...\n",
              "3360            KAM (146).jpg  ...      1.0\n",
              "3361   bangla-memes (197).jpg  ...      1.0\n",
              "3362       bangla-gag (4).png  ...      0.0\n",
              "3363    Halal Memes (344).jpg  ...      1.0\n",
              "3364   bamboo-vaiya (451).jpg  ...      0.0\n",
              "\n",
              "[3365 rows x 10 columns]"
            ]
          },
          "metadata": {},
          "execution_count": 36
        }
      ]
    },
    {
      "cell_type": "markdown",
      "metadata": {
        "id": "K-b-Yq48Fld4"
      },
      "source": [
        "#Dataset Statistics"
      ]
    },
    {
      "cell_type": "code",
      "metadata": {
        "id": "xbzk4Ja9Fnz2"
      },
      "source": [
        "## Individual tweets length calculation\n",
        "def char_length(row):\n",
        "    return len(row.split())\n",
        "\n",
        "\n",
        "lables = ['Hate','Not-Hate']\n",
        "# Count number of unique words in each set\n",
        "def dataset_statistics(dataset):\n",
        "  for l in lables:\n",
        "    word_list = [word.strip() for t in list(dataset[dataset[l]==1].cleaned) for word in t.strip().split()]\n",
        "    counts = dict()\n",
        "    for word in word_list:\n",
        "        counts[word] = counts.get(word, 0)+1\n",
        "      # sort the dictionary of word list\n",
        "    ordered = sorted(counts.items(), key= lambda item: item[1],reverse = True)\n",
        "    print(f\"\\nClass Name:--> {l} \")\n",
        "    print(\"Number of Words:{}\".format(len(word_list)))\n",
        "    print(\"Number of Unique Words:{}\".format(len(np.unique(word_list))))\n",
        "    print(\"Maximum Caption length: {}\".format(max(dataset[dataset[l]==1].cleaned.apply(char_length))))\n",
        "    print(\"Minimum Caption length: {}\".format(min(dataset[dataset[l]==1].cleaned.apply(char_length))))\n",
        "    print(\"Average Words in texts: {}\".format(np.mean(dataset[dataset[l]==1].cleaned.apply(char_length))))\n",
        "    print(color.BOLD+\"\\nMost Frequent Words:\\n\"+color.END)\n",
        "    for k,v in ordered[:10]:\n",
        "      print(\"{}\\t{}\".format(k,v))\n",
        ""
      ],
      "execution_count": null,
      "outputs": []
    },
    {
      "cell_type": "code",
      "metadata": {
        "id": "ZCzAmN24F34_",
        "colab": {
          "base_uri": "https://localhost:8080/"
        },
        "outputId": "ab81be5a-b167-42cb-93c4-3f95a509a3d8"
      },
      "source": [
        "dataset_statistics(train_data)"
      ],
      "execution_count": null,
      "outputs": [
        {
          "output_type": "stream",
          "name": "stdout",
          "text": [
            "\n",
            "Class Name:--> Hate \n",
            "Number of Words:12854\n",
            "Number of Unique Words:5781\n",
            "Maximum Caption length: 51\n",
            "Minimum Caption length: 1\n",
            "Average Words in texts: 10.08156862745098\n",
            "\u001b[1m\n",
            "Most Frequent Words:\n",
            "\u001b[0m\n",
            "you\t97\n",
            "মেয়ে\t69\n",
            "a\t59\n",
            "the\t58\n",
            "সাথে\t58\n",
            "in\t57\n",
            "দিয়ে\t55\n",
            "when\t53\n",
            "to\t52\n",
            "একটা\t51\n",
            "\n",
            "Class Name:--> Not-Hate \n",
            "Number of Words:22885\n",
            "Number of Unique Words:8627\n",
            "Maximum Caption length: 87\n",
            "Minimum Caption length: 1\n",
            "Average Words in texts: 10.94976076555024\n",
            "\u001b[1m\n",
            "Most Frequent Words:\n",
            "\u001b[0m\n",
            "you\t150\n",
            "me\t147\n",
            "when\t111\n",
            "একটা\t105\n",
            "সাথে\t97\n",
            "যায়\t94\n",
            "তোর\t93\n",
            "a\t93\n",
            "আমিঃ\t84\n",
            "দিয়ে\t84\n"
          ]
        }
      ]
    },
    {
      "cell_type": "code",
      "metadata": {
        "id": "bZWW-cMaGfwV"
      },
      "source": [
        "### Plot a Distribution\n",
        "def sentence_length_per_class(dataset,set_name):\n",
        "  label = dataset[['Hate','Not-Hate']]\n",
        "  label = label.values\n",
        "  comment = dataset['cleaned']\n",
        "  comment = comment.values\n",
        "  y = np.zeros(label.shape)\n",
        "  for ix in range(comment.shape[0]):\n",
        "      l = len(comment[ix].split())\n",
        "      if label[ix][0] :\n",
        "          y[ix][0] = l\n",
        "      if label[ix][1] :\n",
        "          y[ix][1] = l\n",
        "\n",
        "  labelsplt = ['Hate','Not-Hate' ]\n",
        "  color = ['red','green']\n",
        "  bins = [1,5,10,15,20,25,30,35,40,45,50,55,60]\n",
        "  plt.figure(figsize=(5,3))\n",
        "  #plt.title ('Tweets Length Distribution Per Class')\n",
        "  plt.hist(y,bins = bins,label = labelsplt,color = color)\n",
        "  plt.axis([0, 40, 0, 800])\n",
        "  plt.xlabel('Length of the Caption')\n",
        "  plt.ylabel('Number of Captions ')\n",
        "  plt.legend()\n",
        "  #plt.savefig(results_path+'length-dist.png',dpi = 600,bbox_inches ='tight')\n",
        "  #plt.grid(True)\n",
        "  plt.show()\n",
        ""
      ],
      "execution_count": null,
      "outputs": []
    },
    {
      "cell_type": "code",
      "metadata": {
        "id": "6yD9T0JWGvvT",
        "colab": {
          "base_uri": "https://localhost:8080/",
          "height": 229
        },
        "outputId": "055209a8-4a29-4bf4-88b8-65a31864c777"
      },
      "source": [
        "sentence_length_per_class(train_data,'Training')"
      ],
      "execution_count": null,
      "outputs": [
        {
          "output_type": "display_data",
          "data": {
            "image/png": "[encoded data removed]",
            "text/plain": [
              "<Figure size 360x216 with 1 Axes>"
            ]
          },
          "metadata": {
            "needs_background": "light"
          }
        }
      ]
    },
    {
      "cell_type": "markdown",
      "source": [
        "##Jacard Similarity"
      ],
      "metadata": {
        "id": "BV26OBaYc9QL"
      }
    },
    {
      "cell_type": "code",
      "source": [
        "## Individual tweets length calculation\n",
        "def char_length(row):\n",
        "    return len(row.split())\n",
        "\n",
        "lables = ['Hate','Not-Hate']\n",
        "# Count number of unique words in each set\n",
        "\n",
        "final_list = []\n",
        "\n",
        "for l in lables:\n",
        "  label_wise_word_list = []\n",
        "  word_list = [word.strip() for t in list(train_data[train_data[l]==1].cleaned) for word in t.strip().split()]\n",
        "  counts = dict()\n",
        "  for word in word_list:\n",
        "      counts[word] = counts.get(word,0) + 1\n",
        "      # sort the dictionary of word list\n",
        "  ordered = sorted(counts.items(), key= lambda item: item[1], reverse = True)\n",
        "  print(f\"\\nClass Name:--> {l} \")\n",
        "\n",
        "  for k,v in ordered[:400]:\n",
        "    label_wise_word_list.append(k)\n",
        "\n",
        "  final_list.append(label_wise_word_list)"
      ],
      "metadata": {
        "id": "_H2x9UpgdAsl"
      },
      "execution_count": null,
      "outputs": []
    },
    {
      "cell_type": "code",
      "source": [
        "def jaccard_similarity(list1, list2):\n",
        "    s1 = set(list1)\n",
        "    s2 = set(list2)\n",
        "    return float(len(s1.intersection(s2)) / len(s1.union(s2)))"
      ],
      "metadata": {
        "id": "I8DpEcfQft0m"
      },
      "execution_count": null,
      "outputs": []
    },
    {
      "cell_type": "code",
      "source": [
        "jaccard_similarity(final_list[0],final_list[1])"
      ],
      "metadata": {
        "colab": {
          "base_uri": "https://localhost:8080/"
        },
        "id": "3-FIvUX34IB7",
        "outputId": "1dde354a-9572-4e4e-d625-8cb58ba48cb8"
      },
      "execution_count": null,
      "outputs": [
        {
          "output_type": "execute_result",
          "data": {
            "text/plain": [
              "0.391304347826087"
            ]
          },
          "metadata": {},
          "execution_count": 62
        }
      ]
    },
    {
      "cell_type": "markdown",
      "source": [
        "##Scatter Plot"
      ],
      "metadata": {
        "id": "WNkoJmP4yxLW"
      }
    },
    {
      "cell_type": "code",
      "source": [
        "!pip install texthero"
      ],
      "metadata": {
        "id": "TdsVOd2Iy_IK"
      },
      "execution_count": null,
      "outputs": []
    },
    {
      "cell_type": "code",
      "source": [
        "import texthero as hero"
      ],
      "metadata": {
        "id": "YVXU8nIMy82M"
      },
      "execution_count": null,
      "outputs": []
    },
    {
      "cell_type": "code",
      "source": [
        "train_data['tfidf'] = (hero.tfidf(train_data['cleaned'], max_features=500))\n",
        "train_data[[\"tfidf\", \"Label\"]].head(2)"
      ],
      "metadata": {
        "colab": {
          "base_uri": "https://localhost:8080/",
          "height": 112
        },
        "id": "BBakGKiizNDp",
        "outputId": "c1818013-5578-4aad-9e01-214b1dcf3aa3"
      },
      "execution_count": null,
      "outputs": [
        {
          "output_type": "execute_result",
          "data": {
            "text/html": [
              "\n",
              "  <div id=\"df-fe966001-fcbf-4747-b04b-f431d20e1e94\">\n",
              "    <div class=\"colab-df-container\">\n",
              "      <div>\n",
              "<style scoped>\n",
              "    .dataframe tbody tr th:only-of-type {\n",
              "        vertical-align: middle;\n",
              "    }\n",
              "\n",
              "    .dataframe tbody tr th {\n",
              "        vertical-align: top;\n",
              "    }\n",
              "\n",
              "    .dataframe thead th {\n",
              "        text-align: right;\n",
              "    }\n",
              "</style>\n",
              "<table border=\"1\" class=\"dataframe\">\n",
              "  <thead>\n",
              "    <tr style=\"text-align: right;\">\n",
              "      <th></th>\n",
              "      <th>tfidf</th>\n",
              "      <th>Label</th>\n",
              "    </tr>\n",
              "  </thead>\n",
              "  <tbody>\n",
              "    <tr>\n",
              "      <th>0</th>\n",
              "      <td>[0.0, 0.0, 0.0, 0.0, 0.0, 0.0, 0.0, 0.0, 0.0, ...</td>\n",
              "      <td>not-hate</td>\n",
              "    </tr>\n",
              "    <tr>\n",
              "      <th>1</th>\n",
              "      <td>[0.0, 0.0, 0.0, 0.0, 0.0, 0.0, 0.0, 0.0, 0.0, ...</td>\n",
              "      <td>not-hate</td>\n",
              "    </tr>\n",
              "  </tbody>\n",
              "</table>\n",
              "</div>\n",
              "      <button class=\"colab-df-convert\" onclick=\"convertToInteractive('df-fe966001-fcbf-4747-b04b-f431d20e1e94')\"\n",
              "              title=\"Convert this dataframe to an interactive table.\"\n",
              "              style=\"display:none;\">\n",
              "        \n",
              "  <svg xmlns=\"http://www.w3.org/2000/svg\" height=\"24px\"viewBox=\"0 0 24 24\"\n",
              "       width=\"24px\">\n",
              "    <path d=\"M0 0h24v24H0V0z\" fill=\"none\"/>\n",
              "    <path d=\"M18.56 5.44l.94 2.06.94-2.06 2.06-.94-2.06-.94-.94-2.06-.94 2.06-2.06.94zm-11 1L8.5 8.5l.94-2.06 2.06-.94-2.06-.94L8.5 2.5l-.94 2.06-2.06.94zm10 10l.94 2.06.94-2.06 2.06-.94-2.06-.94-.94-2.06-.94 2.06-2.06.94z\"/><path d=\"M17.41 7.96l-1.37-1.37c-.4-.4-.92-.59-1.43-.59-.52 0-1.04.2-1.43.59L10.3 9.45l-7.72 7.72c-.78.78-.78 2.05 0 2.83L4 21.41c.39.39.9.59 1.41.59.51 0 1.02-.2 1.41-.59l7.78-7.78 2.81-2.81c.8-.78.8-2.07 0-2.86zM5.41 20L4 18.59l7.72-7.72 1.47 1.35L5.41 20z\"/>\n",
              "  </svg>\n",
              "      </button>\n",
              "      \n",
              "  <style>\n",
              "    .colab-df-container {\n",
              "      display:flex;\n",
              "      flex-wrap:wrap;\n",
              "      gap: 12px;\n",
              "    }\n",
              "\n",
              "    .colab-df-convert {\n",
              "      background-color: #E8F0FE;\n",
              "      border: none;\n",
              "      border-radius: 50%;\n",
              "      cursor: pointer;\n",
              "      display: none;\n",
              "      fill: #1967D2;\n",
              "      height: 32px;\n",
              "      padding: 0 0 0 0;\n",
              "      width: 32px;\n",
              "    }\n",
              "\n",
              "    .colab-df-convert:hover {\n",
              "      background-color: #E2EBFA;\n",
              "      box-shadow: 0px 1px 2px rgba(60, 64, 67, 0.3), 0px 1px 3px 1px rgba(60, 64, 67, 0.15);\n",
              "      fill: #174EA6;\n",
              "    }\n",
              "\n",
              "    [theme=dark] .colab-df-convert {\n",
              "      background-color: #3B4455;\n",
              "      fill: #D2E3FC;\n",
              "    }\n",
              "\n",
              "    [theme=dark] .colab-df-convert:hover {\n",
              "      background-color: #434B5C;\n",
              "      box-shadow: 0px 1px 3px 1px rgba(0, 0, 0, 0.15);\n",
              "      filter: drop-shadow(0px 1px 2px rgba(0, 0, 0, 0.3));\n",
              "      fill: #FFFFFF;\n",
              "    }\n",
              "  </style>\n",
              "\n",
              "      <script>\n",
              "        const buttonEl =\n",
              "          document.querySelector('#df-fe966001-fcbf-4747-b04b-f431d20e1e94 button.colab-df-convert');\n",
              "        buttonEl.style.display =\n",
              "          google.colab.kernel.accessAllowed ? 'block' : 'none';\n",
              "\n",
              "        async function convertToInteractive(key) {\n",
              "          const element = document.querySelector('#df-fe966001-fcbf-4747-b04b-f431d20e1e94');\n",
              "          const dataTable =\n",
              "            await google.colab.kernel.invokeFunction('convertToInteractive',\n",
              "                                                     [key], {});\n",
              "          if (!dataTable) return;\n",
              "\n",
              "          const docLinkHtml = 'Like what you see? Visit the ' +\n",
              "            '<a target=\"_blank\" href=https://colab.research.google.com/notebooks/data_table.ipynb>data table notebook</a>'\n",
              "            + ' to learn more about interactive tables.';\n",
              "          element.innerHTML = '';\n",
              "          dataTable['output_type'] = 'display_data';\n",
              "          await google.colab.output.renderOutput(dataTable, element);\n",
              "          const docLink = document.createElement('div');\n",
              "          docLink.innerHTML = docLinkHtml;\n",
              "          element.appendChild(docLink);\n",
              "        }\n",
              "      </script>\n",
              "    </div>\n",
              "  </div>\n",
              "  "
            ],
            "text/plain": [
              "                                               tfidf     Label\n",
              "0  [0.0, 0.0, 0.0, 0.0, 0.0, 0.0, 0.0, 0.0, 0.0, ...  not-hate\n",
              "1  [0.0, 0.0, 0.0, 0.0, 0.0, 0.0, 0.0, 0.0, 0.0, ...  not-hate"
            ]
          },
          "metadata": {},
          "execution_count": 82
        }
      ]
    },
    {
      "cell_type": "code",
      "source": [
        "train_data['pca'] = hero.pca(train_data['tfidf'])\n",
        "hero.scatterplot(train_data, col='pca', color='Label', title=\"PCA Multimodal Hate\")"
      ],
      "metadata": {
        "id": "_nSUM5quzkyB"
      },
      "execution_count": null,
      "outputs": []
    },
    {
      "cell_type": "markdown",
      "metadata": {
        "id": "Gyyw4VqlFXS_"
      },
      "source": [
        "#Evaluation Metrics"
      ]
    },
    {
      "cell_type": "code",
      "metadata": {
        "id": "1rgUkMnlFbBU"
      },
      "source": [
        "'''Evaluation Parameters'''\n",
        "\n",
        "def print_metrices(true,pred):\n",
        "    print(confusion_matrix(true,pred))\n",
        "    print(classification_report(true,pred,target_names=['not-hate','hate']))\n",
        "    print(\"Accuracy : \",accuracy_score(true,pred))\n",
        "    print(\"Precison : \",precision_score(true,pred, average = 'weighted'))\n",
        "    print(\"Recall : \",recall_score(true,pred,  average = 'weighted'))\n",
        "    print(\"F1 : \",f1_score(true,pred,  average = 'weighted'))"
      ],
      "execution_count": null,
      "outputs": []
    },
    {
      "cell_type": "markdown",
      "metadata": {
        "id": "4Sc-dx1RJ2sK"
      },
      "source": [
        "#Callbacks"
      ]
    },
    {
      "cell_type": "code",
      "source": [
        "''' Callbacks'''\n",
        "keras.backend.clear_session()\n",
        "def callbacks_with_garbage(model_name):\n",
        "  accuracy_threshold = 0.98\n",
        "\n",
        "  class myCallback(keras.callbacks.Callback):\n",
        "    def on_epoch_end(self, epoch, logs={}):\n",
        "        if(logs.get('accuracy')>accuracy_threshold):\n",
        "          print(\"\\nReached %2.2f%% accuracy so we will stop trianing\" % (accuracy_threshold*100))\n",
        "          self.model.stop_training = True\n",
        "\n",
        "  # Garbage Collector - use it like gc.collect()\n",
        "  import gc\n",
        "  # Custom Callback To Include in Callbacks List At Training Time\n",
        "  class GarbageCollectorCallback(tf.keras.callbacks.Callback):\n",
        "    def on_epoch_end(self, epoch, logs=None):\n",
        "        gc.collect()\n",
        "\n",
        "\n",
        "  acc_callback = myCallback()\n",
        "  gc_callback = GarbageCollectorCallback()\n",
        "  # Saved the Best Model\n",
        "  filepath = models_path+f\"{model_name}.h5\"\n",
        "  checkpoint = keras.callbacks.ModelCheckpoint(filepath, monitor='val_accuracy', verbose=2, save_best_only=True,\n",
        "                                             save_weights_only=False, mode='max')\n",
        "  # callback list\n",
        "  callback_list = [acc_callback, gc_callback, checkpoint]\n",
        "\n",
        "  return callback_list"
      ],
      "metadata": {
        "id": "yN53YLqt-uZK"
      },
      "execution_count": null,
      "outputs": []
    },
    {
      "cell_type": "code",
      "metadata": {
        "id": "27oUWd_2J4OC"
      },
      "source": [
        "''' Callbacks'''\n",
        "keras.backend.clear_session()\n",
        "def callbacks_check(model_name):\n",
        "  accuracy_threshold = 0.98\n",
        "\n",
        "  class myCallback(keras.callbacks.Callback):\n",
        "    def on_epoch_end(self, epoch, logs={}):\n",
        "        if(logs.get('accuracy')>accuracy_threshold):\n",
        "          print(\"\\nReached %2.2f%% accuracy so we will stop trianing\" % (accuracy_threshold*100))\n",
        "          self.model.stop_training = True\n",
        "\n",
        "  acc_callback = myCallback()\n",
        "  # Saved the Best Model\n",
        "  filepath = models_path+f\"{model_name}.h5\"\n",
        "  checkpoint = keras.callbacks.ModelCheckpoint(filepath, monitor='val_accuracy', verbose=2, save_best_only=True,\n",
        "                                             save_weights_only=False, mode='max')\n",
        "  # callback list\n",
        "  callback_list = [acc_callback, checkpoint]\n",
        "\n",
        "  return callback_list"
      ],
      "execution_count": null,
      "outputs": []
    },
    {
      "cell_type": "code",
      "source": [
        "from sklearn.utils import compute_class_weight\n",
        "class_weights = compute_class_weight(\n",
        "                                        class_weight = \"balanced\",\n",
        "                                        classes = np.unique(train_data['enc_label']),\n",
        "                                        y = train_data['enc_label']\n",
        "                                    )\n",
        "weight = {i : class_weights[i] for i in range(2)}\n",
        "weight"
      ],
      "metadata": {
        "colab": {
          "base_uri": "https://localhost:8080/"
        },
        "id": "4jyKrUPHUfwj",
        "outputId": "ce55764f-b727-4fd4-cb91-15be3a54c5c9"
      },
      "execution_count": null,
      "outputs": [
        {
          "output_type": "execute_result",
          "data": {
            "text/plain": [
              "{0: 0.8050239234449761, 1: 1.3196078431372549}"
            ]
          },
          "metadata": {},
          "execution_count": 11
        }
      ]
    },
    {
      "cell_type": "markdown",
      "metadata": {
        "id": "kJEKGvfkIdeu"
      },
      "source": [
        "#Visual Modality"
      ]
    },
    {
      "cell_type": "code",
      "metadata": {
        "id": "bTD7CsFXIgEo"
      },
      "source": [
        "def visual_models(pretrained_model):\n",
        "  '''\n",
        "      Input: Pretrained Models weight\n",
        "  '''\n",
        "  base_model = pretrained_model\n",
        "  base_model.trainable = False\n",
        "  y = base_model.output\n",
        "  pool = GlobalAveragePooling2D()(y)\n",
        "  #flatten = Flatten()(pool)\n",
        "  output = Dense(1, activation='sigmoid')(pool)\n",
        "  # this is the model we will train\n",
        "  img_model = Model(inputs=base_model.input, outputs=output)\n",
        "\n",
        "  return img_model"
      ],
      "execution_count": null,
      "outputs": []
    },
    {
      "cell_type": "code",
      "metadata": {
        "id": "izs7SORWI0lV"
      },
      "source": [
        "vgg19 = VGG19(weights='imagenet', include_top=False,input_shape=(150, 150, 3))\n",
        "vgg16 = VGG16(weights='imagenet', include_top=False,input_shape=(150, 150, 3))\n",
        "resnet = ResNet50(weights='imagenet', include_top=False,input_shape=(150, 150, 3))"
      ],
      "execution_count": null,
      "outputs": []
    },
    {
      "cell_type": "markdown",
      "source": [
        "##VGG19"
      ],
      "metadata": {
        "id": "GpVGlNT-RkqL"
      }
    },
    {
      "cell_type": "code",
      "metadata": {
        "id": "7OL4e2GzX5hQ"
      },
      "source": [
        "vgg19_model = visual_models(vgg19)\n",
        "vgg19_model.compile(loss='binary_crossentropy',\n",
        "                    optimizer=Adam(),\n",
        "                    metrics = [\"accuracy\"])"
      ],
      "execution_count": null,
      "outputs": []
    },
    {
      "cell_type": "code",
      "metadata": {
        "id": "hq1cfhSQX5hc"
      },
      "source": [
        "keras.backend.clear_session()\n",
        "vgg19_model.fit(x=train_image,\n",
        "              y=train_data['enc_label'],\n",
        "              epochs=15,\n",
        "              batch_size =16,\n",
        "              validation_data = (valid_image,valid_data['enc_label']),\n",
        "              verbose = 1,\n",
        "              class_weight = weight,\n",
        "              callbacks = callbacks_check('vgg19')\n",
        "              )"
      ],
      "execution_count": null,
      "outputs": []
    },
    {
      "cell_type": "code",
      "metadata": {
        "id": "o7dR3fonX5hd"
      },
      "source": [
        " # Prediction\n",
        "model = load_model(models_path+\"vgg19.h5\")\n",
        "pred = model.predict(test_image)\n",
        "y_pred = (pred>0.5).astype(int)\n",
        "y_pred"
      ],
      "execution_count": null,
      "outputs": []
    },
    {
      "cell_type": "code",
      "metadata": {
        "colab": {
          "base_uri": "https://localhost:8080/"
        },
        "id": "2avmLDg7X5hd",
        "outputId": "dc85d322-e357-4e31-efbb-e54a0eb87ae8"
      },
      "source": [
        "y_true = test_data['enc_label']\n",
        "print_metrices(y_true,y_pred)"
      ],
      "execution_count": null,
      "outputs": [
        {
          "output_type": "stream",
          "name": "stdout",
          "text": [
            "[[155 102]\n",
            " [ 73  86]]\n",
            "              precision    recall  f1-score   support\n",
            "\n",
            "    not-hate       0.68      0.60      0.64       257\n",
            "        hate       0.46      0.54      0.50       159\n",
            "\n",
            "    accuracy                           0.58       416\n",
            "   macro avg       0.57      0.57      0.57       416\n",
            "weighted avg       0.59      0.58      0.58       416\n",
            "\n",
            "Accuracy :  0.5793269230769231\n",
            "Precison :  0.5948292183507049\n",
            "Recall :  0.5793269230769231\n",
            "F1 :  0.5843286570970845\n"
          ]
        }
      ]
    },
    {
      "cell_type": "markdown",
      "source": [
        "##VGG16"
      ],
      "metadata": {
        "id": "Fg-3e4j1Xyay"
      }
    },
    {
      "cell_type": "code",
      "metadata": {
        "id": "mlJIttokbhv4"
      },
      "source": [
        "keras.backend.clear_session()\n",
        "vgg16_model = visual_models(vgg16)\n",
        "vgg16_model.compile(loss='binary_crossentropy',\n",
        "                    optimizer=RMSprop(),\n",
        "                    metrics = [\"accuracy\"])"
      ],
      "execution_count": null,
      "outputs": []
    },
    {
      "cell_type": "code",
      "metadata": {
        "id": "6NJbyj4Xbhv4"
      },
      "source": [
        "vgg16_model.fit(x=train_image,\n",
        "              y=train_data['enc_label'],\n",
        "              epochs=15,\n",
        "              batch_size =16,\n",
        "              validation_data = (valid_image,valid_data['enc_label']),\n",
        "              verbose = 1,\n",
        "              class_weight = weight,\n",
        "              callbacks = callbacks_check('vgg16')\n",
        "              )"
      ],
      "execution_count": null,
      "outputs": []
    },
    {
      "cell_type": "code",
      "metadata": {
        "id": "XbhegqM4YnjZ"
      },
      "source": [
        " # Prediction\n",
        "model = load_model(models_path+\"vgg16.h5\")\n",
        "pred = model.predict(test_image)\n",
        "y_pred = (pred>0.5).astype(int)"
      ],
      "execution_count": null,
      "outputs": []
    },
    {
      "cell_type": "code",
      "metadata": {
        "colab": {
          "base_uri": "https://localhost:8080/"
        },
        "outputId": "16ca82d9-b122-491a-9691-6d78c73827f5",
        "id": "uaFZFpV4Ynjx"
      },
      "source": [
        "y_true = test_data['enc_label']\n",
        "print_metrices(y_true,y_pred)"
      ],
      "execution_count": null,
      "outputs": [
        {
          "output_type": "stream",
          "name": "stdout",
          "text": [
            "[[193  64]\n",
            " [ 84  75]]\n",
            "              precision    recall  f1-score   support\n",
            "\n",
            "    not-hate       0.70      0.75      0.72       257\n",
            "        hate       0.54      0.47      0.50       159\n",
            "\n",
            "    accuracy                           0.64       416\n",
            "   macro avg       0.62      0.61      0.61       416\n",
            "weighted avg       0.64      0.64      0.64       416\n",
            "\n",
            "Accuracy :  0.6442307692307693\n",
            "Precison :  0.6366739155190705\n",
            "Recall :  0.6442307692307693\n",
            "F1 :  0.6389545495853467\n"
          ]
        }
      ]
    },
    {
      "cell_type": "markdown",
      "source": [
        "##ResNet50"
      ],
      "metadata": {
        "id": "xKRPjYBaY0-Y"
      }
    },
    {
      "cell_type": "code",
      "metadata": {
        "id": "aMrm7Qj6eiPu"
      },
      "source": [
        "keras.backend.clear_session()\n",
        "resnet_model = visual_models(resnet)\n",
        "resnet_model.compile(loss='binary_crossentropy',\n",
        "                    optimizer=RMSprop(),\n",
        "                    metrics = [\"accuracy\"])"
      ],
      "execution_count": null,
      "outputs": []
    },
    {
      "cell_type": "code",
      "metadata": {
        "id": "QRhLRg8xeiPv"
      },
      "source": [
        "resnet_model.fit(x=train_image,\n",
        "              y=train_data['enc_label'],\n",
        "              epochs=15,\n",
        "              batch_size =16,\n",
        "              validation_data = (valid_image,valid_data['enc_label']),\n",
        "              verbose = 1,\n",
        "              class_weight = weight,\n",
        "              callbacks = callbacks_check('resnet')\n",
        "              )"
      ],
      "execution_count": null,
      "outputs": []
    },
    {
      "cell_type": "code",
      "metadata": {
        "id": "UZGWAjhiZxzx"
      },
      "source": [
        "# Prediction\n",
        "model = load_model(models_path+\"resnet.h5\")\n",
        "pred = model.predict(test_image)\n",
        "y_pred = (pred>0.3).astype(int)"
      ],
      "execution_count": null,
      "outputs": []
    },
    {
      "cell_type": "code",
      "metadata": {
        "colab": {
          "base_uri": "https://localhost:8080/"
        },
        "outputId": "c851a1b9-f2ad-4602-c7ed-da0db5a1b5a7",
        "id": "twapno2hZxzy"
      },
      "source": [
        "y_true = test_data['enc_label']\n",
        "print_metrices(y_true,y_pred)"
      ],
      "execution_count": null,
      "outputs": [
        {
          "output_type": "stream",
          "name": "stdout",
          "text": [
            "[[177  80]\n",
            " [ 70  89]]\n",
            "              precision    recall  f1-score   support\n",
            "\n",
            "    not-hate       0.72      0.69      0.70       257\n",
            "        hate       0.53      0.56      0.54       159\n",
            "\n",
            "    accuracy                           0.64       416\n",
            "   macro avg       0.62      0.62      0.62       416\n",
            "weighted avg       0.64      0.64      0.64       416\n",
            "\n",
            "Accuracy :  0.6394230769230769\n",
            "Precison :  0.6439897108497233\n",
            "Recall :  0.6394230769230769\n",
            "F1 :  0.6413425243455732\n"
          ]
        }
      ]
    },
    {
      "cell_type": "markdown",
      "source": [
        "##Visual Attention"
      ],
      "metadata": {
        "id": "h0Ag6cehaL4m"
      }
    },
    {
      "cell_type": "code",
      "source": [
        "pip install visual-attention-tf"
      ],
      "metadata": {
        "id": "pgqGy58Eou0f"
      },
      "execution_count": null,
      "outputs": []
    },
    {
      "cell_type": "code",
      "source": [
        "from visual_attention import PixelAttention2D , ChannelAttention2D,EfficientChannelAttention2D"
      ],
      "metadata": {
        "id": "PLGaxnM7o3Zg"
      },
      "execution_count": null,
      "outputs": []
    },
    {
      "cell_type": "code",
      "metadata": {
        "id": "6Zach5y0aTJs"
      },
      "source": [
        "def visual_models(pretrained_model):\n",
        "  '''\n",
        "      Input: Pretrained Models weight\n",
        "  '''\n",
        "  base_model = pretrained_model\n",
        "  base_model.trainable = False\n",
        "  y = base_model.layers[-2].output\n",
        "  #EfficientChannelAttention_cnn = EfficientChannelAttention2D(y.shape[-1])(y)\n",
        "  attention_cnn = PixelAttention2D(y.shape[-1])(y)\n",
        "  pool = GlobalAveragePooling2D()(attention_cnn)\n",
        "  #flatten = Flatten()(att)\n",
        "  output = Dense(1, activation='sigmoid')(pool)\n",
        "  # this is the model we will train\n",
        "  img_model = Model(inputs=base_model.input, outputs=output)\n",
        "\n",
        "  return img_model"
      ],
      "execution_count": null,
      "outputs": []
    },
    {
      "cell_type": "code",
      "metadata": {
        "id": "q0OkZylvaTJt"
      },
      "source": [
        "vgg19 = VGG19(weights='imagenet', include_top=False,input_shape=(150, 150, 3))\n",
        "vgg16 = VGG16(weights='imagenet', include_top=False,input_shape=(150, 150, 3))\n",
        "resnet = ResNet50(weights='imagenet', include_top=False,input_shape=(150, 150, 3))"
      ],
      "execution_count": null,
      "outputs": []
    },
    {
      "cell_type": "markdown",
      "source": [
        "## VGG16+PixelAttention"
      ],
      "metadata": {
        "id": "eHjzniQ_xDee"
      }
    },
    {
      "cell_type": "code",
      "metadata": {
        "id": "ljutn2licrwz"
      },
      "source": [
        "keras.backend.clear_session()\n",
        "vgg16_att_model = visual_models(vgg16)\n",
        "vgg16_att_model.compile(loss='binary_crossentropy',\n",
        "                    optimizer=RMSprop(),\n",
        "                    metrics = [\"accuracy\"])"
      ],
      "execution_count": null,
      "outputs": []
    },
    {
      "cell_type": "code",
      "metadata": {
        "id": "CBUiUlWNcrw1"
      },
      "source": [
        "vgg16_att_model.fit(x=train_image,\n",
        "              y=train_data['enc_label'],\n",
        "              epochs=10,\n",
        "              batch_size =16,\n",
        "              validation_data = (valid_image,valid_data['enc_label']),\n",
        "              verbose = 1,\n",
        "              class_weight = weight,\n",
        "              callbacks = callbacks_check('vgg16-att-channel')\n",
        "              )"
      ],
      "execution_count": null,
      "outputs": []
    },
    {
      "cell_type": "code",
      "source": [
        "vgg16_att_model.save_weights(models_path+'vgg16-att-channel')"
      ],
      "metadata": {
        "id": "Cq9Kx_BMtTDl"
      },
      "execution_count": null,
      "outputs": []
    },
    {
      "cell_type": "code",
      "metadata": {
        "id": "Sjgsxd9Ecrw2"
      },
      "source": [
        " # Prediction\n",
        "model = vgg16_att_model.load_weights(models_path+\"vgg16-att-channel\")\n",
        "pred = vgg16_att_model.predict(test_image)\n",
        "y_pred = (pred>0.4).astype(int)"
      ],
      "execution_count": null,
      "outputs": []
    },
    {
      "cell_type": "code",
      "metadata": {
        "colab": {
          "base_uri": "https://localhost:8080/"
        },
        "outputId": "fb904517-30f1-4d73-95cf-71de12cf6702",
        "id": "kXfUeuBScrw2"
      },
      "source": [
        "y_true = test_data['enc_label']\n",
        "print_metrices(y_true,y_pred)"
      ],
      "execution_count": null,
      "outputs": [
        {
          "output_type": "stream",
          "name": "stdout",
          "text": [
            "[[177  80]\n",
            " [ 71  88]]\n",
            "              precision    recall  f1-score   support\n",
            "\n",
            "    not-hate       0.71      0.69      0.70       257\n",
            "        hate       0.52      0.55      0.54       159\n",
            "\n",
            "    accuracy                           0.64       416\n",
            "   macro avg       0.62      0.62      0.62       416\n",
            "weighted avg       0.64      0.64      0.64       416\n",
            "\n",
            "Accuracy :  0.6370192307692307\n",
            "Precison :  0.6411276475540588\n",
            "Recall :  0.6370192307692307\n",
            "F1 :  0.6387798968675978\n"
          ]
        }
      ]
    },
    {
      "cell_type": "markdown",
      "source": [
        "## VGG19 + PixelAttention"
      ],
      "metadata": {
        "id": "71lQU0bWxMPP"
      }
    },
    {
      "cell_type": "code",
      "metadata": {
        "id": "iHnPKmw6xMPQ"
      },
      "source": [
        "keras.backend.clear_session()\n",
        "vgg19_att_model = visual_models(vgg19)\n",
        "vgg19_att_model.compile(loss='binary_crossentropy',\n",
        "                    optimizer=RMSprop(),\n",
        "                    metrics = [\"accuracy\"])"
      ],
      "execution_count": null,
      "outputs": []
    },
    {
      "cell_type": "code",
      "metadata": {
        "id": "LRJrkU-hxMPR"
      },
      "source": [
        "vgg19_att_model.fit(x=train_image,\n",
        "              y=train_data['enc_label'],\n",
        "              epochs=10,\n",
        "              batch_size =16,\n",
        "              validation_data = (valid_image,valid_data['enc_label']),\n",
        "              verbose = 1,\n",
        "              class_weight = weight,\n",
        "              callbacks = callbacks_check('vgg19-att-channel')\n",
        "              )"
      ],
      "execution_count": null,
      "outputs": []
    },
    {
      "cell_type": "code",
      "source": [
        "vgg19_att_model.save_weights(models_path+'vgg19-att-channel')"
      ],
      "metadata": {
        "id": "r1b3xbJixMPR"
      },
      "execution_count": null,
      "outputs": []
    },
    {
      "cell_type": "code",
      "metadata": {
        "id": "VCQghXTNxMPS"
      },
      "source": [
        " # Prediction\n",
        "model = vgg19_att_model.load_weights(models_path+\"vgg19-att-channel\")\n",
        "pred = vgg19_att_model.predict(test_image)\n",
        "y_pred = (pred>0.4).astype(int)"
      ],
      "execution_count": null,
      "outputs": []
    },
    {
      "cell_type": "code",
      "metadata": {
        "colab": {
          "base_uri": "https://localhost:8080/"
        },
        "outputId": "479a8c5d-0e50-4119-af50-cb094489aae0",
        "id": "th92KkvBxMPS"
      },
      "source": [
        "y_true = test_data['enc_label']\n",
        "print_metrices(y_true,y_pred)"
      ],
      "execution_count": null,
      "outputs": [
        {
          "output_type": "stream",
          "name": "stdout",
          "text": [
            "[[173  84]\n",
            " [ 81  78]]\n",
            "              precision    recall  f1-score   support\n",
            "\n",
            "    not-hate       0.68      0.67      0.68       257\n",
            "        hate       0.48      0.49      0.49       159\n",
            "\n",
            "    accuracy                           0.60       416\n",
            "   macro avg       0.58      0.58      0.58       416\n",
            "weighted avg       0.60      0.60      0.60       416\n",
            "\n",
            "Accuracy :  0.6033653846153846\n",
            "Precison :  0.6048049582744464\n",
            "Recall :  0.6033653846153846\n",
            "F1 :  0.6040545279199101\n"
          ]
        }
      ]
    },
    {
      "cell_type": "markdown",
      "source": [
        "## ResNet50 + PixelAttention"
      ],
      "metadata": {
        "id": "TruDrYgyylnw"
      }
    },
    {
      "cell_type": "code",
      "metadata": {
        "id": "NEqLfSFyylnw"
      },
      "source": [
        "keras.backend.clear_session()\n",
        "resnet_att_model = visual_models(resnet)\n",
        "resnet_att_model.compile(loss='binary_crossentropy',\n",
        "                    optimizer=Adam(),\n",
        "                    metrics = [\"accuracy\"])"
      ],
      "execution_count": null,
      "outputs": []
    },
    {
      "cell_type": "code",
      "metadata": {
        "id": "9CrAMUCmylnx"
      },
      "source": [
        "resnet_att_model.fit(x=train_image,\n",
        "              y=train_data['enc_label'],\n",
        "              epochs=10,\n",
        "              batch_size =16,\n",
        "              validation_data = (valid_image,valid_data['enc_label']),\n",
        "              verbose = 1,\n",
        "              class_weight = weight,\n",
        "              callbacks = callbacks_check('resnet-att-channel')\n",
        "              )"
      ],
      "execution_count": null,
      "outputs": []
    },
    {
      "cell_type": "code",
      "source": [
        "resnet_att_model.save_weights(models_path+'resnet-att-channel')"
      ],
      "metadata": {
        "id": "0f1-4Zggylny"
      },
      "execution_count": null,
      "outputs": []
    },
    {
      "cell_type": "code",
      "metadata": {
        "id": "nkX0v3B7ylny"
      },
      "source": [
        " # Prediction\n",
        "model = resnet_att_model.load_weights(models_path+\"resnet-att-channel\")\n",
        "pred = resnet_att_model.predict(test_image)\n",
        "y_pred = (pred>0.5).astype(int)"
      ],
      "execution_count": null,
      "outputs": []
    },
    {
      "cell_type": "code",
      "metadata": {
        "colab": {
          "base_uri": "https://localhost:8080/"
        },
        "outputId": "f3c87dab-873b-4ff0-b184-9cb4e0a7cc80",
        "id": "wtrK3Q4gylny"
      },
      "source": [
        "y_true = test_data['enc_label']\n",
        "print_metrices(y_true,y_pred)"
      ],
      "execution_count": null,
      "outputs": [
        {
          "output_type": "stream",
          "name": "stdout",
          "text": [
            "[[134 123]\n",
            " [ 46 113]]\n",
            "              precision    recall  f1-score   support\n",
            "\n",
            "    not-hate       0.74      0.52      0.61       257\n",
            "        hate       0.48      0.71      0.57       159\n",
            "\n",
            "    accuracy                           0.59       416\n",
            "   macro avg       0.61      0.62      0.59       416\n",
            "weighted avg       0.64      0.59      0.60       416\n",
            "\n",
            "Accuracy :  0.59375\n",
            "Precison :  0.6429172551789077\n",
            "Recall :  0.59375\n",
            "F1 :  0.5975556150971817\n"
          ]
        }
      ]
    },
    {
      "cell_type": "markdown",
      "source": [
        "#Textual Models"
      ],
      "metadata": {
        "id": "B6e_hFxhO90z"
      }
    },
    {
      "cell_type": "markdown",
      "source": [
        "##Keras Tokenizer"
      ],
      "metadata": {
        "id": "IP-QH0ZFPObx"
      }
    },
    {
      "cell_type": "code",
      "source": [
        "''' Tokenizer '''\n",
        "\n",
        "def text_tokenizer(train_data,test_data,vocabulary,max_len,sample_text_num):\n",
        "\n",
        "  tokenizer = Tokenizer(num_words = vocabulary ,filters='!\"#$%&()*+,-./:;<=>?@[\\\\]^_`{|}~\\t\\n-',\n",
        "                        split=' ', char_level=False, oov_token='<oov>', document_count=0)\n",
        "  tokenizer.fit_on_texts(train_data['Captions'])\n",
        "  word_index = tokenizer.word_index\n",
        "  vocab_size = len(word_index)+1\n",
        "\n",
        "  # Training Sequences\n",
        "  train_sequences = tokenizer.texts_to_sequences(train_data['Captions'])\n",
        "  train_pad_sequences =  keras.preprocessing.sequence.pad_sequences(train_sequences, value=0.0, padding='post', maxlen= max_len)\n",
        "\n",
        "\n",
        "  # Validation Sequences\n",
        "  valid_sequences = tokenizer.texts_to_sequences(valid_data['Captions'])\n",
        "  valid_pad_sequences =  keras.preprocessing.sequence.pad_sequences(valid_sequences, value=0.0, padding='post', maxlen= max_len)\n",
        "\n",
        "\n",
        "  # Test Sequences\n",
        "  test_sequences = tokenizer.texts_to_sequences(test_data['Captions'])\n",
        "  test_pad_sequences =  keras.preprocessing.sequence.pad_sequences(test_sequences, value=0.0, padding='post', maxlen= max_len)\n",
        "\n",
        "\n",
        "  print(color.BOLD+\"\\n\\t\\t\\t====== Encoded Sequences ======\"+color.END,\"\\n\")\n",
        "  print(train_data.Captions[sample_text_num],\"\\n\",train_sequences[sample_text_num])\n",
        "  print(color.BOLD+\"\\n\\t\\t\\t====== Paded Sequences ======\\n\"+color.END,\"\\n\",train_pad_sequences[sample_text_num])\n",
        "\n",
        "  return train_pad_sequences, valid_pad_sequences, test_pad_sequences, vocab_size, word_index\n",
        "\n",
        "\n",
        "vocabulary = 15000\n",
        "max_len = 50\n",
        "sample_text_num = 10\n",
        "\n",
        "## Call Tokenizer\n",
        "train_pad_sequences, valid_pad_sequences, test_pad_sequences, vocab_size, word_index =  text_tokenizer(train_data,test_data,\n",
        "                                                                      vocabulary,max_len,sample_text_num)\n",
        "\n",
        "print(\"Number of Train Sequences :\" ,train_pad_sequences.shape)\n",
        "print(\"Number of Test Sequences :\" ,test_pad_sequences.shape)\n",
        "print(\"Vocabulary Size: \",vocab_size)"
      ],
      "metadata": {
        "colab": {
          "base_uri": "https://localhost:8080/"
        },
        "id": "iZx6Ur6RO_xR",
        "outputId": "ad5d5b32-e728-4b51-bb9e-7d91c06323aa"
      },
      "execution_count": null,
      "outputs": [
        {
          "output_type": "stream",
          "name": "stdout",
          "text": [
            "\u001b[1m\n",
            "\t\t\t====== Encoded Sequences ======\u001b[0m \n",
            "\n",
            "ভার্সিটির বড় ভাই    আমি*    কুমুদিনীর মেয়ে  \n",
            " [1442, 63, 39, 3, 467, 41]\n",
            "\u001b[1m\n",
            "\t\t\t====== Paded Sequences ======\n",
            "\u001b[0m \n",
            " [1442   63   39    3  467   41    0    0    0    0    0    0    0    0\n",
            "    0    0    0    0    0    0    0    0    0    0    0    0    0    0\n",
            "    0    0    0    0    0    0    0    0    0    0    0    0    0    0\n",
            "    0    0    0    0    0    0    0    0]\n",
            "Number of Train Sequences : (3365, 50)\n",
            "Number of Test Sequences : (416, 50)\n",
            "Vocabulary Size:  11993\n"
          ]
        }
      ]
    },
    {
      "cell_type": "markdown",
      "source": [
        "##BiLSTM+CNN"
      ],
      "metadata": {
        "id": "83GFADW0P9MW"
      }
    },
    {
      "cell_type": "code",
      "metadata": {
        "id": "PwJCLoHRJBFW"
      },
      "source": [
        "##### LSTM-CNN Model ####\n",
        "lc_text_inputs = Input(shape=(max_len,))\n",
        "lc_embedding_layer = Embedding(vocab_size,64)(lc_text_inputs)\n",
        "LSTM_Layer = Bidirectional(LSTM(32,return_sequences=True))(lc_embedding_layer)\n",
        "lc_conv1 = Conv1D(32,2,activation='relu')(LSTM_Layer)\n",
        "lc_pool1 = MaxPooling1D(2)(lc_conv1)\n",
        "lc_flat = Flatten()(lc_pool1)\n",
        "lc_dense_layer_1 = Dense(1, activation='sigmoid')(lc_flat)\n",
        "cnn_lstm_model = Model(inputs=lc_text_inputs, outputs=lc_dense_layer_1)"
      ],
      "execution_count": null,
      "outputs": []
    },
    {
      "cell_type": "code",
      "metadata": {
        "colab": {
          "base_uri": "https://localhost:8080/"
        },
        "id": "dH69cMerJYIV",
        "outputId": "6ffb2c6e-8108-4646-e869-71ab9de1b7cf"
      },
      "source": [
        "keras.backend.clear_session()\n",
        "cnn_lstm_model.compile(loss='binary_crossentropy', optimizer=Adam(), metrics=['accuracy'])\n",
        "\n",
        "\n",
        "cnn_lstm_model.fit(train_pad_sequences,\n",
        "    train_data['enc_label'],\n",
        "    epochs=20,\n",
        "    batch_size =32,\n",
        "    validation_data = (valid_pad_sequences,valid_data['enc_label']),\n",
        "    verbose = 1,\n",
        "    class_weight = weight,\n",
        "    callbacks = callbacks_check('lstm-cnn'))"
      ],
      "execution_count": null,
      "outputs": [
        {
          "output_type": "stream",
          "name": "stdout",
          "text": [
            "Epoch 1/20\n",
            "106/106 [==============================] - ETA: 0s - loss: 0.6764 - accuracy: 0.5590\n",
            "Epoch 00001: val_accuracy improved from -inf to 0.63467, saving model to /content/drive/MyDrive/Colab Notebooks/NLP Projects/Online Memes/Dataset-3300/Hateful Memes/Models/lstm-cnn.h5\n",
            "106/106 [==============================] - 17s 18ms/step - loss: 0.6764 - accuracy: 0.5590 - val_loss: 0.6300 - val_accuracy: 0.6347\n",
            "Epoch 2/20\n",
            "102/106 [===========================>..] - ETA: 0s - loss: 0.4224 - accuracy: 0.8021\n",
            "Epoch 00002: val_accuracy did not improve from 0.63467\n",
            "106/106 [==============================] - 1s 9ms/step - loss: 0.4203 - accuracy: 0.8033 - val_loss: 0.6888 - val_accuracy: 0.6293\n",
            "Epoch 3/20\n",
            "102/106 [===========================>..] - ETA: 0s - loss: 0.1310 - accuracy: 0.9556\n",
            "Epoch 00003: val_accuracy did not improve from 0.63467\n",
            "106/106 [==============================] - 1s 9ms/step - loss: 0.1318 - accuracy: 0.9545 - val_loss: 1.1998 - val_accuracy: 0.6187\n",
            "Epoch 4/20\n",
            "102/106 [===========================>..] - ETA: 0s - loss: 0.0483 - accuracy: 0.9853\n",
            "Reached 98.00% accuracy so we will stop trianing\n",
            "\n",
            "Epoch 00004: val_accuracy did not improve from 0.63467\n",
            "106/106 [==============================] - 1s 10ms/step - loss: 0.0496 - accuracy: 0.9851 - val_loss: 1.1093 - val_accuracy: 0.6213\n"
          ]
        },
        {
          "output_type": "execute_result",
          "data": {
            "text/plain": [
              "<keras.callbacks.History at 0x7f636e7d7f50>"
            ]
          },
          "metadata": {},
          "execution_count": 14
        }
      ]
    },
    {
      "cell_type": "code",
      "metadata": {
        "id": "bVPVCtJJJYIX"
      },
      "source": [
        " # Prediction\n",
        "model = load_model(models_path+\"lstm-cnn.h5\")\n",
        "pred = model.predict(test_pad_sequences)\n",
        "y_pred = (pred>0.5).astype(int)\n",
        "y_true = test_data['enc_label']\n",
        "print_metrices(y_true,y_pred)"
      ],
      "execution_count": null,
      "outputs": []
    },
    {
      "cell_type": "markdown",
      "source": [
        "##LSTM+ATT"
      ],
      "metadata": {
        "id": "M2jKxfCyQpg7"
      }
    },
    {
      "cell_type": "code",
      "metadata": {
        "id": "vSKK36iKTZLz"
      },
      "source": [
        "def create_lstm_attention_model (max_len,vocab_size,embedding_dimension):\n",
        "\n",
        "  class Attention(tf.keras.Model):\n",
        "      def __init__(self, units):\n",
        "          super(Attention, self).__init__()\n",
        "          self.W1 = tf.keras.layers.Dense(units)\n",
        "          self.W2 = tf.keras.layers.Dense(units)\n",
        "          self.V = tf.keras.layers.Dense(1)\n",
        "\n",
        "      def call(self, features, hidden):\n",
        "          # hidden shape == (batch_size, hidden size)\n",
        "          # hidden_with_time_axis shape == (batch_size, 1, hidden size)\n",
        "          # we are doing this to perform addition to calculate the score\n",
        "          hidden_with_time_axis = tf.expand_dims(hidden, 1)\n",
        "\n",
        "          # score shape == (batch_size, max_length, 1)\n",
        "          # we get 1 at the last axis because we are applying score to self.V\n",
        "          # the shape of the tensor before applying self.V is (batch_size, max_length, units)\n",
        "          score = tf.nn.tanh(\n",
        "              self.W1(features) + self.W2(hidden_with_time_axis))\n",
        "          # attention_weights shape == (batch_size, max_length, 1)\n",
        "          attention_weights = tf.nn.softmax(self.V(score), axis=1)\n",
        "\n",
        "          # context_vector shape after sum == (batch_size, hidden_size)\n",
        "          context_vector = attention_weights * features\n",
        "          context_vector = tf.reduce_sum(context_vector, axis=1)\n",
        "          return context_vector, attention_weights\n",
        "\n",
        "  sequence_input = Input(shape=(max_len,), dtype=\"int32\")\n",
        "  embedded_sequences = Embedding(vocab_size, embedding_dimension)(sequence_input)\n",
        "  #lstm = Bidirectional(LSTM(128, return_sequences = True), name=\"bi_lstm_0\")(embedded_sequences)\n",
        "  # Getting our LSTM outputs\n",
        "  (lstm, forward_h, forward_c, backward_h, backward_c) = Bidirectional(LSTM(32, return_sequences=True, return_state=True), name=\"bi_lstm_1\")(embedded_sequences)\n",
        "\n",
        "  state_h = Concatenate()([forward_h, backward_h])\n",
        "  state_c = Concatenate()([forward_c, backward_c])\n",
        "  context_vector, attention_weights = Attention(20)(lstm, state_h)\n",
        "  #dense1 = Dense(20, activation=\"relu\")(context_vector)\n",
        "  #dropout = Dropout(0.01)(dense1)\n",
        "  output = Dense(1, activation=\"sigmoid\")(context_vector)\n",
        "\n",
        "  lstm_attention_model = Model(inputs=sequence_input, outputs=output)\n",
        "\n",
        "  return lstm_attention_model\n"
      ],
      "execution_count": null,
      "outputs": []
    },
    {
      "cell_type": "code",
      "metadata": {
        "id": "CzGhjkgXZixs"
      },
      "source": [
        "filepath = models_path + 'lstm_att.h5'\n",
        "checkpoint = keras.callbacks.ModelCheckpoint(filepath, monitor='val_accuracy', verbose=2, save_best_only=True,\n",
        "                                             save_weights_only=True, mode='max' )"
      ],
      "execution_count": null,
      "outputs": []
    },
    {
      "cell_type": "code",
      "metadata": {
        "id": "Pg3SfjHFT6I7"
      },
      "source": [
        "maximum_length = 50\n",
        "vocabulary_size = vocab_size\n",
        "embedding_dimension = 64\n",
        "keras.backend.clear_session()\n",
        "####\n",
        "\n",
        "model = create_lstm_attention_model (maximum_length,vocabulary_size,embedding_dimension)\n",
        "model.compile(loss='binary_crossentropy',\n",
        "              optimizer= Adam(),\n",
        "              metrics=['accuracy'])\n",
        "\n",
        "model.fit(train_pad_sequences,train_data['enc_label'],\n",
        "                    batch_size=32,\n",
        "                    epochs=10,\n",
        "                    validation_data = (valid_pad_sequences, valid_data['enc_label']),\n",
        "                    verbose =1,\n",
        "                    callbacks = [checkpoint] )"
      ],
      "execution_count": null,
      "outputs": []
    },
    {
      "cell_type": "code",
      "metadata": {
        "id": "XHuNsT0ChTqu",
        "colab": {
          "base_uri": "https://localhost:8080/"
        },
        "outputId": "05c520fb-8c98-45f0-8708-d61beaf7efc0"
      },
      "source": [
        "model = create_lstm_attention_model (maximum_length,vocabulary_size,embedding_dimension)\n",
        "model.load_weights(models_path + 'lstm_att.h5')\n",
        "y_pred = (model.predict(test_pad_sequences)>0.5).astype(int)\n",
        "print_metrices(y_true,y_pred)"
      ],
      "execution_count": null,
      "outputs": [
        {
          "output_type": "stream",
          "name": "stdout",
          "text": [
            "[[194  63]\n",
            " [ 81  78]]\n",
            "              precision    recall  f1-score   support\n",
            "\n",
            "    not-hate       0.71      0.75      0.73       257\n",
            "        hate       0.55      0.49      0.52       159\n",
            "\n",
            "    accuracy                           0.65       416\n",
            "   macro avg       0.63      0.62      0.62       416\n",
            "weighted avg       0.65      0.65      0.65       416\n",
            "\n",
            "Accuracy :  0.6538461538461539\n",
            "Precison :  0.6472578485344442\n",
            "Recall :  0.6538461538461539\n",
            "F1 :  0.6493175245806824\n"
          ]
        }
      ]
    },
    {
      "cell_type": "markdown",
      "metadata": {
        "id": "Ebx0NY_pAudd"
      },
      "source": [
        "##Transformers"
      ]
    },
    {
      "cell_type": "code",
      "metadata": {
        "id": "mG9fwoQnKf3q"
      },
      "source": [
        "!pip install transformers"
      ],
      "execution_count": null,
      "outputs": []
    },
    {
      "cell_type": "code",
      "metadata": {
        "id": "HV4TMcQjKymx"
      },
      "source": [
        "############################## Sentence Encoding for Transformers\n",
        "\n",
        "def bert_encode(data,maximum_length,tokenizer) :\n",
        "  input_ids = []\n",
        "  attention_masks = []\n",
        "\n",
        "\n",
        "  for i in range(len(data.Captions)):\n",
        "      encoded = tokenizer.encode_plus(\n",
        "\n",
        "        data.Captions[i],\n",
        "        add_special_tokens=True,\n",
        "        max_length=maximum_length,\n",
        "        pad_to_max_length=True,\n",
        "        truncation=True,\n",
        "        return_attention_mask=True,\n",
        "\n",
        "      )\n",
        "\n",
        "      input_ids.append(encoded['input_ids'])\n",
        "      attention_masks.append(encoded['attention_mask'])\n",
        "  return np.array(input_ids),np.array(attention_masks)"
      ],
      "execution_count": null,
      "outputs": []
    },
    {
      "cell_type": "code",
      "metadata": {
        "id": "1EKBdUOsLTSt"
      },
      "source": [
        "#######################################             Model Defination\n",
        "def create_model(bert_model,max_len):\n",
        "  input_ids = Input(shape=(max_len,),dtype='int32')\n",
        "  attention_masks = Input(shape=(max_len,),dtype='int32')\n",
        "  output = bert_model([input_ids,attention_masks])\n",
        "  output = output[0]                                ## 0 for distillbert\n",
        "  #output = Dense(32,activation='relu')(output[:, 0, :])\n",
        "  #output = Dropout(0.1)(output)\n",
        "  output = Dense(1,activation='sigmoid')(output[:, 0, :])\n",
        "  model = Model(inputs = [input_ids,attention_masks],outputs = output)\n",
        "  return model"
      ],
      "execution_count": null,
      "outputs": []
    },
    {
      "cell_type": "markdown",
      "metadata": {
        "id": "U0S90-7iLghb"
      },
      "source": [
        "###Bangla-BERT"
      ]
    },
    {
      "cell_type": "code",
      "metadata": {
        "id": "nGEFGLc5vZzy",
        "colab": {
          "base_uri": "https://localhost:8080/",
          "height": 81,
          "referenced_widgets": [
            "d79c2c38430c4e879d9cc0b5d0026f5c",
            "e6f6badc5c4449efb7e5ecad99c3e514",
            "0ff6c99e014f428ea09674ebfdb11761",
            "f542b900a054419eaecf4a5e3f0566e1",
            "0fc8738cd09c45dd91d8bdf64078c7cc",
            "a265b93ba72248abaf92d0543eb26b26",
            "354c35cb7e304fd7a545816aa49e913c",
            "652e9d18cdb34c51985a0d9ea76fcc0c",
            "2e93b4481c444bd083d77fce21711959",
            "24f35df8295040a7a8403aa89fea5876",
            "fa095debd00d4cb4bf85ea98255b0e48",
            "df031b5db6ca486fbd418d6c0d20c34f",
            "eb4ed9249a6a4a25b3ffbbb206fa3253",
            "ede7964d9cbd49b2926b03e31e9ffb37",
            "53b37c6e4a1f47f3acec9b3d36efd33a",
            "c3cd6c5582234cf4b4df4b3d3288434a",
            "9437d00842514c80a7bf0a4ad3277701",
            "0eb69d52f28d4d29a7ed96be16a7f656",
            "f039bfce568047849421ca5827e20bbb",
            "a2ed53bb30fd4d93a6c0ba9aee2e05a3",
            "5fcc813a20b84ff486f0288494b71b23",
            "7a9ecbdd5b13465b89b23e8e770a7d07"
          ]
        },
        "outputId": "412543e9-40c6-423c-8a88-03dd110a5aa1"
      },
      "source": [
        "from transformers import BertTokenizer\n",
        "tokenizer = BertTokenizer.from_pretrained('sagorsarker/bangla-bert-base')"
      ],
      "execution_count": null,
      "outputs": [
        {
          "output_type": "display_data",
          "data": {
            "application/vnd.jupyter.widget-view+json": {
              "model_id": "d79c2c38430c4e879d9cc0b5d0026f5c",
              "version_minor": 0,
              "version_major": 2
            },
            "text/plain": [
              "Downloading:   0%|          | 0.00/2.13M [00:00<?, ?B/s]"
            ]
          },
          "metadata": {}
        },
        {
          "output_type": "display_data",
          "data": {
            "application/vnd.jupyter.widget-view+json": {
              "model_id": "df031b5db6ca486fbd418d6c0d20c34f",
              "version_minor": 0,
              "version_major": 2
            },
            "text/plain": [
              "Downloading:   0%|          | 0.00/491 [00:00<?, ?B/s]"
            ]
          },
          "metadata": {}
        }
      ]
    },
    {
      "cell_type": "code",
      "metadata": {
        "id": "8kvjY3d6vvZh"
      },
      "source": [
        "train_input_ids,train_attention_masks = bert_encode(train_data,50,tokenizer)\n",
        "valid_input_ids,valid_attention_masks = bert_encode(valid_data,50,tokenizer)\n",
        "test_input_ids,test_attention_masks = bert_encode(test_data,50,tokenizer)"
      ],
      "execution_count": null,
      "outputs": []
    },
    {
      "cell_type": "code",
      "metadata": {
        "id": "55vNn0YPws9w"
      },
      "source": [
        "from transformers import TFBertModel\n",
        "bert_model = TFBertModel.from_pretrained('sagorsarker/bangla-bert-base')"
      ],
      "execution_count": null,
      "outputs": []
    },
    {
      "cell_type": "code",
      "metadata": {
        "id": "s_hXn1AYV-St"
      },
      "source": [
        "### Checkpoint\n",
        "filepath = models_path + 'bangla-bert-1.h5'\n",
        "checkpoint = keras.callbacks.ModelCheckpoint(filepath, monitor='val_accuracy', verbose=2, save_best_only=True,\n",
        "                                             save_weights_only=True, mode='max' )\n"
      ],
      "execution_count": null,
      "outputs": []
    },
    {
      "cell_type": "code",
      "metadata": {
        "id": "QFsUoaagxSCw"
      },
      "source": [
        "keras.backend.clear_session()\n",
        "# 3e-4, 1e-4, 5e-5, 3e-5,1e-5\n",
        "model = create_model(bert_model,50)\n",
        "model.compile(Adam(lr=3e-5), loss='binary_crossentropy', metrics=['accuracy'])\n",
        "#model.summary()"
      ],
      "execution_count": null,
      "outputs": []
    },
    {
      "cell_type": "code",
      "metadata": {
        "id": "cnX6mhgfxgV6",
        "colab": {
          "base_uri": "https://localhost:8080/"
        },
        "outputId": "11cc3192-6361-4b98-a93f-0b9df0c77499"
      },
      "source": [
        "model.fit([train_input_ids,train_attention_masks],\n",
        "                    train_data['enc_label'],\n",
        "                    validation_data = ([valid_input_ids,valid_attention_masks], valid_data['enc_label']),\n",
        "                    epochs=6,\n",
        "                    batch_size=16,\n",
        "                    callbacks = [checkpoint],\n",
        "                    # class_weight = weight\n",
        "          )"
      ],
      "execution_count": null,
      "outputs": [
        {
          "output_type": "stream",
          "name": "stdout",
          "text": [
            "Epoch 1/6\n",
            "WARNING:tensorflow:Gradients do not exist for variables ['tf_bert_model/bert/pooler/dense/kernel:0', 'tf_bert_model/bert/pooler/dense/bias:0'] when minimizing the loss. If you're using `model.compile()`, did you forget to provide a `loss`argument?\n",
            "WARNING:tensorflow:Gradients do not exist for variables ['tf_bert_model/bert/pooler/dense/kernel:0', 'tf_bert_model/bert/pooler/dense/bias:0'] when minimizing the loss. If you're using `model.compile()`, did you forget to provide a `loss`argument?\n",
            "211/211 [==============================] - ETA: 0s - loss: 0.1481 - accuracy: 0.9281\n",
            "Epoch 00001: val_accuracy improved from -inf to 0.62133, saving model to /content/drive/MyDrive/Colab Notebooks/NLP Projects/Online Memes/Dataset-3300/Hateful Memes/Models/bangla-bert-1.h5\n",
            "211/211 [==============================] - 65s 237ms/step - loss: 0.1481 - accuracy: 0.9281 - val_loss: 1.7399 - val_accuracy: 0.6213\n",
            "Epoch 2/6\n",
            "211/211 [==============================] - ETA: 0s - loss: 0.1064 - accuracy: 0.9459\n",
            "Epoch 00002: val_accuracy improved from 0.62133 to 0.66933, saving model to /content/drive/MyDrive/Colab Notebooks/NLP Projects/Online Memes/Dataset-3300/Hateful Memes/Models/bangla-bert-1.h5\n",
            "211/211 [==============================] - 53s 253ms/step - loss: 0.1064 - accuracy: 0.9459 - val_loss: 1.7905 - val_accuracy: 0.6693\n",
            "Epoch 3/6\n",
            "211/211 [==============================] - ETA: 0s - loss: 0.1221 - accuracy: 0.9370\n",
            "Epoch 00003: val_accuracy did not improve from 0.66933\n",
            "211/211 [==============================] - 45s 214ms/step - loss: 0.1221 - accuracy: 0.9370 - val_loss: 1.6855 - val_accuracy: 0.6373\n",
            "Epoch 4/6\n",
            "211/211 [==============================] - ETA: 0s - loss: 0.1019 - accuracy: 0.9486\n",
            "Epoch 00004: val_accuracy did not improve from 0.66933\n",
            "211/211 [==============================] - 45s 216ms/step - loss: 0.1019 - accuracy: 0.9486 - val_loss: 1.8717 - val_accuracy: 0.6240\n",
            "Epoch 5/6\n",
            "211/211 [==============================] - ETA: 0s - loss: 0.0925 - accuracy: 0.9527\n",
            "Epoch 00005: val_accuracy did not improve from 0.66933\n",
            "211/211 [==============================] - 45s 216ms/step - loss: 0.0925 - accuracy: 0.9527 - val_loss: 2.3295 - val_accuracy: 0.6427\n",
            "Epoch 6/6\n",
            "211/211 [==============================] - ETA: 0s - loss: 0.0991 - accuracy: 0.9513\n",
            "Epoch 00006: val_accuracy did not improve from 0.66933\n",
            "211/211 [==============================] - 46s 216ms/step - loss: 0.0991 - accuracy: 0.9513 - val_loss: 1.5487 - val_accuracy: 0.6453\n"
          ]
        },
        {
          "output_type": "execute_result",
          "data": {
            "text/plain": [
              "<keras.callbacks.History at 0x7f60883a1790>"
            ]
          },
          "metadata": {},
          "execution_count": 75
        }
      ]
    },
    {
      "cell_type": "code",
      "source": [
        "#bangla-bert ---> 1e-5\n",
        "#bangla-bert ---->3e-5"
      ],
      "metadata": {
        "id": "hQWaGzgfilvD"
      },
      "execution_count": null,
      "outputs": []
    },
    {
      "cell_type": "code",
      "metadata": {
        "colab": {
          "base_uri": "https://localhost:8080/"
        },
        "id": "jUZU2vE5_ccU",
        "outputId": "be07cf8e-33ae-4fb2-fb27-c63b97235624"
      },
      "source": [
        "model2 = create_model(bert_model,50)\n",
        "model2.load_weights(models_path+\"bangla-bert-1.h5\")\n",
        "y_pred = (model2.predict([test_input_ids,test_attention_masks])>0.5).astype(int)\n",
        "#y_pred = np.argmax(pred,axis=1)\n",
        "y_true = test_data['enc_label']\n",
        "print_metrices(y_true,y_pred)"
      ],
      "execution_count": null,
      "outputs": [
        {
          "output_type": "stream",
          "name": "stdout",
          "text": [
            "[[210  47]\n",
            " [ 95  64]]\n",
            "              precision    recall  f1-score   support\n",
            "\n",
            "    not-hate       0.69      0.82      0.75       257\n",
            "        hate       0.58      0.40      0.47       159\n",
            "\n",
            "    accuracy                           0.66       416\n",
            "   macro avg       0.63      0.61      0.61       416\n",
            "weighted avg       0.65      0.66      0.64       416\n",
            "\n",
            "Accuracy :  0.6586538461538461\n",
            "Precison :  0.645736767662997\n",
            "Recall :  0.6586538461538461\n",
            "F1 :  0.6428890257626912\n"
          ]
        }
      ]
    },
    {
      "cell_type": "markdown",
      "metadata": {
        "id": "EQ0BOT2Cksq8"
      },
      "source": [
        "###M-BERT"
      ]
    },
    {
      "cell_type": "code",
      "metadata": {
        "id": "j4b23l5yksq9"
      },
      "source": [
        "from transformers import BertTokenizer\n",
        "tokenizer = BertTokenizer.from_pretrained('bert-base-multilingual-cased')"
      ],
      "execution_count": null,
      "outputs": []
    },
    {
      "cell_type": "code",
      "metadata": {
        "id": "_ARPbPtfksq-"
      },
      "source": [
        "train_input_ids,train_attention_masks = bert_encode(train_data,50,tokenizer)\n",
        "valid_input_ids,valid_attention_masks = bert_encode(valid_data,50,tokenizer)\n",
        "test_input_ids,test_attention_masks = bert_encode(test_data,50,tokenizer)"
      ],
      "execution_count": null,
      "outputs": []
    },
    {
      "cell_type": "code",
      "metadata": {
        "id": "Z2A1mjk0ksq_"
      },
      "source": [
        "from transformers import TFBertModel\n",
        "bert_model = TFBertModel.from_pretrained('bert-base-multilingual-cased')"
      ],
      "execution_count": null,
      "outputs": []
    },
    {
      "cell_type": "code",
      "metadata": {
        "id": "GuzGa409ksrA"
      },
      "source": [
        "### Checkpoint\n",
        "filepath = models_path + 'm-bert.h5'\n",
        "checkpoint = keras.callbacks.ModelCheckpoint(filepath, monitor='val_accuracy', verbose=2, save_best_only=True,\n",
        "                                             save_weights_only=True, mode='max' )\n"
      ],
      "execution_count": null,
      "outputs": []
    },
    {
      "cell_type": "code",
      "metadata": {
        "id": "HEoAVMErksrA"
      },
      "source": [
        "keras.backend.clear_session()\n",
        "# 3e-4, 1e-4, 5e-5, 3e-5,1e-5\n",
        "model = create_model(bert_model,50)\n",
        "model.compile(Adam(lr=1e-5), loss='binary_crossentropy', metrics=['accuracy'])\n",
        "#model.summary()"
      ],
      "execution_count": null,
      "outputs": []
    },
    {
      "cell_type": "code",
      "metadata": {
        "colab": {
          "base_uri": "https://localhost:8080/"
        },
        "outputId": "afbb4c56-858d-4ba6-bd2a-1e6ec1eb7e37",
        "id": "vQ5EMzEEksrB"
      },
      "source": [
        "model.fit([train_input_ids,train_attention_masks],\n",
        "                    train_data['enc_label'],\n",
        "                    validation_data = ([valid_input_ids,valid_attention_masks], valid_data['enc_label']),\n",
        "                    epochs=6,\n",
        "                    batch_size=16,\n",
        "                    callbacks = [checkpoint]\n",
        "                    # class_weight = weight\n",
        "          )"
      ],
      "execution_count": null,
      "outputs": [
        {
          "output_type": "stream",
          "name": "stdout",
          "text": [
            "Epoch 1/6\n",
            "WARNING:tensorflow:Gradients do not exist for variables ['tf_bert_model/bert/pooler/dense/kernel:0', 'tf_bert_model/bert/pooler/dense/bias:0'] when minimizing the loss. If you're using `model.compile()`, did you forget to provide a `loss`argument?\n",
            "WARNING:tensorflow:Gradients do not exist for variables ['tf_bert_model/bert/pooler/dense/kernel:0', 'tf_bert_model/bert/pooler/dense/bias:0'] when minimizing the loss. If you're using `model.compile()`, did you forget to provide a `loss`argument?\n",
            "211/211 [==============================] - ETA: 0s - loss: 0.6549 - accuracy: 0.6241\n",
            "Epoch 00001: val_accuracy improved from -inf to 0.62133, saving model to /content/drive/MyDrive/Colab Notebooks/NLP Projects/Online Memes/Dataset-3300/Hateful Memes/Models/m-bert.h5\n",
            "211/211 [==============================] - 67s 244ms/step - loss: 0.6549 - accuracy: 0.6241 - val_loss: 0.6528 - val_accuracy: 0.6213\n",
            "Epoch 2/6\n",
            "211/211 [==============================] - ETA: 0s - loss: 0.6219 - accuracy: 0.6493\n",
            "Epoch 00002: val_accuracy did not improve from 0.62133\n",
            "211/211 [==============================] - 47s 221ms/step - loss: 0.6219 - accuracy: 0.6493 - val_loss: 0.6456 - val_accuracy: 0.6027\n",
            "Epoch 3/6\n",
            "211/211 [==============================] - ETA: 0s - loss: 0.5603 - accuracy: 0.7013\n",
            "Epoch 00003: val_accuracy did not improve from 0.62133\n",
            "211/211 [==============================] - 47s 220ms/step - loss: 0.5603 - accuracy: 0.7013 - val_loss: 0.6832 - val_accuracy: 0.6080\n",
            "Epoch 4/6\n",
            "211/211 [==============================] - ETA: 0s - loss: 0.4235 - accuracy: 0.7982\n",
            "Epoch 00004: val_accuracy improved from 0.62133 to 0.63200, saving model to /content/drive/MyDrive/Colab Notebooks/NLP Projects/Online Memes/Dataset-3300/Hateful Memes/Models/m-bert.h5\n",
            "211/211 [==============================] - 57s 271ms/step - loss: 0.4235 - accuracy: 0.7982 - val_loss: 1.0152 - val_accuracy: 0.6320\n",
            "Epoch 5/6\n",
            "211/211 [==============================] - ETA: 0s - loss: 0.3100 - accuracy: 0.8636\n",
            "Epoch 00005: val_accuracy did not improve from 0.63200\n",
            "211/211 [==============================] - 48s 228ms/step - loss: 0.3100 - accuracy: 0.8636 - val_loss: 1.1066 - val_accuracy: 0.6187\n",
            "Epoch 6/6\n",
            "211/211 [==============================] - ETA: 0s - loss: 0.1915 - accuracy: 0.9201\n",
            "Epoch 00006: val_accuracy did not improve from 0.63200\n",
            "211/211 [==============================] - 47s 224ms/step - loss: 0.1915 - accuracy: 0.9201 - val_loss: 1.1821 - val_accuracy: 0.6053\n"
          ]
        },
        {
          "output_type": "execute_result",
          "data": {
            "text/plain": [
              "<keras.callbacks.History at 0x7f618dd8d250>"
            ]
          },
          "metadata": {},
          "execution_count": 82
        }
      ]
    },
    {
      "cell_type": "code",
      "metadata": {
        "colab": {
          "base_uri": "https://localhost:8080/"
        },
        "outputId": "bec9946d-ba11-4226-d3c1-3c7cd79853f9",
        "id": "x6MAP05GksrC"
      },
      "source": [
        "model2 = create_model(bert_model,50)\n",
        "model2.load_weights(models_path+\"m-bert.h5\")\n",
        "y_pred = (model2.predict([test_input_ids,test_attention_masks])>0.5).astype(int)\n",
        "#y_pred = np.argmax(pred,axis=1)\n",
        "y_true = test_data['enc_label']\n",
        "print_metrices(y_true,y_pred)"
      ],
      "execution_count": null,
      "outputs": [
        {
          "output_type": "stream",
          "name": "stdout",
          "text": [
            "[[214  43]\n",
            " [105  54]]\n",
            "              precision    recall  f1-score   support\n",
            "\n",
            "    not-hate       0.67      0.83      0.74       257\n",
            "        hate       0.56      0.34      0.42       159\n",
            "\n",
            "    accuracy                           0.64       416\n",
            "   macro avg       0.61      0.59      0.58       416\n",
            "weighted avg       0.63      0.64      0.62       416\n",
            "\n",
            "Accuracy :  0.6442307692307693\n",
            "Precison :  0.6272187197800422\n",
            "Recall :  0.6442307692307693\n",
            "F1 :  0.620296641292735\n"
          ]
        }
      ]
    },
    {
      "cell_type": "markdown",
      "source": [
        "###XLM-R"
      ],
      "metadata": {
        "id": "prerPeuwnEof"
      }
    },
    {
      "cell_type": "code",
      "metadata": {
        "id": "Jt1TynIiBwny"
      },
      "source": [
        "!pip install sentencepiece"
      ],
      "execution_count": null,
      "outputs": []
    },
    {
      "cell_type": "code",
      "metadata": {
        "id": "7A4hxW5AwqPG"
      },
      "source": [
        "from transformers import XLMRobertaTokenizer\n",
        "tokenizer = XLMRobertaTokenizer.from_pretrained('xlm-roberta-base')"
      ],
      "execution_count": null,
      "outputs": []
    },
    {
      "cell_type": "code",
      "metadata": {
        "id": "vz9OoUWNwqPG"
      },
      "source": [
        "train_input_ids,train_attention_masks = bert_encode(train_data,50,tokenizer)\n",
        "val_input_ids,val_attention_masks = bert_encode(valid_data,50,tokenizer)\n",
        "test_input_ids,test_attention_masks = bert_encode(test_data,50,tokenizer)"
      ],
      "execution_count": null,
      "outputs": []
    },
    {
      "cell_type": "code",
      "metadata": {
        "colab": {
          "base_uri": "https://localhost:8080/",
          "height": 188,
          "referenced_widgets": [
            "23ba9d876e0147779e100240e84e775f",
            "1633ee525bfc47a48fd9d6b58f24acc6",
            "77bf86dbbdfc46499a6cb2d898f513fe",
            "7368ebf9f37e4c5fb377c7196ce65ebf",
            "fe31ba332529486daf1dd2f2e095cb84",
            "0ef221686b4e423db52b4eb247840d40",
            "381c92d3d3b94b9786fc13f7f4cee313",
            "eea48bbe82504e6f83b0249ffa59c421",
            "0721627ce3bc44f4b73002ebf13ad4a5",
            "43f82eb976b44734b7ed0adc97ea11e3",
            "958a02870b28474cb0113a247d8ccf42",
            "fd3ac5f1743649a09b85b8401a41b761",
            "5171bcc9caf0481da375730127a4e4fe",
            "0bae85c1a2794a3fb55707a5dcd77cf3",
            "8a5b93f1227a4f9c9cd2bf6e04992856",
            "f04c730df53b4a64ad00400750e386a2",
            "21d0aa5921cf4529a419d4d4170b8625",
            "10e0e9d75c524358a09555880f03e8b1",
            "99a109d606514d638b701678f8076ff7",
            "05c10f36450c4aafb682239d49dc90ad",
            "e63c9c7150134eb58666a4aefd32524b",
            "4bec4f486a09434ebe65b786cd279a01"
          ]
        },
        "id": "1VpG6wFlwqPH",
        "outputId": "96d7bec6-fdfd-4438-ffa8-4f3a4f225dba"
      },
      "source": [
        "from transformers import TFXLMRobertaModel\n",
        "xlm_model = TFXLMRobertaModel.from_pretrained(\"jplu/tf-xlm-roberta-base\")"
      ],
      "execution_count": null,
      "outputs": [
        {
          "output_type": "display_data",
          "data": {
            "application/vnd.jupyter.widget-view+json": {
              "model_id": "23ba9d876e0147779e100240e84e775f",
              "version_minor": 0,
              "version_major": 2
            },
            "text/plain": [
              "Downloading:   0%|          | 0.00/512 [00:00<?, ?B/s]"
            ]
          },
          "metadata": {}
        },
        {
          "output_type": "display_data",
          "data": {
            "application/vnd.jupyter.widget-view+json": {
              "model_id": "fd3ac5f1743649a09b85b8401a41b761",
              "version_minor": 0,
              "version_major": 2
            },
            "text/plain": [
              "Downloading:   0%|          | 0.00/1.76G [00:00<?, ?B/s]"
            ]
          },
          "metadata": {}
        },
        {
          "output_type": "stream",
          "name": "stderr",
          "text": [
            "Some layers from the model checkpoint at jplu/tf-xlm-roberta-base were not used when initializing TFXLMRobertaModel: ['lm_head']\n",
            "- This IS expected if you are initializing TFXLMRobertaModel from the checkpoint of a model trained on another task or with another architecture (e.g. initializing a BertForSequenceClassification model from a BertForPreTraining model).\n",
            "- This IS NOT expected if you are initializing TFXLMRobertaModel from the checkpoint of a model that you expect to be exactly identical (initializing a BertForSequenceClassification model from a BertForSequenceClassification model).\n",
            "All the layers of TFXLMRobertaModel were initialized from the model checkpoint at jplu/tf-xlm-roberta-base.\n",
            "If your task is similar to the task the model of the checkpoint was trained on, you can already use TFXLMRobertaModel for predictions without further training.\n"
          ]
        }
      ]
    },
    {
      "cell_type": "code",
      "metadata": {
        "id": "h6FyUAKd3cnP"
      },
      "source": [
        "### Checkpoint\n",
        "filepath = models_path + 'xlm-r.h5'\n",
        "checkpoint = keras.callbacks.ModelCheckpoint(filepath, monitor='val_accuracy', verbose=2, save_best_only=True,\n",
        "                                             save_weights_only=True, mode='max' )"
      ],
      "execution_count": null,
      "outputs": []
    },
    {
      "cell_type": "code",
      "metadata": {
        "id": "S3FOGIEYwqPH"
      },
      "source": [
        "keras.backend.clear_session()\n",
        "model = create_model(xlm_model,50)\n",
        "model.compile(Adam(lr=1e-5), loss='binary_crossentropy', metrics=['accuracy'])\n",
        "model.summary()"
      ],
      "execution_count": null,
      "outputs": []
    },
    {
      "cell_type": "code",
      "metadata": {
        "id": "edduRuybwqPI",
        "colab": {
          "base_uri": "https://localhost:8080/"
        },
        "outputId": "27f01919-27dd-41f1-92e8-35ef743ed37b"
      },
      "source": [
        "model.fit([train_input_ids,train_attention_masks],\n",
        "                    train_data['enc_label'],\n",
        "                    validation_data = ([val_input_ids,val_attention_masks],valid_data['enc_label']),\n",
        "                    epochs=6,\n",
        "                    batch_size=16,\n",
        "                    callbacks = [checkpoint])"
      ],
      "execution_count": null,
      "outputs": [
        {
          "output_type": "stream",
          "name": "stdout",
          "text": [
            "Epoch 1/6\n",
            "WARNING:tensorflow:Gradients do not exist for variables ['tfxlm_roberta_model/roberta/pooler/dense/kernel:0', 'tfxlm_roberta_model/roberta/pooler/dense/bias:0'] when minimizing the loss. If you're using `model.compile()`, did you forget to provide a `loss`argument?\n",
            "WARNING:tensorflow:Gradients do not exist for variables ['tfxlm_roberta_model/roberta/pooler/dense/kernel:0', 'tfxlm_roberta_model/roberta/pooler/dense/bias:0'] when minimizing the loss. If you're using `model.compile()`, did you forget to provide a `loss`argument?\n",
            "211/211 [==============================] - ETA: 0s - loss: 0.6873 - accuracy: 0.5403\n",
            "Epoch 00001: val_accuracy improved from -inf to 0.61067, saving model to /content/drive/MyDrive/Colab Notebooks/NLP Projects/Online Memes/Dataset-3300/Hateful Memes/Models/xlm-r.h5\n",
            "211/211 [==============================] - 87s 340ms/step - loss: 0.6873 - accuracy: 0.5403 - val_loss: 0.6312 - val_accuracy: 0.6107\n",
            "Epoch 2/6\n",
            "211/211 [==============================] - ETA: 0s - loss: 0.6170 - accuracy: 0.6294\n",
            "Epoch 00002: val_accuracy did not improve from 0.61067\n",
            "211/211 [==============================] - 57s 272ms/step - loss: 0.6170 - accuracy: 0.6294 - val_loss: 0.6197 - val_accuracy: 0.6027\n",
            "Epoch 3/6\n",
            "211/211 [==============================] - ETA: 0s - loss: 0.5806 - accuracy: 0.6716\n",
            "Epoch 00003: val_accuracy improved from 0.61067 to 0.70400, saving model to /content/drive/MyDrive/Colab Notebooks/NLP Projects/Online Memes/Dataset-3300/Hateful Memes/Models/xlm-r.h5\n",
            "211/211 [==============================] - 68s 321ms/step - loss: 0.5806 - accuracy: 0.6716 - val_loss: 0.5665 - val_accuracy: 0.7040\n",
            "Epoch 4/6\n",
            "211/211 [==============================] - ETA: 0s - loss: 0.5311 - accuracy: 0.7266\n",
            "Epoch 00004: val_accuracy did not improve from 0.70400\n",
            "211/211 [==============================] - 58s 276ms/step - loss: 0.5311 - accuracy: 0.7266 - val_loss: 0.6249 - val_accuracy: 0.6107\n",
            "Epoch 5/6\n",
            "211/211 [==============================] - ETA: 0s - loss: 0.4958 - accuracy: 0.7533\n",
            "Epoch 00005: val_accuracy did not improve from 0.70400\n",
            "211/211 [==============================] - 58s 274ms/step - loss: 0.4958 - accuracy: 0.7533 - val_loss: 0.6290 - val_accuracy: 0.6880\n",
            "Epoch 6/6\n",
            "211/211 [==============================] - ETA: 0s - loss: 0.4383 - accuracy: 0.7938\n",
            "Epoch 00006: val_accuracy did not improve from 0.70400\n",
            "211/211 [==============================] - 58s 274ms/step - loss: 0.4383 - accuracy: 0.7938 - val_loss: 0.6174 - val_accuracy: 0.6827\n"
          ]
        },
        {
          "output_type": "execute_result",
          "data": {
            "text/plain": [
              "<keras.callbacks.History at 0x7fdfdfa40ad0>"
            ]
          },
          "metadata": {},
          "execution_count": 29
        }
      ]
    },
    {
      "cell_type": "code",
      "metadata": {
        "colab": {
          "base_uri": "https://localhost:8080/"
        },
        "id": "CoNaXsS7wqPJ",
        "outputId": "34c11509-9522-48a6-ef25-21c38decba36"
      },
      "source": [
        "model1 = create_model(xlm_model,50)\n",
        "model1.load_weights(models_path+\"xlm-r.h5\")\n",
        "\n",
        "y_pred = (model1.predict([test_input_ids,test_attention_masks])>0.5).astype(int)\n",
        "#y_pred = np.argmax(pred,axis=1)\n",
        "y_true = test_data['enc_label']\n",
        "print_metrices(y_true,y_pred)"
      ],
      "execution_count": null,
      "outputs": [
        {
          "output_type": "stream",
          "name": "stdout",
          "text": [
            "[[200  57]\n",
            " [ 86  73]]\n",
            "              precision    recall  f1-score   support\n",
            "\n",
            "    not-hate       0.70      0.78      0.74       257\n",
            "        hate       0.56      0.46      0.51       159\n",
            "\n",
            "    accuracy                           0.66       416\n",
            "   macro avg       0.63      0.62      0.62       416\n",
            "weighted avg       0.65      0.66      0.65       416\n",
            "\n",
            "Accuracy :  0.65625\n",
            "Precison :  0.6466463824636901\n",
            "Recall :  0.65625\n",
            "F1 :  0.6481823554901324\n"
          ]
        }
      ]
    },
    {
      "cell_type": "markdown",
      "source": [
        "#Multimodal Models"
      ],
      "metadata": {
        "id": "vNn_JAspg879"
      }
    },
    {
      "cell_type": "code",
      "source": [
        "#######################################             Model Defination\n",
        "def create_model(bert_model,max_len):\n",
        "  input_ids = Input(shape=(max_len,),dtype='int32')\n",
        "  attention_masks = Input(shape=(max_len,),dtype='int32')\n",
        "  output = bert_model([input_ids,attention_masks])\n",
        "  output = output[0]                                ## 0 for distillbert\n",
        "  output = Dense(10,activation='relu')(output[:, 0, :])\n",
        "  #output = Dropout(0.1)(output)\n",
        "  #output = Dense(1,activation='sigmoid')(output[:, 0, :])\n",
        "  model = Model(inputs = [input_ids,attention_masks],outputs = output)\n",
        "  return model"
      ],
      "metadata": {
        "id": "6gus8gLBiPV_"
      },
      "execution_count": null,
      "outputs": []
    },
    {
      "cell_type": "markdown",
      "source": [
        "##VGG16 + Bangla-BERT"
      ],
      "metadata": {
        "id": "RK5ijSAShPfE"
      }
    },
    {
      "cell_type": "code",
      "source": [
        "## VGG16\n",
        "base_model = VGG19(weights='imagenet', include_top=False,input_shape=(150, 150, 3))\n",
        "base_model.trainable = False\n",
        "y = base_model.output\n",
        "pool = GlobalAveragePooling2D()(y)\n",
        "#flatten = Flatten()(pool)\n",
        "fc_layer_v = Dense(10, activation='relu')(pool)\n",
        "#output = Dense(1, activation='sigmoid')(pool)\n",
        "  # this is the model we will train\n",
        "img_model = Model(inputs=base_model.input, outputs=fc_layer_v)\n",
        "\n",
        "\n",
        "# text model\n",
        "text_model = create_model(bert_model,50)\n",
        "\n",
        "# Fusion\n",
        "con_layer = keras.layers.concatenate([img_model.output, text_model.output])\n",
        "final_dense = Dense(4, activation=\"relu\")(con_layer)\n",
        "dropout = Dropout(0.1)(final_dense)\n",
        "out = Dense(1,activation='sigmoid')(dropout)\n",
        "com_model = Model(inputs = [img_model.input, text_model.input], outputs=out)\n",
        "#com_model.summary()"
      ],
      "metadata": {
        "colab": {
          "base_uri": "https://localhost:8080/"
        },
        "id": "doYBzm3JhAKT",
        "outputId": "de6032b0-3da3-4483-eaea-fd3bc4afd63b"
      },
      "execution_count": null,
      "outputs": [
        {
          "output_type": "stream",
          "name": "stdout",
          "text": [
            "Downloading data from https://storage.googleapis.com/tensorflow/keras-applications/vgg19/vgg19_weights_tf_dim_ordering_tf_kernels_notop.h5\n",
            "80142336/80134624 [==============================] - 1s 0us/step\n",
            "80150528/80134624 [==============================] - 1s 0us/step\n"
          ]
        }
      ]
    },
    {
      "cell_type": "code",
      "metadata": {
        "id": "sRUa0xLQikCp"
      },
      "source": [
        "### Checkpoint\n",
        "filepath = models_path + 'b-bert+vgg19.h5'\n",
        "checkpoint = keras.callbacks.ModelCheckpoint(filepath, monitor='val_accuracy', verbose=2, save_best_only=True,\n",
        "                                             save_weights_only=True, mode='max' )\n"
      ],
      "execution_count": null,
      "outputs": []
    },
    {
      "cell_type": "code",
      "metadata": {
        "id": "LulQXCW5ikCq"
      },
      "source": [
        "keras.backend.clear_session()\n",
        "# 3e-4, 1e-4, 5e-5, 3e-5,1e-5\n",
        "model = com_model\n",
        "model.compile(Adam(lr=1e-5), loss='binary_crossentropy', metrics=['accuracy'])\n",
        "#model.summary()"
      ],
      "execution_count": null,
      "outputs": []
    },
    {
      "cell_type": "code",
      "metadata": {
        "colab": {
          "base_uri": "https://localhost:8080/"
        },
        "outputId": "87652bf5-812a-45bb-a7eb-72befaf3b866",
        "id": "p08CjvAxikCq"
      },
      "source": [
        "model.fit([train_image,train_input_ids,train_attention_masks],\n",
        "                    train_data['enc_label'],\n",
        "                    validation_data = ([valid_image, valid_input_ids,valid_attention_masks], valid_data['enc_label']),\n",
        "                    epochs=6,\n",
        "                    batch_size=16,\n",
        "                    callbacks = [checkpoint],\n",
        "                    # class_weight = weight\n",
        "          )"
      ],
      "execution_count": null,
      "outputs": [
        {
          "output_type": "stream",
          "name": "stdout",
          "text": [
            "Epoch 1/6\n",
            "WARNING:tensorflow:Gradients do not exist for variables ['tf_bert_model/bert/pooler/dense/kernel:0', 'tf_bert_model/bert/pooler/dense/bias:0'] when minimizing the loss. If you're using `model.compile()`, did you forget to provide a `loss`argument?\n",
            "WARNING:tensorflow:Gradients do not exist for variables ['tf_bert_model/bert/pooler/dense/kernel:0', 'tf_bert_model/bert/pooler/dense/bias:0'] when minimizing the loss. If you're using `model.compile()`, did you forget to provide a `loss`argument?\n",
            "211/211 [==============================] - ETA: 0s - loss: 1.0330 - accuracy: 0.7076\n",
            "Epoch 00001: val_accuracy improved from -inf to 0.64533, saving model to /content/drive/MyDrive/Colab Notebooks/NLP Projects/Online Memes/Dataset-3300/Hateful Memes/Models/b-bert+vgg19.h5\n",
            "211/211 [==============================] - 80s 302ms/step - loss: 1.0330 - accuracy: 0.7076 - val_loss: 1.0597 - val_accuracy: 0.6453\n",
            "Epoch 2/6\n",
            "211/211 [==============================] - ETA: 0s - loss: 0.4685 - accuracy: 0.8053\n",
            "Epoch 00002: val_accuracy did not improve from 0.64533\n",
            "211/211 [==============================] - 57s 269ms/step - loss: 0.4685 - accuracy: 0.8053 - val_loss: 0.9979 - val_accuracy: 0.6293\n",
            "Epoch 3/6\n",
            "211/211 [==============================] - ETA: 0s - loss: 0.4391 - accuracy: 0.8229\n",
            "Epoch 00003: val_accuracy did not improve from 0.64533\n",
            "211/211 [==============================] - 56s 266ms/step - loss: 0.4391 - accuracy: 0.8229 - val_loss: 1.1385 - val_accuracy: 0.6240\n",
            "Epoch 4/6\n",
            "211/211 [==============================] - ETA: 0s - loss: 0.4109 - accuracy: 0.8559\n",
            "Epoch 00004: val_accuracy did not improve from 0.64533\n",
            "211/211 [==============================] - 56s 267ms/step - loss: 0.4109 - accuracy: 0.8559 - val_loss: 1.1655 - val_accuracy: 0.6320\n",
            "Epoch 5/6\n",
            "211/211 [==============================] - ETA: 0s - loss: 0.3904 - accuracy: 0.8666\n",
            "Epoch 00005: val_accuracy improved from 0.64533 to 0.66133, saving model to /content/drive/MyDrive/Colab Notebooks/NLP Projects/Online Memes/Dataset-3300/Hateful Memes/Models/b-bert+vgg19.h5\n",
            "211/211 [==============================] - 63s 300ms/step - loss: 0.3904 - accuracy: 0.8666 - val_loss: 1.2781 - val_accuracy: 0.6613\n",
            "Epoch 6/6\n",
            "211/211 [==============================] - ETA: 0s - loss: 0.3751 - accuracy: 0.8790\n",
            "Epoch 00006: val_accuracy did not improve from 0.66133\n",
            "211/211 [==============================] - 56s 267ms/step - loss: 0.3751 - accuracy: 0.8790 - val_loss: 1.3660 - val_accuracy: 0.6400\n"
          ]
        },
        {
          "output_type": "execute_result",
          "data": {
            "text/plain": [
              "<keras.callbacks.History at 0x7f8906ab7510>"
            ]
          },
          "metadata": {},
          "execution_count": 53
        }
      ]
    },
    {
      "cell_type": "code",
      "source": [
        "#model2 = create_model(bert_model,50)\n",
        "#model2.load_weights(models_path+'b-bert+vgg16.h5')\n",
        "y_pred = (model.predict([test_image,test_input_ids,test_attention_masks])>0.5).astype(int)\n",
        "y_true = test_data['enc_label']\n",
        "print_metrices(y_true,y_pred)"
      ],
      "metadata": {
        "colab": {
          "base_uri": "https://localhost:8080/"
        },
        "id": "CXYooc_FoXYU",
        "outputId": "e2830a17-25b6-44e9-9109-e2574f967f1b"
      },
      "execution_count": null,
      "outputs": [
        {
          "output_type": "stream",
          "name": "stdout",
          "text": [
            "[[198  59]\n",
            " [ 87  72]]\n",
            "              precision    recall  f1-score   support\n",
            "\n",
            "    not-hate       0.69      0.77      0.73       257\n",
            "        hate       0.55      0.45      0.50       159\n",
            "\n",
            "    accuracy                           0.65       416\n",
            "   macro avg       0.62      0.61      0.61       416\n",
            "weighted avg       0.64      0.65      0.64       416\n",
            "\n",
            "Accuracy :  0.6490384615384616\n",
            "Precison :  0.6392708687455575\n",
            "Recall :  0.6490384615384616\n",
            "F1 :  0.6411609179089139\n"
          ]
        }
      ]
    },
    {
      "cell_type": "code",
      "source": [
        "## for VGG19\n",
        "#model2 = create_model(bert_model,50)\n",
        "#model2.load_weights(models_path+'b-bert+vgg16.h5')\n",
        "y_pred = (model.predict([test_image,test_input_ids,test_attention_masks])>0.5).astype(int)\n",
        "y_true = test_data['enc_label']\n",
        "print_metrices(y_true,y_pred)"
      ],
      "metadata": {
        "colab": {
          "base_uri": "https://localhost:8080/"
        },
        "outputId": "afeb18b7-7aa2-4782-fcef-44f8e872bdcf",
        "id": "nswak8NRvTcw"
      },
      "execution_count": null,
      "outputs": [
        {
          "output_type": "stream",
          "name": "stdout",
          "text": [
            "[[182  75]\n",
            " [ 62  97]]\n",
            "              precision    recall  f1-score   support\n",
            "\n",
            "    not-hate       0.75      0.71      0.73       257\n",
            "        hate       0.56      0.61      0.59       159\n",
            "\n",
            "    accuracy                           0.67       416\n",
            "   macro avg       0.65      0.66      0.66       416\n",
            "weighted avg       0.68      0.67      0.67       416\n",
            "\n",
            "Accuracy :  0.6706730769230769\n",
            "Precison :  0.6763589566409572\n",
            "Recall :  0.6706730769230769\n",
            "F1 :  0.6728675173473644\n"
          ]
        }
      ]
    },
    {
      "cell_type": "markdown",
      "source": [
        "##VGG16 (Attention) + Bangla-BERT"
      ],
      "metadata": {
        "id": "IIPAZSQFpNe5"
      }
    },
    {
      "cell_type": "code",
      "source": [
        "## VGG16 or VGG19\n",
        "base_model = VGG19(weights='imagenet', include_top=False,input_shape=(150, 150, 3))\n",
        "#base_model = VGG16(weights='imagenet', include_top=False,input_shape=(150, 150, 3))\n",
        "base_model.trainable = False\n",
        "y = base_model.layers[-2].output\n",
        "  #EfficientChannelAttention_cnn = EfficientChannelAttention2D(y.shape[-1])(y)\n",
        "attention_cnn = PixelAttention2D(y.shape[-1])(y)\n",
        "pool = GlobalAveragePooling2D()(attention_cnn)\n",
        "fc_layer_v = Dense(10, activation='relu')(pool)\n",
        "#output = Dense(1, activation='sigmoid')(pool)\n",
        "  # this is the model we will train\n",
        "img_model = Model(inputs=base_model.input, outputs=fc_layer_v)\n",
        "\n",
        "\n",
        "# text model\n",
        "text_model = create_model(bert_model,50)\n",
        "\n",
        "# Fusion\n",
        "con_layer = keras.layers.concatenate([img_model.output, text_model.output])\n",
        "final_dense = Dense(4, activation=\"relu\")(con_layer)\n",
        "dropout = Dropout(0.1)(final_dense)\n",
        "out = Dense(1,activation='sigmoid')(dropout)\n",
        "com_model = Model(inputs = [img_model.input, text_model.input], outputs=out)\n",
        "#com_model.summary()"
      ],
      "metadata": {
        "id": "V7FTR7AQpNe6"
      },
      "execution_count": null,
      "outputs": []
    },
    {
      "cell_type": "code",
      "metadata": {
        "id": "Abqr8ptMpNe7"
      },
      "source": [
        "### Checkpoint\n",
        "filepath = models_path + 'b-bert+vgg19-att.h5'\n",
        "checkpoint = keras.callbacks.ModelCheckpoint(filepath, monitor='val_accuracy', verbose=2, save_best_only=True,\n",
        "                                             save_weights_only=True, mode='max' )\n"
      ],
      "execution_count": null,
      "outputs": []
    },
    {
      "cell_type": "code",
      "metadata": {
        "id": "zXwcip8npNe8"
      },
      "source": [
        "keras.backend.clear_session()\n",
        "# 3e-4, 1e-4, 5e-5, 3e-5,1e-5\n",
        "model = com_model\n",
        "model.compile(Adam(lr=1e-5), loss='binary_crossentropy', metrics=['accuracy'])\n",
        "#model.summary()"
      ],
      "execution_count": null,
      "outputs": []
    },
    {
      "cell_type": "code",
      "metadata": {
        "colab": {
          "base_uri": "https://localhost:8080/"
        },
        "outputId": "345f1401-2379-4fac-d676-b29a2d3abc44",
        "id": "aj5hEJgPpNe9"
      },
      "source": [
        "model.fit([train_image,train_input_ids,train_attention_masks],\n",
        "                    train_data['enc_label'],\n",
        "                    validation_data = ([valid_image, valid_input_ids,valid_attention_masks], valid_data['enc_label']),\n",
        "                    epochs=10,\n",
        "                    batch_size=16,\n",
        "                    callbacks = [checkpoint],\n",
        "                    # class_weight = weight\n",
        "          )"
      ],
      "execution_count": null,
      "outputs": [
        {
          "output_type": "stream",
          "name": "stdout",
          "text": [
            "Epoch 1/10\n",
            "WARNING:tensorflow:Gradients do not exist for variables ['tf_bert_model/bert/pooler/dense/kernel:0', 'tf_bert_model/bert/pooler/dense/bias:0'] when minimizing the loss. If you're using `model.compile()`, did you forget to provide a `loss`argument?\n",
            "WARNING:tensorflow:Gradients do not exist for variables ['tf_bert_model/bert/pooler/dense/kernel:0', 'tf_bert_model/bert/pooler/dense/bias:0'] when minimizing the loss. If you're using `model.compile()`, did you forget to provide a `loss`argument?\n",
            "211/211 [==============================] - ETA: 0s - loss: 1.9835 - accuracy: 0.6933\n",
            "Epoch 00001: val_accuracy improved from -inf to 0.58667, saving model to /content/drive/MyDrive/Colab Notebooks/NLP Projects/Online Memes/Dataset-3300/Hateful Memes/Models/b-bert+vgg19-att.h5\n",
            "211/211 [==============================] - 80s 306ms/step - loss: 1.9835 - accuracy: 0.6933 - val_loss: 1.6437 - val_accuracy: 0.5867\n",
            "Epoch 2/10\n",
            "211/211 [==============================] - ETA: 0s - loss: 1.0103 - accuracy: 0.7406\n",
            "Epoch 00002: val_accuracy improved from 0.58667 to 0.58933, saving model to /content/drive/MyDrive/Colab Notebooks/NLP Projects/Online Memes/Dataset-3300/Hateful Memes/Models/b-bert+vgg19-att.h5\n",
            "211/211 [==============================] - 64s 302ms/step - loss: 1.0103 - accuracy: 0.7406 - val_loss: 1.3533 - val_accuracy: 0.5893\n",
            "Epoch 3/10\n",
            "211/211 [==============================] - ETA: 0s - loss: 0.8120 - accuracy: 0.7694\n",
            "Epoch 00003: val_accuracy improved from 0.58933 to 0.59200, saving model to /content/drive/MyDrive/Colab Notebooks/NLP Projects/Online Memes/Dataset-3300/Hateful Memes/Models/b-bert+vgg19-att.h5\n",
            "211/211 [==============================] - 63s 300ms/step - loss: 0.8120 - accuracy: 0.7694 - val_loss: 1.2549 - val_accuracy: 0.5920\n",
            "Epoch 4/10\n",
            "211/211 [==============================] - ETA: 0s - loss: 0.6517 - accuracy: 0.7941\n",
            "Epoch 00004: val_accuracy improved from 0.59200 to 0.61333, saving model to /content/drive/MyDrive/Colab Notebooks/NLP Projects/Online Memes/Dataset-3300/Hateful Memes/Models/b-bert+vgg19-att.h5\n",
            "211/211 [==============================] - 63s 300ms/step - loss: 0.6517 - accuracy: 0.7941 - val_loss: 1.3080 - val_accuracy: 0.6133\n",
            "Epoch 5/10\n",
            "211/211 [==============================] - ETA: 0s - loss: 0.5514 - accuracy: 0.8000\n",
            "Epoch 00005: val_accuracy did not improve from 0.61333\n",
            "211/211 [==============================] - 56s 267ms/step - loss: 0.5514 - accuracy: 0.8000 - val_loss: 1.2529 - val_accuracy: 0.5973\n",
            "Epoch 6/10\n",
            "211/211 [==============================] - ETA: 0s - loss: 0.4564 - accuracy: 0.8244\n",
            "Epoch 00006: val_accuracy improved from 0.61333 to 0.65067, saving model to /content/drive/MyDrive/Colab Notebooks/NLP Projects/Online Memes/Dataset-3300/Hateful Memes/Models/b-bert+vgg19-att.h5\n",
            "211/211 [==============================] - 63s 298ms/step - loss: 0.4564 - accuracy: 0.8244 - val_loss: 1.4923 - val_accuracy: 0.6507\n",
            "Epoch 7/10\n",
            "211/211 [==============================] - ETA: 0s - loss: 0.3711 - accuracy: 0.8502\n",
            "Epoch 00007: val_accuracy did not improve from 0.65067\n",
            "211/211 [==============================] - 57s 269ms/step - loss: 0.3711 - accuracy: 0.8502 - val_loss: 1.5349 - val_accuracy: 0.6320\n",
            "Epoch 8/10\n",
            "211/211 [==============================] - ETA: 0s - loss: 0.3215 - accuracy: 0.8654\n",
            "Epoch 00008: val_accuracy did not improve from 0.65067\n",
            "211/211 [==============================] - 56s 268ms/step - loss: 0.3215 - accuracy: 0.8654 - val_loss: 1.5152 - val_accuracy: 0.6507\n",
            "Epoch 9/10\n",
            "211/211 [==============================] - ETA: 0s - loss: 0.2488 - accuracy: 0.8921\n",
            "Epoch 00009: val_accuracy did not improve from 0.65067\n",
            "211/211 [==============================] - 57s 268ms/step - loss: 0.2488 - accuracy: 0.8921 - val_loss: 1.7006 - val_accuracy: 0.6267\n",
            "Epoch 10/10\n",
            "211/211 [==============================] - ETA: 0s - loss: 0.2363 - accuracy: 0.8874\n",
            "Epoch 00010: val_accuracy did not improve from 0.65067\n",
            "211/211 [==============================] - 56s 268ms/step - loss: 0.2363 - accuracy: 0.8874 - val_loss: 1.4483 - val_accuracy: 0.6133\n"
          ]
        },
        {
          "output_type": "execute_result",
          "data": {
            "text/plain": [
              "<keras.callbacks.History at 0x7f87f41b2350>"
            ]
          },
          "metadata": {},
          "execution_count": 58
        }
      ]
    },
    {
      "cell_type": "code",
      "source": [
        "#model2 = create_model(bert_model,50)\n",
        "#model2.load_weights(models_path+'b-bert+vgg16.h5')\n",
        "y_pred = (model.predict([test_image,test_input_ids,test_attention_masks])>0.50).astype(int)\n",
        "y_true = test_data['enc_label']\n",
        "print_metrices(y_true,y_pred)"
      ],
      "metadata": {
        "colab": {
          "base_uri": "https://localhost:8080/"
        },
        "outputId": "49f99464-9ee6-4f92-f1cc-1cdec8d95d75",
        "id": "dzy03Yd2pNe-"
      },
      "execution_count": null,
      "outputs": [
        {
          "output_type": "stream",
          "name": "stdout",
          "text": [
            "[[195  62]\n",
            " [ 96  63]]\n",
            "              precision    recall  f1-score   support\n",
            "\n",
            "    not-hate       0.67      0.76      0.71       257\n",
            "        hate       0.50      0.40      0.44       159\n",
            "\n",
            "    accuracy                           0.62       416\n",
            "   macro avg       0.59      0.58      0.58       416\n",
            "weighted avg       0.61      0.62      0.61       416\n",
            "\n",
            "Accuracy :  0.6201923076923077\n",
            "Precison :  0.6066165741475019\n",
            "Recall :  0.6201923076923077\n",
            "F1 :  0.6092396956133206\n"
          ]
        }
      ]
    },
    {
      "cell_type": "code",
      "source": [
        "## For VGG19\n",
        "\n",
        "#model2 = create_model(bert_model,50)\n",
        "#model2.load_weights(models_path+'b-bert+vgg16.h5')\n",
        "y_pred = (model.predict([test_image,test_input_ids,test_attention_masks])>0.50).astype(int)\n",
        "y_true = test_data['enc_label']\n",
        "print_metrices(y_true,y_pred)"
      ],
      "metadata": {
        "colab": {
          "base_uri": "https://localhost:8080/"
        },
        "outputId": "63b4010c-6aec-4d56-c686-a71c851d5c88",
        "id": "zvlOjQaNyLNY"
      },
      "execution_count": null,
      "outputs": [
        {
          "output_type": "stream",
          "name": "stdout",
          "text": [
            "[[135 122]\n",
            " [ 44 115]]\n",
            "              precision    recall  f1-score   support\n",
            "\n",
            "    not-hate       0.75      0.53      0.62       257\n",
            "        hate       0.49      0.72      0.58       159\n",
            "\n",
            "    accuracy                           0.60       416\n",
            "   macro avg       0.62      0.62      0.60       416\n",
            "weighted avg       0.65      0.60      0.60       416\n",
            "\n",
            "Accuracy :  0.6009615384615384\n",
            "Precison :  0.6513911403284504\n",
            "Recall :  0.6009615384615384\n",
            "F1 :  0.6045669735463315\n"
          ]
        }
      ]
    },
    {
      "cell_type": "markdown",
      "source": [
        "##VGG19 + XLM-R"
      ],
      "metadata": {
        "id": "mllNEZ2tyaH5"
      }
    },
    {
      "cell_type": "code",
      "source": [
        "## VGG16\n",
        "base_model = VGG16(weights='imagenet', include_top=False,input_shape=(150, 150, 3))\n",
        "base_model.trainable = False\n",
        "y = base_model.output\n",
        "pool = GlobalAveragePooling2D()(y)\n",
        "#flatten = Flatten()(pool)\n",
        "fc_layer_v = Dense(10, activation='relu')(pool)\n",
        "#output = Dense(1, activation='sigmoid')(pool)\n",
        "  # this is the model we will train\n",
        "img_model = Model(inputs=base_model.input, outputs=fc_layer_v)\n",
        "\n",
        "\n",
        "# text model\n",
        "text_model = create_model(xlm_model,50)\n",
        "\n",
        "# Fusion\n",
        "con_layer = keras.layers.concatenate([img_model.output, text_model.output])\n",
        "final_dense = Dense(4, activation=\"relu\")(con_layer)\n",
        "dropout = Dropout(0.1)(final_dense)\n",
        "out = Dense(1,activation='sigmoid')(dropout)\n",
        "com_model = Model(inputs = [img_model.input, text_model.input], outputs=out)\n",
        "#com_model.summary()"
      ],
      "metadata": {
        "id": "cKRA2bM-yfFU"
      },
      "execution_count": null,
      "outputs": []
    },
    {
      "cell_type": "code",
      "metadata": {
        "id": "sx84cEl9z_3I"
      },
      "source": [
        "### Checkpoint\n",
        "filepath = models_path + 'xlmr+vgg16.h5'\n",
        "checkpoint = keras.callbacks.ModelCheckpoint(filepath, monitor='val_accuracy', verbose=2, save_best_only=True,\n",
        "                                             save_weights_only=True, mode='max' )\n"
      ],
      "execution_count": null,
      "outputs": []
    },
    {
      "cell_type": "code",
      "metadata": {
        "id": "MpU3k0N4z_3K"
      },
      "source": [
        "keras.backend.clear_session()\n",
        "# 3e-4, 1e-4, 5e-5, 3e-5,1e-5\n",
        "model = com_model\n",
        "model.compile(Adam(lr=1e-5), loss='binary_crossentropy', metrics=['accuracy'])\n",
        "#model.summary()"
      ],
      "execution_count": null,
      "outputs": []
    },
    {
      "cell_type": "code",
      "metadata": {
        "colab": {
          "base_uri": "https://localhost:8080/"
        },
        "outputId": "be06bd28-ecc4-4f03-e971-fe88d6d83fb9",
        "id": "SIi6nF4fz_3L"
      },
      "source": [
        "model.fit([train_image,train_input_ids,train_attention_masks],\n",
        "                    train_data['enc_label'],\n",
        "                    validation_data = ([valid_image, val_input_ids,val_attention_masks], valid_data['enc_label']),\n",
        "                    epochs=5,\n",
        "                    batch_size=16,\n",
        "                    callbacks = [checkpoint],\n",
        "                    # class_weight = weight\n",
        "          )"
      ],
      "execution_count": null,
      "outputs": [
        {
          "output_type": "stream",
          "name": "stdout",
          "text": [
            "Epoch 1/5\n",
            "WARNING:tensorflow:Gradients do not exist for variables ['tfxlm_roberta_model/roberta/pooler/dense/kernel:0', 'tfxlm_roberta_model/roberta/pooler/dense/bias:0'] when minimizing the loss. If you're using `model.compile()`, did you forget to provide a `loss`argument?\n",
            "WARNING:tensorflow:Gradients do not exist for variables ['tfxlm_roberta_model/roberta/pooler/dense/kernel:0', 'tfxlm_roberta_model/roberta/pooler/dense/bias:0'] when minimizing the loss. If you're using `model.compile()`, did you forget to provide a `loss`argument?\n",
            "211/211 [==============================] - ETA: 0s - loss: 0.7172 - accuracy: 0.5539\n",
            "Epoch 00001: val_accuracy improved from -inf to 0.56800, saving model to /content/drive/MyDrive/Colab Notebooks/NLP Projects/Online Memes/Dataset-3300/Hateful Memes/Models/xlmr+vgg16.h5\n",
            "211/211 [==============================] - 158s 392ms/step - loss: 0.7172 - accuracy: 0.5539 - val_loss: 0.7038 - val_accuracy: 0.5680\n",
            "Epoch 2/5\n",
            "211/211 [==============================] - ETA: 0s - loss: 0.7019 - accuracy: 0.5828\n",
            "Epoch 00002: val_accuracy improved from 0.56800 to 0.58133, saving model to /content/drive/MyDrive/Colab Notebooks/NLP Projects/Online Memes/Dataset-3300/Hateful Memes/Models/xlmr+vgg16.h5\n",
            "211/211 [==============================] - 80s 379ms/step - loss: 0.7019 - accuracy: 0.5828 - val_loss: 0.7012 - val_accuracy: 0.5813\n",
            "Epoch 3/5\n",
            "211/211 [==============================] - ETA: 0s - loss: 0.6961 - accuracy: 0.5947\n",
            "Epoch 00003: val_accuracy improved from 0.58133 to 0.58667, saving model to /content/drive/MyDrive/Colab Notebooks/NLP Projects/Online Memes/Dataset-3300/Hateful Memes/Models/xlmr+vgg16.h5\n",
            "211/211 [==============================] - 81s 384ms/step - loss: 0.6961 - accuracy: 0.5947 - val_loss: 0.6963 - val_accuracy: 0.5867\n",
            "Epoch 4/5\n",
            "211/211 [==============================] - ETA: 0s - loss: 0.6870 - accuracy: 0.5955\n",
            "Epoch 00004: val_accuracy did not improve from 0.58667\n",
            "211/211 [==============================] - 68s 320ms/step - loss: 0.6870 - accuracy: 0.5955 - val_loss: 0.6912 - val_accuracy: 0.5840\n",
            "Epoch 5/5\n",
            "211/211 [==============================] - ETA: 0s - loss: 0.6814 - accuracy: 0.6027\n",
            "Epoch 00005: val_accuracy did not improve from 0.58667\n",
            "211/211 [==============================] - 66s 314ms/step - loss: 0.6814 - accuracy: 0.6027 - val_loss: 0.6941 - val_accuracy: 0.5813\n"
          ]
        },
        {
          "output_type": "execute_result",
          "data": {
            "text/plain": [
              "<keras.callbacks.History at 0x7fd160a7b610>"
            ]
          },
          "metadata": {},
          "execution_count": 51
        }
      ]
    },
    {
      "cell_type": "code",
      "source": [
        "## For VGG19\n",
        "\n",
        "#model2 = create_model(bert_model,50)\n",
        "#model2.load_weights(models_path+'b-bert+vgg16.h5')\n",
        "y_pred = (model.predict([test_image,test_input_ids,test_attention_masks])>0.40).astype(int)\n",
        "y_true = test_data['enc_label']\n",
        "print_metrices(y_true,y_pred)"
      ],
      "metadata": {
        "colab": {
          "base_uri": "https://localhost:8080/"
        },
        "id": "rhe5Sqfb5LOa",
        "outputId": "9f2de314-6d6d-49f0-c5c0-c11109082b94"
      },
      "execution_count": null,
      "outputs": [
        {
          "output_type": "stream",
          "name": "stdout",
          "text": [
            "[[158  99]\n",
            " [ 75  84]]\n",
            "              precision    recall  f1-score   support\n",
            "\n",
            "    not-hate       0.68      0.61      0.64       257\n",
            "        hate       0.46      0.53      0.49       159\n",
            "\n",
            "    accuracy                           0.58       416\n",
            "   macro avg       0.57      0.57      0.57       416\n",
            "weighted avg       0.59      0.58      0.59       416\n",
            "\n",
            "Accuracy :  0.5817307692307693\n",
            "Precison :  0.5943708766080891\n",
            "Recall :  0.5817307692307693\n",
            "F1 :  0.5861635544906223\n"
          ]
        }
      ]
    },
    {
      "cell_type": "code",
      "source": [
        "## For VGG16\n",
        "\n",
        "#model2 = create_model(bert_model,50)\n",
        "#model2.load_weights(models_path+'b-bert+vgg16.h5')\n",
        "y_pred = (model.predict([test_image,test_input_ids,test_attention_masks])>0.50).astype(int)\n",
        "y_true = test_data['enc_label']\n",
        "print_metrices(y_true,y_pred)"
      ],
      "metadata": {
        "colab": {
          "base_uri": "https://localhost:8080/"
        },
        "id": "R7ufQWe5A5Dy",
        "outputId": "76754321-a837-45f7-aa3a-f7a07185e524"
      },
      "execution_count": null,
      "outputs": [
        {
          "output_type": "stream",
          "name": "stdout",
          "text": [
            "[[246  11]\n",
            " [153   6]]\n",
            "              precision    recall  f1-score   support\n",
            "\n",
            "    not-hate       0.62      0.96      0.75       257\n",
            "        hate       0.35      0.04      0.07       159\n",
            "\n",
            "    accuracy                           0.61       416\n",
            "   macro avg       0.48      0.50      0.41       416\n",
            "weighted avg       0.52      0.61      0.49       416\n",
            "\n",
            "Accuracy :  0.6057692307692307\n",
            "Precison :  0.5157903242268568\n",
            "Recall :  0.6057692307692307\n",
            "F1 :  0.4894012237762238\n"
          ]
        }
      ]
    },
    {
      "cell_type": "code",
      "source": [],
      "metadata": {
        "id": "YGBCLNJEgK7j"
      },
      "execution_count": null,
      "outputs": []
    },
    {
      "cell_type": "markdown",
      "source": [
        "##VGG19 + Bangla-BERT (with Cross Modal)"
      ],
      "metadata": {
        "id": "4HNJ49qIgLLw"
      }
    },
    {
      "cell_type": "code",
      "source": [
        "#######################################             Model Defination\n",
        "def create_model(bert_model,max_len):\n",
        "  input_ids = Input(shape=(max_len,),dtype='int32')\n",
        "  attention_masks = Input(shape=(max_len,),dtype='int32')\n",
        "  output = bert_model([input_ids,attention_masks])\n",
        "  output = output[0]                                ## 0 for distillbert\n",
        "  output = Dense(1024,activation='relu')(output[:, 0, :])\n",
        "  #output = Dropout(0.1)(output)\n",
        "  #output = Dense(1,activation='sigmoid')(output[:, 0, :])\n",
        "  model = Model(inputs = [input_ids,attention_masks],outputs = output)\n",
        "  return model"
      ],
      "metadata": {
        "id": "B6BbBYrfg5_g"
      },
      "execution_count": null,
      "outputs": []
    },
    {
      "cell_type": "code",
      "source": [
        "def bi_modal_attention(x, y):\n",
        "\n",
        "    '''\n",
        "    .  stands for dot product\n",
        "    *  stands for elemwise multiplication\n",
        "    {} stands for concatenation\n",
        "\n",
        "    m1 = x . transpose(y) ||  m2 = y . transpose(x)\n",
        "    n1 = softmax(m1)      ||  n2 = softmax(m2)\n",
        "    o1 = n1 . y           ||  o2 = m2 . x\n",
        "    a1 = o1 * x           ||  a2 = o2 * y\n",
        "\n",
        "    return {a1, a2}\n",
        "\n",
        "    '''\n",
        "\n",
        "    m1 = dot([x, y], axes=[2, 2])\n",
        "    n1 = Activation('softmax')(m1)\n",
        "    o1 = dot([n1, y], axes=[2, 1])\n",
        "    a1 = multiply([o1, x])\n",
        "\n",
        "    m2 = dot([y, x], axes=[2, 2])\n",
        "    n2 = Activation('softmax')(m2)\n",
        "    o2 = dot([n2, x], axes=[2, 1])\n",
        "    a2 = multiply([o2, y])\n",
        "\n",
        "    return concatenate([a1, a2])\n"
      ],
      "metadata": {
        "id": "kxt7Vl0XgoQ8"
      },
      "execution_count": null,
      "outputs": []
    },
    {
      "cell_type": "code",
      "source": [
        "## VGG19\n",
        "base_model = VGG19(weights='imagenet', include_top=False,input_shape=(150, 150, 3))\n",
        "base_model.trainable = False\n",
        "y = base_model.output\n",
        "pool = GlobalAveragePooling2D()(y)\n",
        "#flatten = Flatten()(pool)\n",
        "fc_layer_v = Dense(1024, activation='relu')(pool)\n",
        "v = Reshape((32,32))(fc_layer_v)\n",
        "#output = Dense(1, activation='sigmoid')(pool)\n",
        "  # this is the model we will train\n",
        "img_model = Model(inputs=base_model.input, outputs=fc_layer_v)\n",
        "\n",
        "\n",
        "# text model\n",
        "text_model = create_model(bert_model,50)\n",
        "t = Reshape((32,32))(text_model.output)\n",
        "vt_att = bi_modal_attention(v, t)\n",
        "flat = Flatten()(vt_att)\n",
        "# l1 =Dense(64, activation=\"relu\")(con_layer)\n",
        "# Fusion\n",
        "con_layer = keras.layers.concatenate([img_model.output, text_model.output,flat])\n",
        "#final_dense = Dense(10, activation=\"relu\")(con_layer)\n",
        "#dropout = Dropout(0.3)(final_dense)\n",
        "out = Dense(1,activation='sigmoid')(con_layer)\n",
        "com_model = Model(inputs = [img_model.input, text_model.input], outputs=out)\n",
        "#com_model.summary()"
      ],
      "metadata": {
        "id": "uSz_vSy2gLLx"
      },
      "execution_count": null,
      "outputs": []
    },
    {
      "cell_type": "code",
      "metadata": {
        "id": "nkjg0JkHgLLy"
      },
      "source": [
        "### Checkpoint\n",
        "filepath = models_path + 'b-bert+vgg19_cross-1.h5'\n",
        "checkpoint = keras.callbacks.ModelCheckpoint(filepath, monitor='val_accuracy', verbose=2, save_best_only=True,\n",
        "                                             save_weights_only=True, mode='max' )\n"
      ],
      "execution_count": null,
      "outputs": []
    },
    {
      "cell_type": "code",
      "metadata": {
        "id": "clkA2rkygLLz"
      },
      "source": [
        "keras.backend.clear_session()\n",
        "# 3e-4, 1e-4, 5e-5, 3e-5,1e-5\n",
        "model = com_model\n",
        "model.compile(Adam(lr=1e-5), loss='binary_crossentropy', metrics=['accuracy'])\n",
        "#model.summary()"
      ],
      "execution_count": null,
      "outputs": []
    },
    {
      "cell_type": "code",
      "metadata": {
        "colab": {
          "base_uri": "https://localhost:8080/"
        },
        "outputId": "87c22402-8383-4cc8-f305-62c20a165f6f",
        "id": "sdhWQOfugLLz"
      },
      "source": [
        "model.fit([train_image,train_input_ids,train_attention_masks],\n",
        "                    train_data['enc_label'],\n",
        "                    validation_data = ([valid_image, valid_input_ids,valid_attention_masks], valid_data['enc_label']),\n",
        "                    epochs=10,\n",
        "                    batch_size=16,\n",
        "                    callbacks = [checkpoint],\n",
        "                    # class_weight = weight\n",
        "          )"
      ],
      "execution_count": null,
      "outputs": [
        {
          "output_type": "stream",
          "name": "stdout",
          "text": [
            "Epoch 1/10\n",
            "WARNING:tensorflow:Gradients do not exist for variables ['tf_bert_model/bert/pooler/dense/kernel:0', 'tf_bert_model/bert/pooler/dense/bias:0'] when minimizing the loss. If you're using `model.compile()`, did you forget to provide a `loss`argument?\n",
            "WARNING:tensorflow:Gradients do not exist for variables ['tf_bert_model/bert/pooler/dense/kernel:0', 'tf_bert_model/bert/pooler/dense/bias:0'] when minimizing the loss. If you're using `model.compile()`, did you forget to provide a `loss`argument?\n",
            "211/211 [==============================] - ETA: 0s - loss: 0.8316 - accuracy: 0.7596\n",
            "Epoch 00001: val_accuracy improved from -inf to 0.60267, saving model to /content/drive/MyDrive/Colab Notebooks/NLP Projects/Online Memes/Dataset-3300/Hateful Memes/Models/b-bert+vgg19_cross-1.h5\n",
            "211/211 [==============================] - 78s 296ms/step - loss: 0.8316 - accuracy: 0.7596 - val_loss: 1.7204 - val_accuracy: 0.6027\n",
            "Epoch 2/10\n",
            "211/211 [==============================] - ETA: 0s - loss: 0.5663 - accuracy: 0.8205\n",
            "Epoch 00002: val_accuracy improved from 0.60267 to 0.61600, saving model to /content/drive/MyDrive/Colab Notebooks/NLP Projects/Online Memes/Dataset-3300/Hateful Memes/Models/b-bert+vgg19_cross-1.h5\n",
            "211/211 [==============================] - 63s 299ms/step - loss: 0.5663 - accuracy: 0.8205 - val_loss: 1.8396 - val_accuracy: 0.6160\n",
            "Epoch 3/10\n",
            "211/211 [==============================] - ETA: 0s - loss: 0.4576 - accuracy: 0.8437\n",
            "Epoch 00003: val_accuracy did not improve from 0.61600\n",
            "211/211 [==============================] - 56s 267ms/step - loss: 0.4576 - accuracy: 0.8437 - val_loss: 1.7235 - val_accuracy: 0.6160\n",
            "Epoch 4/10\n",
            "211/211 [==============================] - ETA: 0s - loss: 0.3418 - accuracy: 0.8710\n",
            "Epoch 00004: val_accuracy did not improve from 0.61600\n",
            "211/211 [==============================] - 56s 265ms/step - loss: 0.3418 - accuracy: 0.8710 - val_loss: 2.2784 - val_accuracy: 0.6160\n",
            "Epoch 5/10\n",
            "211/211 [==============================] - ETA: 0s - loss: 0.2962 - accuracy: 0.8895\n",
            "Epoch 00005: val_accuracy improved from 0.61600 to 0.61867, saving model to /content/drive/MyDrive/Colab Notebooks/NLP Projects/Online Memes/Dataset-3300/Hateful Memes/Models/b-bert+vgg19_cross-1.h5\n",
            "211/211 [==============================] - 63s 299ms/step - loss: 0.2962 - accuracy: 0.8895 - val_loss: 1.9768 - val_accuracy: 0.6187\n",
            "Epoch 6/10\n",
            "211/211 [==============================] - ETA: 0s - loss: 0.2376 - accuracy: 0.9091\n",
            "Epoch 00006: val_accuracy improved from 0.61867 to 0.62400, saving model to /content/drive/MyDrive/Colab Notebooks/NLP Projects/Online Memes/Dataset-3300/Hateful Memes/Models/b-bert+vgg19_cross-1.h5\n",
            "211/211 [==============================] - 63s 298ms/step - loss: 0.2376 - accuracy: 0.9091 - val_loss: 2.4398 - val_accuracy: 0.6240\n",
            "Epoch 7/10\n",
            "211/211 [==============================] - ETA: 0s - loss: 0.2120 - accuracy: 0.9168\n",
            "Epoch 00007: val_accuracy did not improve from 0.62400\n",
            "211/211 [==============================] - 56s 266ms/step - loss: 0.2120 - accuracy: 0.9168 - val_loss: 1.9897 - val_accuracy: 0.6187\n",
            "Epoch 8/10\n",
            "211/211 [==============================] - ETA: 0s - loss: 0.1753 - accuracy: 0.9358\n",
            "Epoch 00008: val_accuracy did not improve from 0.62400\n",
            "211/211 [==============================] - 56s 264ms/step - loss: 0.1753 - accuracy: 0.9358 - val_loss: 2.6407 - val_accuracy: 0.6187\n",
            "Epoch 9/10\n",
            "211/211 [==============================] - ETA: 0s - loss: 0.1464 - accuracy: 0.9412\n",
            "Epoch 00009: val_accuracy did not improve from 0.62400\n",
            "211/211 [==============================] - 56s 265ms/step - loss: 0.1464 - accuracy: 0.9412 - val_loss: 2.1106 - val_accuracy: 0.5787\n",
            "Epoch 10/10\n",
            "211/211 [==============================] - ETA: 0s - loss: 0.1343 - accuracy: 0.9462\n",
            "Epoch 00010: val_accuracy did not improve from 0.62400\n",
            "211/211 [==============================] - 56s 264ms/step - loss: 0.1343 - accuracy: 0.9462 - val_loss: 2.4325 - val_accuracy: 0.6187\n"
          ]
        },
        {
          "output_type": "execute_result",
          "data": {
            "text/plain": [
              "<keras.callbacks.History at 0x7f48f4f29b10>"
            ]
          },
          "metadata": {},
          "execution_count": 64
        }
      ]
    },
    {
      "cell_type": "code",
      "source": [
        "## VGG19 + Bangla-BERT (Cross Modal)\n",
        "#model2 = create_model(bert_model,50)\n",
        "#model2.load_weights(models_path+'b-bert+vgg19_cross.h5')\n",
        "y_pred = (model.predict([test_image,test_input_ids,test_attention_masks])>0.5).astype(int)\n",
        "y_true = test_data['enc_label']\n",
        "print_metrices(y_true,y_pred)"
      ],
      "metadata": {
        "id": "IxyvLKPPs1gd",
        "outputId": "18939745-b9cc-4756-e0e7-e8c813c3f60c",
        "colab": {
          "base_uri": "https://localhost:8080/"
        }
      },
      "execution_count": null,
      "outputs": [
        {
          "output_type": "stream",
          "name": "stdout",
          "text": [
            "[[192  65]\n",
            " [ 74  85]]\n",
            "              precision    recall  f1-score   support\n",
            "\n",
            "    not-hate       0.72      0.75      0.73       257\n",
            "        hate       0.57      0.53      0.55       159\n",
            "\n",
            "    accuracy                           0.67       416\n",
            "   macro avg       0.64      0.64      0.64       416\n",
            "weighted avg       0.66      0.67      0.66       416\n",
            "\n",
            "Accuracy :  0.6658653846153846\n",
            "Precison :  0.6625090370156159\n",
            "Recall :  0.6658653846153846\n",
            "F1 :  0.6638743097571459\n"
          ]
        }
      ]
    },
    {
      "cell_type": "code",
      "source": [
        "## VGG19 + Bangla-BERT (Cross Modal)\n",
        "#model2 = create_model(bert_model,50)\n",
        "#model2.load_weights(models_path+'b-bert+vgg19_cross.h5')\n",
        "y_pred = (model.predict([test_image,test_input_ids,test_attention_masks])>0.5).astype(int)\n",
        "y_true = test_data['enc_label']\n",
        "print_metrices(y_true,y_pred)"
      ],
      "metadata": {
        "colab": {
          "base_uri": "https://localhost:8080/"
        },
        "outputId": "8d88b7dd-915c-4016-fc37-1469c5c92e5a",
        "id": "vHlRg3X-gLL0"
      },
      "execution_count": null,
      "outputs": [
        {
          "output_type": "stream",
          "name": "stdout",
          "text": [
            "[[191  66]\n",
            " [ 73  86]]\n",
            "              precision    recall  f1-score   support\n",
            "\n",
            "    not-hate       0.72      0.74      0.73       257\n",
            "        hate       0.57      0.54      0.55       159\n",
            "\n",
            "    accuracy                           0.67       416\n",
            "   macro avg       0.64      0.64      0.64       416\n",
            "weighted avg       0.66      0.67      0.66       416\n",
            "\n",
            "Accuracy :  0.6658653846153846\n",
            "Precison :  0.6632118566740277\n",
            "Recall :  0.6658653846153846\n",
            "F1 :  0.6643496935296807\n"
          ]
        }
      ]
    },
    {
      "cell_type": "markdown",
      "source": [
        "#BERT Embeddings"
      ],
      "metadata": {
        "id": "UHCFwvgG8Z_I"
      }
    },
    {
      "cell_type": "code",
      "metadata": {
        "id": "Harmx5Miz8VZ"
      },
      "source": [
        "pip install tensorflow-text"
      ],
      "execution_count": null,
      "outputs": []
    },
    {
      "cell_type": "code",
      "metadata": {
        "id": "wtVuamekzbIO"
      },
      "source": [
        "import tensorflow_hub as hub\n",
        "import tensorflow_text as text"
      ],
      "execution_count": null,
      "outputs": []
    },
    {
      "cell_type": "code",
      "source": [
        "# define a text embedding model\n",
        "text_input = tf.keras.layers.Input(shape=(), dtype=tf.string)\n",
        "preprocessor = hub.KerasLayer(\"https://tfhub.dev/jeongukjae/xlm_roberta_multi_cased_preprocess/1\")\n",
        "encoder_inputs = preprocessor(text_input)\n",
        "encoder = hub.KerasLayer(\"https://tfhub.dev/jeongukjae/xlm_roberta_multi_cased_L-24_H-1024_A-16/1\", trainable=True)\n",
        "encoder_outputs = encoder(encoder_inputs)\n",
        "#pooled_output = encoder_outputs[\"pooled_output\"]      # [batch_size, 1024].\n",
        "sequence_output = encoder_outputs[\"sequence_output\"]  # [batch_size, seq_length, 1024].\n",
        "lstm_Layer = Bidirectional(LSTM(32))(sequence_output)\n",
        "l = Dense(1, activation='sigmoid', name=\"output\")(lstm_Layer )\n",
        "model = Model(text_input, l)\n",
        "\n",
        "# # You can embed your sentences as follows\n",
        "# sentences = tf.constant([\"(your text here)\"])\n",
        "# print(model(sentences))"
      ],
      "metadata": {
        "id": "BfznD_01C7d6"
      },
      "execution_count": null,
      "outputs": []
    },
    {
      "cell_type": "code",
      "metadata": {
        "id": "39TfHpuAMMpI"
      },
      "source": [
        "### Checkpoint\n",
        "filepath = models_path + 'xlm-lstm.h5'\n",
        "checkpoint = keras.callbacks.ModelCheckpoint(filepath, monitor='val_accuracy', verbose=2, save_best_only=True,\n",
        "                                             save_weights_only=True, mode='max' )"
      ],
      "execution_count": null,
      "outputs": []
    },
    {
      "cell_type": "code",
      "metadata": {
        "id": "vXoKb7jDMMpJ"
      },
      "source": [
        "keras.backend.clear_session()\n",
        "model.compile(Adam(lr=1e-5), loss='binary_crossentropy', metrics=['accuracy'])\n",
        "model.summary()"
      ],
      "execution_count": null,
      "outputs": []
    },
    {
      "cell_type": "code",
      "metadata": {
        "colab": {
          "base_uri": "https://localhost:8080/"
        },
        "outputId": "7dfa7b6e-28a4-481d-ebaa-4036915246ea",
        "id": "GFcW1JmbMMpK"
      },
      "source": [
        "model.fit(train_data['Captions'],\n",
        "          train_data['enc_label'],\n",
        "          validation_data = (valid_data['Captions'],valid_data['enc_label']),\n",
        "          epochs=6,\n",
        "          batch_size=16,\n",
        "          callbacks = [checkpoint])"
      ],
      "execution_count": null,
      "outputs": [
        {
          "output_type": "stream",
          "name": "stdout",
          "text": [
            "Epoch 1/6\n",
            "211/211 [==============================] - ETA: 0s - loss: 0.6317 - accuracy: 0.6303\n",
            "Epoch 00001: val_accuracy improved from -inf to 0.60267, saving model to /content/drive/MyDrive/Colab Notebooks/NLP Projects/Online Memes/Dataset-3300/Hateful Memes/Models/xlm-lstm.h5\n",
            "211/211 [==============================] - 374s 2s/step - loss: 0.6317 - accuracy: 0.6303 - val_loss: 0.6346 - val_accuracy: 0.6027\n",
            "Epoch 2/6\n",
            "211/211 [==============================] - ETA: 0s - loss: 0.5923 - accuracy: 0.6505\n",
            "Epoch 00002: val_accuracy improved from 0.60267 to 0.69333, saving model to /content/drive/MyDrive/Colab Notebooks/NLP Projects/Online Memes/Dataset-3300/Hateful Memes/Models/xlm-lstm.h5\n",
            "211/211 [==============================] - 375s 2s/step - loss: 0.5923 - accuracy: 0.6505 - val_loss: 0.5647 - val_accuracy: 0.6933\n",
            "Epoch 3/6\n",
            "211/211 [==============================] - ETA: 0s - loss: 0.5527 - accuracy: 0.6951\n",
            "Epoch 00003: val_accuracy improved from 0.69333 to 0.71200, saving model to /content/drive/MyDrive/Colab Notebooks/NLP Projects/Online Memes/Dataset-3300/Hateful Memes/Models/xlm-lstm.h5\n",
            "211/211 [==============================] - 376s 2s/step - loss: 0.5527 - accuracy: 0.6951 - val_loss: 0.5572 - val_accuracy: 0.7120\n",
            "Epoch 4/6\n",
            "211/211 [==============================] - ETA: 0s - loss: 0.5433 - accuracy: 0.7079\n",
            "Epoch 00004: val_accuracy improved from 0.71200 to 0.71733, saving model to /content/drive/MyDrive/Colab Notebooks/NLP Projects/Online Memes/Dataset-3300/Hateful Memes/Models/xlm-lstm.h5\n",
            "211/211 [==============================] - 376s 2s/step - loss: 0.5433 - accuracy: 0.7079 - val_loss: 0.5533 - val_accuracy: 0.7173\n",
            "Epoch 5/6\n",
            "211/211 [==============================] - ETA: 0s - loss: 0.5030 - accuracy: 0.7388\n",
            "Epoch 00005: val_accuracy did not improve from 0.71733\n",
            "211/211 [==============================] - 317s 2s/step - loss: 0.5030 - accuracy: 0.7388 - val_loss: 0.5590 - val_accuracy: 0.7067\n",
            "Epoch 6/6\n",
            "211/211 [==============================] - ETA: 0s - loss: 0.4536 - accuracy: 0.7747\n",
            "Epoch 00006: val_accuracy did not improve from 0.71733\n",
            "211/211 [==============================] - 316s 1s/step - loss: 0.4536 - accuracy: 0.7747 - val_loss: 0.5760 - val_accuracy: 0.7013\n"
          ]
        },
        {
          "output_type": "execute_result",
          "data": {
            "text/plain": [
              "<keras.callbacks.History at 0x7f1fcb0cc090>"
            ]
          },
          "metadata": {},
          "execution_count": 15
        }
      ]
    },
    {
      "cell_type": "code",
      "source": [
        "model.load_weights(models_path+\"xlm-lstm.h5\")\n",
        "\n",
        "y_pred = (model.predict(test_data['Captions'])>0.5).astype(int)\n",
        "#y_pred = np.argmax(pred,axis=1)\n",
        "y_true = test_data['enc_label']\n",
        "print_metrices(y_true,y_pred)"
      ],
      "metadata": {
        "colab": {
          "base_uri": "https://localhost:8080/"
        },
        "id": "5eSTTp4JXE3G",
        "outputId": "0439b29e-f9ab-44d2-954c-d18b7faab6e9"
      },
      "execution_count": null,
      "outputs": [
        {
          "output_type": "stream",
          "name": "stdout",
          "text": [
            "[[179  78]\n",
            " [ 52 107]]\n",
            "              precision    recall  f1-score   support\n",
            "\n",
            "    not-hate       0.77      0.70      0.73       257\n",
            "        hate       0.58      0.67      0.62       159\n",
            "\n",
            "    accuracy                           0.69       416\n",
            "   macro avg       0.68      0.68      0.68       416\n",
            "weighted avg       0.70      0.69      0.69       416\n",
            "\n",
            "Accuracy :  0.6875\n",
            "Precison :  0.6997820872820874\n",
            "Recall :  0.6875\n",
            "F1 :  0.6909847979412886\n"
          ]
        }
      ]
    },
    {
      "cell_type": "markdown",
      "source": [
        "##XLM-R Fine Tune"
      ],
      "metadata": {
        "id": "FR_uBnLpYeUY"
      }
    },
    {
      "cell_type": "code",
      "source": [
        "# define a text embedding model\n",
        "text_input = tf.keras.layers.Input(shape=(), dtype=tf.string)\n",
        "preprocessor = hub.KerasLayer(\"https://tfhub.dev/jeongukjae/xlm_roberta_multi_cased_preprocess/1\")\n",
        "encoder_inputs = preprocessor(text_input)\n",
        "encoder = hub.KerasLayer(\"https://tfhub.dev/jeongukjae/xlm_roberta_multi_cased_L-12_H-768_A-12/1\", trainable=False)\n",
        "encoder_outputs = encoder(encoder_inputs)\n",
        "#pooled_output = encoder_outputs[\"pooled_output\"]      # [batch_size, 1024].\n",
        "sequence_output = encoder_outputs[\"sequence_output\"]  # [batch_size, seq_length, 1024].\n",
        "lstm_Layer = Bidirectional(LSTM(32))(sequence_output)\n",
        "l = Dense(1, activation='sigmoid', name=\"output\")(lstm_Layer )\n",
        "model = Model(text_input, l)\n",
        "\n",
        "# # You can embed your sentences as follows\n",
        "sentences = tf.constant([\"(your text here)\"])\n",
        "print(model(sentences))"
      ],
      "metadata": {
        "colab": {
          "base_uri": "https://localhost:8080/"
        },
        "id": "5FpOkjTmYhcG",
        "outputId": "5c469960-aa94-47dc-92e1-a50657036251"
      },
      "execution_count": null,
      "outputs": [
        {
          "output_type": "stream",
          "name": "stdout",
          "text": [
            "tf.Tensor([[0.49276322]], shape=(1, 1), dtype=float32)\n"
          ]
        }
      ]
    },
    {
      "cell_type": "code",
      "metadata": {
        "id": "yCflLctmYhcH"
      },
      "source": [
        "### Checkpoint\n",
        "filepath = models_path + 'xlm-lstm.h5'\n",
        "checkpoint = keras.callbacks.ModelCheckpoint(filepath, monitor='val_accuracy', verbose=2, save_best_only=True,\n",
        "                                             save_weights_only=True, mode='max' )"
      ],
      "execution_count": null,
      "outputs": []
    },
    {
      "cell_type": "code",
      "metadata": {
        "id": "PHLeze_2YhcI"
      },
      "source": [
        "keras.backend.clear_session()\n",
        "model.compile(Adam(lr=1e-5), loss='binary_crossentropy', metrics=['accuracy'])\n",
        "model.summary()"
      ],
      "execution_count": null,
      "outputs": []
    },
    {
      "cell_type": "code",
      "metadata": {
        "colab": {
          "base_uri": "https://localhost:8080/"
        },
        "outputId": "7dfa7b6e-28a4-481d-ebaa-4036915246ea",
        "id": "2TTQFZBJYhcJ"
      },
      "source": [
        "model.fit(train_data['Captions'],\n",
        "          train_data['enc_label'],\n",
        "          validation_data = (valid_data['Captions'],valid_data['enc_label']),\n",
        "          epochs=6,\n",
        "          batch_size=16,\n",
        "          callbacks = [checkpoint])"
      ],
      "execution_count": null,
      "outputs": [
        {
          "output_type": "stream",
          "name": "stdout",
          "text": [
            "Epoch 1/6\n",
            "211/211 [==============================] - ETA: 0s - loss: 0.6317 - accuracy: 0.6303\n",
            "Epoch 00001: val_accuracy improved from -inf to 0.60267, saving model to /content/drive/MyDrive/Colab Notebooks/NLP Projects/Online Memes/Dataset-3300/Hateful Memes/Models/xlm-lstm.h5\n",
            "211/211 [==============================] - 374s 2s/step - loss: 0.6317 - accuracy: 0.6303 - val_loss: 0.6346 - val_accuracy: 0.6027\n",
            "Epoch 2/6\n",
            "211/211 [==============================] - ETA: 0s - loss: 0.5923 - accuracy: 0.6505\n",
            "Epoch 00002: val_accuracy improved from 0.60267 to 0.69333, saving model to /content/drive/MyDrive/Colab Notebooks/NLP Projects/Online Memes/Dataset-3300/Hateful Memes/Models/xlm-lstm.h5\n",
            "211/211 [==============================] - 375s 2s/step - loss: 0.5923 - accuracy: 0.6505 - val_loss: 0.5647 - val_accuracy: 0.6933\n",
            "Epoch 3/6\n",
            "211/211 [==============================] - ETA: 0s - loss: 0.5527 - accuracy: 0.6951\n",
            "Epoch 00003: val_accuracy improved from 0.69333 to 0.71200, saving model to /content/drive/MyDrive/Colab Notebooks/NLP Projects/Online Memes/Dataset-3300/Hateful Memes/Models/xlm-lstm.h5\n",
            "211/211 [==============================] - 376s 2s/step - loss: 0.5527 - accuracy: 0.6951 - val_loss: 0.5572 - val_accuracy: 0.7120\n",
            "Epoch 4/6\n",
            "211/211 [==============================] - ETA: 0s - loss: 0.5433 - accuracy: 0.7079\n",
            "Epoch 00004: val_accuracy improved from 0.71200 to 0.71733, saving model to /content/drive/MyDrive/Colab Notebooks/NLP Projects/Online Memes/Dataset-3300/Hateful Memes/Models/xlm-lstm.h5\n",
            "211/211 [==============================] - 376s 2s/step - loss: 0.5433 - accuracy: 0.7079 - val_loss: 0.5533 - val_accuracy: 0.7173\n",
            "Epoch 5/6\n",
            "211/211 [==============================] - ETA: 0s - loss: 0.5030 - accuracy: 0.7388\n",
            "Epoch 00005: val_accuracy did not improve from 0.71733\n",
            "211/211 [==============================] - 317s 2s/step - loss: 0.5030 - accuracy: 0.7388 - val_loss: 0.5590 - val_accuracy: 0.7067\n",
            "Epoch 6/6\n",
            "211/211 [==============================] - ETA: 0s - loss: 0.4536 - accuracy: 0.7747\n",
            "Epoch 00006: val_accuracy did not improve from 0.71733\n",
            "211/211 [==============================] - 316s 1s/step - loss: 0.4536 - accuracy: 0.7747 - val_loss: 0.5760 - val_accuracy: 0.7013\n"
          ]
        },
        {
          "output_type": "execute_result",
          "data": {
            "text/plain": [
              "<keras.callbacks.History at 0x7f1fcb0cc090>"
            ]
          },
          "metadata": {},
          "execution_count": 15
        }
      ]
    },
    {
      "cell_type": "code",
      "source": [
        "model.load_weights(models_path+\"xlm-lstm.h5\")\n",
        "\n",
        "y_pred = (model.predict(test_data['Captions'])>0.5).astype(int)\n",
        "#y_pred = np.argmax(pred,axis=1)\n",
        "y_true = test_data['enc_label']\n",
        "print_metrices(y_true,y_pred)"
      ],
      "metadata": {
        "colab": {
          "base_uri": "https://localhost:8080/"
        },
        "outputId": "0439b29e-f9ab-44d2-954c-d18b7faab6e9",
        "id": "Vr_foh_AYhcL"
      },
      "execution_count": null,
      "outputs": [
        {
          "output_type": "stream",
          "name": "stdout",
          "text": [
            "[[179  78]\n",
            " [ 52 107]]\n",
            "              precision    recall  f1-score   support\n",
            "\n",
            "    not-hate       0.77      0.70      0.73       257\n",
            "        hate       0.58      0.67      0.62       159\n",
            "\n",
            "    accuracy                           0.69       416\n",
            "   macro avg       0.68      0.68      0.68       416\n",
            "weighted avg       0.70      0.69      0.69       416\n",
            "\n",
            "Accuracy :  0.6875\n",
            "Precison :  0.6997820872820874\n",
            "Recall :  0.6875\n",
            "F1 :  0.6909847979412886\n"
          ]
        }
      ]
    },
    {
      "cell_type": "markdown",
      "source": [
        "#Multimodal Fusion"
      ],
      "metadata": {
        "id": "C8sxV68_YowU"
      }
    },
    {
      "cell_type": "code",
      "source": [
        "pip install visual-attention-tf"
      ],
      "metadata": {
        "id": "-LU44vQNYryr"
      },
      "execution_count": null,
      "outputs": []
    },
    {
      "cell_type": "code",
      "source": [
        "from visual_attention import PixelAttention2D , ChannelAttention2D,EfficientChannelAttention2D"
      ],
      "metadata": {
        "id": "hxfT1b4lYrys"
      },
      "execution_count": null,
      "outputs": []
    },
    {
      "cell_type": "code",
      "source": [
        " class Attention(tf.keras.Model):\n",
        "      def __init__(self, units):\n",
        "          super(Attention, self).__init__()\n",
        "          self.W1 = tf.keras.layers.Dense(units)\n",
        "          self.W2 = tf.keras.layers.Dense(units)\n",
        "          self.V = tf.keras.layers.Dense(1)\n",
        "\n",
        "      def call(self, features, hidden):\n",
        "          # hidden shape == (batch_size, hidden size)\n",
        "          # hidden_with_time_axis shape == (batch_size, 1, hidden size)\n",
        "          # we are doing this to perform addition to calculate the score\n",
        "          hidden_with_time_axis = tf.expand_dims(hidden, 1)\n",
        "\n",
        "          # score shape == (batch_size, max_length, 1)\n",
        "          # we get 1 at the last axis because we are applying score to self.V\n",
        "          # the shape of the tensor before applying self.V is (batch_size, max_length, units)\n",
        "          score = tf.nn.tanh(\n",
        "              self.W1(features) + self.W2(hidden_with_time_axis))\n",
        "          # attention_weights shape == (batch_size, max_length, 1)\n",
        "          attention_weights = tf.nn.softmax(self.V(score), axis=1)\n",
        "\n",
        "          # context_vector shape after sum == (batch_size, hidden_size)\n",
        "          context_vector = attention_weights * features\n",
        "          context_vector = tf.reduce_sum(context_vector, axis=1)\n",
        "          return context_vector, attention_weights"
      ],
      "metadata": {
        "id": "NkSt5FDWNQ9s"
      },
      "execution_count": null,
      "outputs": []
    },
    {
      "cell_type": "code",
      "metadata": {
        "id": "WUqurD5PYryt"
      },
      "source": [
        "def mm_attention_model():\n",
        "  '''\n",
        "     VGG16 with Attention\n",
        "  '''\n",
        "  base_model = VGG19(weights='imagenet', include_top=False,input_shape=(150, 150, 3))\n",
        "  base_model.trainable = False\n",
        "  y = base_model.output\n",
        "\n",
        "  # image_inputs = Input(shape=(150,150,3))\n",
        "  # conv1 = Conv2D(128, kernel_size=3, activation='relu')(image_inputs)\n",
        "  # y = MaxPooling2D(pool_size=(2, 2))(conv1)\n",
        "  #EfficientChannelAttention_cnn = EfficientChannelAttention2D(y.shape[-1])(y)\n",
        "  # attention_cnn = PixelAttention2D(y.shape[-1])(y)\n",
        "  pool = GlobalAveragePooling2D()(y)\n",
        "  # pool = GlobalAveragePooling2D()(attention_cnn)\n",
        "  fc_layer_v = Dense(10, activation='relu')(pool)\n",
        "  #output = Dense(1, activation='sigmoid')(fc_layer)\n",
        "  # this is the model we will train\n",
        "  img_model = Model(inputs=base_model.input, outputs=fc_layer_v)\n",
        "\n",
        "  '''\n",
        "  XLM-R with LSTM\n",
        "  '''\n",
        "  # define a text embedding model\n",
        "  text_input = tf.keras.layers.Input(shape=(), dtype=tf.string)\n",
        "  preprocessor = hub.KerasLayer(\"https://tfhub.dev/jeongukjae/xlm_roberta_multi_cased_preprocess/1\")\n",
        "  encoder_inputs = preprocessor(text_input)\n",
        "  encoder = hub.KerasLayer(\"https://tfhub.dev/jeongukjae/xlm_roberta_multi_cased_L-12_H-768_A-12/1\", trainable=True)\n",
        "  encoder_outputs = encoder(encoder_inputs)\n",
        "  #pooled_output = encoder_outputs[\"pooled_output\"]      # [batch_size, 1024].\n",
        "  sequence_output = encoder_outputs[\"sequence_output\"]  # [batch_size, seq_length, 1024].\n",
        "  lstm_Layer = Bidirectional(LSTM(32))(sequence_output)\n",
        "  # (lstm, forward_h, forward_c, backward_h, backward_c) = Bidirectional(LSTM(16, return_sequences=True, return_state=True), name=\"bi_lstm_1\")(sequence_output)\n",
        "  # state_h = Concatenate()([forward_h, backward_h])\n",
        "  # state_c = Concatenate()([forward_c, backward_c])\n",
        "  # context_vector, attention_weights = Attention(10)(lstm, state_h)\n",
        "  fc_layer_t = Dense(10, activation='relu')(lstm_Layer)\n",
        "\n",
        "  #fc_layer_t = Dense(10, activation='relu')(pooled_output)\n",
        "  # l = Dense(1, activation='sigmoid', name=\"output\")(fc_Layer )\n",
        "  text_model = Model(text_input, fc_layer_t)\n",
        "\n",
        "\n",
        "  # Fusion\n",
        "  con_layer = keras.layers.concatenate([img_model.output, text_model.output])\n",
        "  #final_dense = Dense(4, activation=\"relu\")(con_layer)\n",
        "  #dropout = Dropout(0.1)(final_dense)\n",
        "  out = Dense(1,activation='sigmoid')(con_layer)\n",
        "  com_model = Model(inputs = [img_model.input, text_model.input], outputs=out)\n",
        "\n",
        "  return com_model"
      ],
      "execution_count": null,
      "outputs": []
    },
    {
      "cell_type": "code",
      "source": [
        "def mm_attention_model():\n",
        "  '''\n",
        "     VGG16 with Attention\n",
        "  '''\n",
        "  base_model = VGG19(weights='imagenet', include_top=False,input_shape=(150, 150, 3))\n",
        "  base_model.trainable = False\n",
        "  y = base_model.layers[-2].output\n",
        "\n",
        "  # image_inputs = Input(shape=(150,150,3))\n",
        "  # conv1 = Conv2D(128, kernel_size=3, activation='relu')(image_inputs)\n",
        "  # y = MaxPooling2D(pool_size=(2, 2))(conv1)\n",
        "  #EfficientChannelAttention_cnn = EfficientChannelAttention2D(y.shape[-1])(y)\n",
        "  attention_cnn = PixelAttention2D(y.shape[-1])(y)\n",
        "  #pool = GlobalAveragePooling2D()(y)\n",
        "  pool = GlobalAveragePooling2D()(attention_cnn)\n",
        "  fc_layer_v = Dense(10, activation='relu')(pool)\n",
        "  #output = Dense(1, activation='sigmoid')(fc_layer)\n",
        "  # this is the model we will train\n",
        "  img_model = Model(inputs=base_model.input, outputs=fc_layer_v)\n",
        "\n",
        "  '''\n",
        "  XLM-R with LSTM\n",
        "  '''\n",
        "  # define a text embedding model\n",
        "  preprocessor = hub.load(\"https://tfhub.dev/jeongukjae/xlm_roberta_multi_cased_preprocess/1\")\n",
        "  tokenize = hub.KerasLayer(preprocessor.tokenize)\n",
        "  bert_pack_inputs = hub.KerasLayer(preprocessor.bert_pack_inputs)\n",
        "  encoder = hub.KerasLayer(\"https://tfhub.dev/jeongukjae/xlm_roberta_multi_cased_L-24_H-1024_A-16/1\", trainable=True)\n",
        "\n",
        "  text_inputs = [\n",
        "    tf.keras.layers.Input(shape=(50,), dtype=tf.string),\n",
        "  ]\n",
        "  tokenized_inputs = [tokenize(segment) for segment in text_inputs]\n",
        "  encoder_inputs = bert_pack_inputs(tokenized_inputs)\n",
        "  encoder_outputs = encoder(encoder_inputs)\n",
        "\n",
        "  #pooled_output = encoder_outputs[\"pooled_output\"]      # [batch_size, 1024].\n",
        "  sequence_output = encoder_outputs[\"sequence_output\"]  # [batch_size, seq_length, 1024].\n",
        "  lstm_Layer = Bidirectional(LSTM(32))(sequence_output)\n",
        "  # (lstm, forward_h, forward_c, backward_h, backward_c) = Bidirectional(LSTM(16, return_sequences=True, return_state=True), name=\"bi_lstm_1\")(sequence_output)\n",
        "  # state_h = Concatenate()([forward_h, backward_h])\n",
        "  # state_c = Concatenate()([forward_c, backward_c])\n",
        "  # context_vector, attention_weights = Attention(10)(lstm, state_h)\n",
        "  fc_layer_t = Dense(10, activation='relu')(lstm_Layer)\n",
        "\n",
        "  #fc_layer_t = Dense(10, activation='relu')(pooled_output)\n",
        "  # l = Dense(1, activation='sigmoid', name=\"output\")(fc_Layer )\n",
        "  text_model = Model(text_input, fc_layer_t)\n",
        "\n",
        "\n",
        "  # Fusion\n",
        "  con_layer = keras.layers.concatenate([img_model.output, text_model.output])\n",
        "  final_dense = Dense(4, activation=\"relu\")(con_layer)\n",
        "  #dropout = Dropout(0.1)(final_dense)\n",
        "  out = Dense(1,activation='sigmoid')(final_dense)\n",
        "  com_model = Model(inputs = [img_model.input, text_model.input], outputs=out)\n",
        "\n",
        "  return com_model"
      ],
      "metadata": {
        "id": "bGbcnbLOBGh_"
      },
      "execution_count": null,
      "outputs": []
    },
    {
      "cell_type": "code",
      "source": [
        "model = mm_attention_model()"
      ],
      "metadata": {
        "id": "VXgbPlkxZUe_",
        "colab": {
          "base_uri": "https://localhost:8080/"
        },
        "outputId": "8c39be70-d5d3-4073-ddbe-a2c1e2b867b3"
      },
      "execution_count": null,
      "outputs": [
        {
          "output_type": "stream",
          "name": "stdout",
          "text": [
            "Downloading data from https://storage.googleapis.com/tensorflow/keras-applications/vgg19/vgg19_weights_tf_dim_ordering_tf_kernels_notop.h5\n",
            "80142336/80134624 [==============================] - 0s 0us/step\n",
            "80150528/80134624 [==============================] - 0s 0us/step\n"
          ]
        }
      ]
    },
    {
      "cell_type": "code",
      "source": [
        "model.summary()"
      ],
      "metadata": {
        "id": "sLHPWHoyfaUi"
      },
      "execution_count": null,
      "outputs": []
    },
    {
      "cell_type": "code",
      "source": [
        "filepath = models_path + 'vgg16-xlm-lstm.h5'\n",
        "checkpoint = keras.callbacks.ModelCheckpoint(filepath, monitor='val_accuracy', verbose=2, save_best_only=True,\n",
        "                                             save_weights_only=True, mode='max' )"
      ],
      "metadata": {
        "id": "BaL3bHEeWdRW"
      },
      "execution_count": null,
      "outputs": []
    },
    {
      "cell_type": "code",
      "source": [
        "keras.backend.clear_session()\n",
        "model.compile(loss='binary_crossentropy',\n",
        "                    optimizer=Adam(lr=1e-5),\n",
        "                    metrics = [\"accuracy\"])"
      ],
      "metadata": {
        "id": "Gb_00UMSawjF"
      },
      "execution_count": null,
      "outputs": []
    },
    {
      "cell_type": "code",
      "source": [
        "model.fit(x=[train_image,train_data['Captions']],\n",
        "              y=train_data['enc_label'],\n",
        "              epochs=3,\n",
        "              batch_size =4,\n",
        "              validation_data = ([valid_image,valid_data['Captions']],valid_data['enc_label']),\n",
        "              verbose = 1,\n",
        "              #class_weight = weight,\n",
        "              callbacks = [checkpoint]\n",
        "              )"
      ],
      "metadata": {
        "id": "XzH3NM-sa9rd",
        "colab": {
          "base_uri": "https://localhost:8080/"
        },
        "outputId": "77f4ebc5-bb57-4d56-b657-03dc2ba8a7e9"
      },
      "execution_count": null,
      "outputs": [
        {
          "metadata": {
            "tags": null
          },
          "name": "stdout",
          "output_type": "stream",
          "text": [
            "Epoch 1/3\n",
            "842/842 [==============================] - ETA: 0s - loss: 2.3395 - accuracy: 0.4788\n",
            "Epoch 00001: val_accuracy improved from -inf to 0.54933, saving model to /content/drive/MyDrive/Colab Notebooks/NLP Projects/Online Memes/Dataset-3300/Hateful Memes/Models/vgg16-xlm-lstm.h5\n",
            "842/842 [==============================] - 288s 311ms/step - loss: 2.3395 - accuracy: 0.4788 - val_loss: 1.7674 - val_accuracy: 0.5493\n",
            "Epoch 2/3\n",
            "842/842 [==============================] - ETA: 0s - loss: 1.6073 - accuracy: 0.5397\n",
            "Epoch 00002: val_accuracy improved from 0.54933 to 0.55467, saving model to /content/drive/MyDrive/Colab Notebooks/NLP Projects/Online Memes/Dataset-3300/Hateful Memes/Models/vgg16-xlm-lstm.h5\n",
            "842/842 [==============================] - 247s 293ms/step - loss: 1.6073 - accuracy: 0.5397 - val_loss: 1.5634 - val_accuracy: 0.5547\n",
            "Epoch 3/3\n",
            "842/842 [==============================] - ETA: 0s - loss: 1.4486 - accuracy: 0.5527\n",
            "Epoch 00003: val_accuracy improved from 0.55467 to 0.56267, saving model to /content/drive/MyDrive/Colab Notebooks/NLP Projects/Online Memes/Dataset-3300/Hateful Memes/Models/vgg16-xlm-lstm.h5\n",
            "842/842 [==============================] - 247s 293ms/step - loss: 1.4486 - accuracy: 0.5527 - val_loss: 1.4223 - val_accuracy: 0.5627\n"
          ]
        },
        {
          "output_type": "execute_result",
          "data": {
            "text/plain": [
              "<keras.callbacks.History at 0x7fd169204890>"
            ]
          },
          "metadata": {},
          "execution_count": 21
        }
      ]
    },
    {
      "cell_type": "code",
      "source": [
        "model.save_weights(models_path+'vgg16-att-Xlm')"
      ],
      "metadata": {
        "id": "ym_AfxBeYryw"
      },
      "execution_count": null,
      "outputs": []
    },
    {
      "cell_type": "code",
      "metadata": {
        "id": "kGv-qk1LYryx",
        "colab": {
          "base_uri": "https://localhost:8080/"
        },
        "outputId": "55d013d2-27f2-41c3-f777-afdd53428ed0"
      },
      "source": [
        "# Prediction\n",
        "#model = vgg16_att_model.load_weights(models_path+\"vgg16-att-channel\")\n",
        "pred = model.predict([test_image,test_data['Captions']])\n",
        "y_pred = (pred>0.5).astype(int)\n",
        "y_true = test_data['enc_label']\n",
        "print_metrices(y_true,y_pred)"
      ],
      "execution_count": null,
      "outputs": [
        {
          "output_type": "stream",
          "name": "stdout",
          "text": [
            "[[170  87]\n",
            " [100  59]]\n",
            "              precision    recall  f1-score   support\n",
            "\n",
            "    not-hate       0.63      0.66      0.65       257\n",
            "        hate       0.40      0.37      0.39       159\n",
            "\n",
            "    accuracy                           0.55       416\n",
            "   macro avg       0.52      0.52      0.52       416\n",
            "weighted avg       0.54      0.55      0.55       416\n",
            "\n",
            "Accuracy :  0.5504807692307693\n",
            "Precison :  0.5434332679623776\n",
            "Recall :  0.5504807692307693\n",
            "F1 :  0.546445206036692\n"
          ]
        }
      ]
    },
    {
      "cell_type": "markdown",
      "source": [
        "##Fusion with LSTM-ATT and VGG16-ATT"
      ],
      "metadata": {
        "id": "gNFfRYVK1NMV"
      }
    },
    {
      "cell_type": "code",
      "source": [
        "''' Tokenizer '''\n",
        "\n",
        "def text_tokenizer(train_data,test_data,vocabulary,max_len,sample_text_num):\n",
        "\n",
        "  tokenizer = Tokenizer(num_words = vocabulary ,filters='!\"#$%&()*+,-./:;<=>?@[\\\\]^_`{|}~\\t\\n-',\n",
        "                        split=' ', char_level=False, oov_token='<oov>', document_count=0)\n",
        "  tokenizer.fit_on_texts(train_data['Captions'])\n",
        "  word_index = tokenizer.word_index\n",
        "  vocab_size = len(word_index)+1\n",
        "\n",
        "  # Training Sequences\n",
        "  train_sequences = tokenizer.texts_to_sequences(train_data['Captions'])\n",
        "  train_pad_sequences =  keras.preprocessing.sequence.pad_sequences(train_sequences, value=0.0, padding='post', maxlen= max_len)\n",
        "\n",
        "\n",
        "  # Validation Sequences\n",
        "  valid_sequences = tokenizer.texts_to_sequences(valid_data['Captions'])\n",
        "  valid_pad_sequences =  keras.preprocessing.sequence.pad_sequences(valid_sequences, value=0.0, padding='post', maxlen= max_len)\n",
        "\n",
        "\n",
        "  # Test Sequences\n",
        "  test_sequences = tokenizer.texts_to_sequences(test_data['Captions'])\n",
        "  test_pad_sequences =  keras.preprocessing.sequence.pad_sequences(test_sequences, value=0.0, padding='post', maxlen= max_len)\n",
        "\n",
        "\n",
        "  print(color.BOLD+\"\\n\\t\\t\\t====== Encoded Sequences ======\"+color.END,\"\\n\")\n",
        "  print(train_data.Captions[sample_text_num],\"\\n\",train_sequences[sample_text_num])\n",
        "  print(color.BOLD+\"\\n\\t\\t\\t====== Paded Sequences ======\\n\"+color.END,\"\\n\",train_pad_sequences[sample_text_num])\n",
        "\n",
        "  return train_pad_sequences, valid_pad_sequences, test_pad_sequences, vocab_size, word_index\n",
        "\n",
        "\n",
        "vocabulary = 15000\n",
        "max_len = 50\n",
        "sample_text_num = 10\n",
        "\n",
        "## Call Tokenizer\n",
        "train_pad_sequences, valid_pad_sequences, test_pad_sequences, vocab_size, word_index =  text_tokenizer(train_data,test_data,\n",
        "                                                                      vocabulary,max_len,sample_text_num)\n",
        "\n",
        "print(\"Number of Train Sequences :\" ,train_pad_sequences.shape)\n",
        "print(\"Number of Test Sequences :\" ,test_pad_sequences.shape)\n",
        "print(\"Vocabulary Size: \",vocab_size)"
      ],
      "metadata": {
        "id": "XDKeVP0o2l0P",
        "colab": {
          "base_uri": "https://localhost:8080/"
        },
        "outputId": "8795f1f0-d45a-4919-d178-d276c558df7c"
      },
      "execution_count": null,
      "outputs": [
        {
          "output_type": "stream",
          "name": "stdout",
          "text": [
            "\u001b[1m\n",
            "\t\t\t====== Encoded Sequences ======\u001b[0m \n",
            "\n",
            "ভার্সিটির বড় ভাই    আমি*    কুমুদিনীর মেয়ে  \n",
            " [1442, 63, 39, 3, 467, 41]\n",
            "\u001b[1m\n",
            "\t\t\t====== Paded Sequences ======\n",
            "\u001b[0m \n",
            " [1442   63   39    3  467   41    0    0    0    0    0    0    0    0\n",
            "    0    0    0    0    0    0    0    0    0    0    0    0    0    0\n",
            "    0    0    0    0    0    0    0    0    0    0    0    0    0    0\n",
            "    0    0    0    0    0    0    0    0]\n",
            "Number of Train Sequences : (3365, 50)\n",
            "Number of Test Sequences : (416, 50)\n",
            "Vocabulary Size:  11993\n"
          ]
        }
      ]
    },
    {
      "cell_type": "markdown",
      "source": [
        "##LSTM+ATT"
      ],
      "metadata": {
        "id": "qeApLLFp2l0R"
      }
    },
    {
      "cell_type": "code",
      "metadata": {
        "id": "yTS9aNnk2l0S"
      },
      "source": [
        "def create_lstm_attention_model (max_len,vocab_size,embedding_dimension):\n",
        "\n",
        "  class Attention(tf.keras.Model):\n",
        "      def __init__(self, units):\n",
        "          super(Attention, self).__init__()\n",
        "          self.W1 = tf.keras.layers.Dense(units)\n",
        "          self.W2 = tf.keras.layers.Dense(units)\n",
        "          self.V = tf.keras.layers.Dense(1)\n",
        "\n",
        "      def call(self, features, hidden):\n",
        "          # hidden shape == (batch_size, hidden size)\n",
        "          # hidden_with_time_axis shape == (batch_size, 1, hidden size)\n",
        "          # we are doing this to perform addition to calculate the score\n",
        "          hidden_with_time_axis = tf.expand_dims(hidden, 1)\n",
        "\n",
        "          # score shape == (batch_size, max_length, 1)\n",
        "          # we get 1 at the last axis because we are applying score to self.V\n",
        "          # the shape of the tensor before applying self.V is (batch_size, max_length, units)\n",
        "          score = tf.nn.tanh(\n",
        "              self.W1(features) + self.W2(hidden_with_time_axis))\n",
        "          # attention_weights shape == (batch_size, max_length, 1)\n",
        "          attention_weights = tf.nn.softmax(self.V(score), axis=1)\n",
        "\n",
        "          # context_vector shape after sum == (batch_size, hidden_size)\n",
        "          context_vector = attention_weights * features\n",
        "          context_vector = tf.reduce_sum(context_vector, axis=1)\n",
        "          return context_vector, attention_weights\n",
        "\n",
        "  sequence_input = Input(shape=(max_len,), dtype=\"int32\")\n",
        "  embedded_sequences = Embedding(vocab_size, embedding_dimension)(sequence_input)\n",
        "  #lstm1 = Bidirectional(LSTM(128), name=\"bi_lstm_0\")(embedded_sequences)\n",
        "  # Getting our LSTM outputs\n",
        "  (lstm, forward_h, forward_c, backward_h, backward_c) = Bidirectional(LSTM(16, return_sequences=True, return_state=True), name=\"bi_lstm_1\")(embedded_sequences)\n",
        "\n",
        "  state_h = Concatenate()([forward_h, backward_h])\n",
        "  state_c = Concatenate()([forward_c, backward_c])\n",
        "  context_vector, attention_weights = Attention(20)(lstm, state_h)\n",
        "  #dense1 = Dense(8, activation=\"relu\")(context_vector)\n",
        "  #dropout = Dropout(0.01)(dense1)\n",
        "  output = Dense(1, activation=\"sigmoid\")(context_vector)\n",
        "\n",
        "  lstm_attention_model = Model(inputs=sequence_input, outputs=output)\n",
        "\n",
        "  return lstm_attention_model\n"
      ],
      "execution_count": null,
      "outputs": []
    },
    {
      "cell_type": "code",
      "metadata": {
        "id": "Ayl5K6032URt"
      },
      "source": [
        "def mm_attention_model():\n",
        "  '''\n",
        "     VGG19 with Attention\n",
        "  '''\n",
        "  base_model = VGG19(weights='imagenet', include_top=False,input_shape=(150, 150, 3))\n",
        "  base_model.trainable = False\n",
        "  y = base_model.output\n",
        "  #EfficientChannelAttention_cnn = EfficientChannelAttention2D(y.shape[-1])(y)\n",
        "  # attention_cnn = PixelAttention2D(y.shape[-1])(y)\n",
        "  pool = GlobalAveragePooling2D()(y)\n",
        "  #pool = GlobalAveragePooling2D()(attention_cnn)\n",
        "  #fc_layer_v = Dense(8, activation='relu')(pool)\n",
        "  output = Dense(1, activation='sigmoid')(pool)\n",
        "  # this is the model we will train\n",
        "  img_model = Model(inputs=base_model.input, outputs=output)\n",
        "\n",
        "  '''\n",
        "  LSTM with Attention\n",
        "  '''\n",
        "  # define a text embedding model\n",
        "  text_model = create_lstm_attention_model (50,vocab_size,16)\n",
        "\n",
        "\n",
        "  # Fusion\n",
        "  con_layer = keras.layers.concatenate([img_model.output, text_model.output])\n",
        "  final_dense = Dense(4, activation=\"relu\")(con_layer)\n",
        "  dropout = Dropout(0.1)(final_dense)\n",
        "  out = Dense(1,activation='sigmoid')(final_dense)\n",
        "  com_model = Model(inputs = [img_model.input, text_model.input], outputs=out)\n",
        "\n",
        "  return com_model"
      ],
      "execution_count": null,
      "outputs": []
    },
    {
      "cell_type": "code",
      "source": [
        "model = mm_attention_model()"
      ],
      "metadata": {
        "id": "GjCQKSvG2URv"
      },
      "execution_count": null,
      "outputs": []
    },
    {
      "cell_type": "code",
      "source": [
        "filepath = models_path + 'vgg19-lstm.h5'\n",
        "checkpoint = keras.callbacks.ModelCheckpoint(filepath, monitor='val_accuracy', verbose=2, save_best_only=True,\n",
        "                                             save_weights_only=True, mode='max' )"
      ],
      "metadata": {
        "id": "8Ke3doeK5HYy"
      },
      "execution_count": null,
      "outputs": []
    },
    {
      "cell_type": "code",
      "source": [
        "keras.backend.clear_session()\n",
        "model.compile(loss='binary_crossentropy',\n",
        "                    optimizer=Adam(),\n",
        "                    metrics = [\"accuracy\"])"
      ],
      "metadata": {
        "id": "TnN3fiM44mbM"
      },
      "execution_count": null,
      "outputs": []
    },
    {
      "cell_type": "code",
      "source": [
        "model.fit(x=[train_image,train_pad_sequences],\n",
        "              y=train_data['enc_label'],\n",
        "              epochs=10,\n",
        "              batch_size =16,\n",
        "              validation_data = ([valid_image,valid_pad_sequences],valid_data['enc_label']),\n",
        "              verbose = 1,\n",
        "              #class_weight = weight,\n",
        "              callbacks = [checkpoint]\n",
        "              )"
      ],
      "metadata": {
        "id": "xmnP_Jbu4mbN",
        "colab": {
          "base_uri": "https://localhost:8080/"
        },
        "outputId": "22f3b837-8f07-4843-de20-b994d7b31097"
      },
      "execution_count": null,
      "outputs": [
        {
          "output_type": "stream",
          "name": "stdout",
          "text": [
            "Epoch 1/10\n",
            "211/211 [==============================] - ETA: 0s - loss: 0.6138 - accuracy: 0.6978\n",
            "Epoch 00001: val_accuracy improved from -inf to 0.61600, saving model to /content/drive/MyDrive/Colab Notebooks/NLP Projects/Online Memes/Dataset-3300/Hateful Memes/Models/vgg19-lstm.h5\n",
            "211/211 [==============================] - 50s 64ms/step - loss: 0.6138 - accuracy: 0.6978 - val_loss: 0.6592 - val_accuracy: 0.6160\n",
            "Epoch 2/10\n",
            "210/211 [============================>.] - ETA: 0s - loss: 0.6028 - accuracy: 0.7024\n",
            "Epoch 00002: val_accuracy did not improve from 0.61600\n",
            "211/211 [==============================] - 11s 54ms/step - loss: 0.6027 - accuracy: 0.7025 - val_loss: 0.6544 - val_accuracy: 0.6133\n",
            "Epoch 3/10\n",
            "211/211 [==============================] - ETA: 0s - loss: 0.5903 - accuracy: 0.7141\n",
            "Epoch 00003: val_accuracy improved from 0.61600 to 0.62400, saving model to /content/drive/MyDrive/Colab Notebooks/NLP Projects/Online Memes/Dataset-3300/Hateful Memes/Models/vgg19-lstm.h5\n",
            "211/211 [==============================] - 12s 58ms/step - loss: 0.5903 - accuracy: 0.7141 - val_loss: 0.6622 - val_accuracy: 0.6240\n",
            "Epoch 4/10\n",
            "210/211 [============================>.] - ETA: 0s - loss: 0.5840 - accuracy: 0.7232\n",
            "Epoch 00004: val_accuracy did not improve from 0.62400\n",
            "211/211 [==============================] - 12s 55ms/step - loss: 0.5840 - accuracy: 0.7230 - val_loss: 0.6604 - val_accuracy: 0.6187\n",
            "Epoch 5/10\n",
            "210/211 [============================>.] - ETA: 0s - loss: 0.5796 - accuracy: 0.7208\n",
            "Epoch 00005: val_accuracy did not improve from 0.62400\n",
            "211/211 [==============================] - 12s 55ms/step - loss: 0.5792 - accuracy: 0.7212 - val_loss: 0.6601 - val_accuracy: 0.6187\n",
            "Epoch 6/10\n",
            "210/211 [============================>.] - ETA: 0s - loss: 0.5708 - accuracy: 0.7333\n",
            "Epoch 00006: val_accuracy did not improve from 0.62400\n",
            "211/211 [==============================] - 12s 56ms/step - loss: 0.5707 - accuracy: 0.7334 - val_loss: 0.6728 - val_accuracy: 0.6160\n",
            "Epoch 7/10\n",
            "210/211 [============================>.] - ETA: 0s - loss: 0.5614 - accuracy: 0.7437\n",
            "Epoch 00007: val_accuracy did not improve from 0.62400\n",
            "211/211 [==============================] - 12s 57ms/step - loss: 0.5616 - accuracy: 0.7435 - val_loss: 0.6734 - val_accuracy: 0.6213\n",
            "Epoch 8/10\n",
            "210/211 [============================>.] - ETA: 0s - loss: 0.5557 - accuracy: 0.7473\n",
            "Epoch 00008: val_accuracy did not improve from 0.62400\n",
            "211/211 [==============================] - 12s 57ms/step - loss: 0.5560 - accuracy: 0.7468 - val_loss: 0.6894 - val_accuracy: 0.6053\n",
            "Epoch 9/10\n",
            "211/211 [==============================] - ETA: 0s - loss: 0.5478 - accuracy: 0.7575\n",
            "Epoch 00009: val_accuracy did not improve from 0.62400\n",
            "211/211 [==============================] - 12s 57ms/step - loss: 0.5478 - accuracy: 0.7575 - val_loss: 0.6880 - val_accuracy: 0.6027\n",
            "Epoch 10/10\n",
            "210/211 [============================>.] - ETA: 0s - loss: 0.5443 - accuracy: 0.7604\n",
            "Epoch 00010: val_accuracy did not improve from 0.62400\n",
            "211/211 [==============================] - 12s 57ms/step - loss: 0.5446 - accuracy: 0.7602 - val_loss: 0.6975 - val_accuracy: 0.6187\n"
          ]
        },
        {
          "output_type": "execute_result",
          "data": {
            "text/plain": [
              "<keras.callbacks.History at 0x7f2beccfe2d0>"
            ]
          },
          "metadata": {},
          "execution_count": 28
        }
      ]
    },
    {
      "cell_type": "code",
      "source": [
        "model.save_weights(models_path+'vgg16-att-Xlm')"
      ],
      "metadata": {
        "id": "QlWUbyxR4mbN"
      },
      "execution_count": null,
      "outputs": []
    },
    {
      "cell_type": "code",
      "metadata": {
        "colab": {
          "base_uri": "https://localhost:8080/"
        },
        "outputId": "b30ce5c7-79ad-45e4-a54b-d39ff6728808",
        "id": "t61Ju8-O4mbO"
      },
      "source": [
        "# Prediction\n",
        "#model = vgg16_att_model.load_weights(models_path+\"vgg16-att-channel\")\n",
        "pred = model.predict([test_image,test_pad_sequences])\n",
        "y_pred = (pred>0.5).astype(int)\n",
        "y_true = test_data['enc_label']\n",
        "print_metrices(y_true,y_pred)"
      ],
      "execution_count": null,
      "outputs": [
        {
          "output_type": "stream",
          "name": "stdout",
          "text": [
            "[[204  53]\n",
            " [100  59]]\n",
            "              precision    recall  f1-score   support\n",
            "\n",
            "    not-hate       0.67      0.79      0.73       257\n",
            "        hate       0.53      0.37      0.44       159\n",
            "\n",
            "    accuracy                           0.63       416\n",
            "   macro avg       0.60      0.58      0.58       416\n",
            "weighted avg       0.62      0.63      0.62       416\n",
            "\n",
            "Accuracy :  0.6322115384615384\n",
            "Precison :  0.6159121511711972\n",
            "Recall :  0.6322115384615384\n",
            "F1 :  0.6157249116197456\n"
          ]
        }
      ]
    },
    {
      "cell_type": "markdown",
      "metadata": {
        "id": "aEYzq-bHv5Ev"
      },
      "source": [
        "##Misclassification Rate"
      ]
    },
    {
      "cell_type": "code",
      "metadata": {
        "colab": {
          "base_uri": "https://localhost:8080/",
          "height": 143
        },
        "id": "VPM-7oFtv7uf",
        "outputId": "4637e01a-3865-40ae-ee7d-24f9e6e04c58"
      },
      "source": [
        "data_matrix = pd.DataFrame({'Hate':[44,54.1,38],\n",
        "                            'Not-Hate':[31.1, 22.1, 29],\n",
        "                            'Models':['Best Visual', 'Best Textual','Multimodal']})\n",
        "data_matrix"
      ],
      "execution_count": null,
      "outputs": [
        {
          "output_type": "execute_result",
          "data": {
            "text/plain": [
              "   Hate  Not-Hate        Models\n",
              "0  44.0      31.1   Best Visual\n",
              "1  54.1      22.1  Best Textual\n",
              "2  38.0      29.0    Multimodal"
            ],
            "text/html": [
              "\n",
              "  <div id=\"df-fafe60a6-c09c-42fb-bda0-6cfab804102b\">\n",
              "    <div class=\"colab-df-container\">\n",
              "      <div>\n",
              "<style scoped>\n",
              "    .dataframe tbody tr th:only-of-type {\n",
              "        vertical-align: middle;\n",
              "    }\n",
              "\n",
              "    .dataframe tbody tr th {\n",
              "        vertical-align: top;\n",
              "    }\n",
              "\n",
              "    .dataframe thead th {\n",
              "        text-align: right;\n",
              "    }\n",
              "</style>\n",
              "<table border=\"1\" class=\"dataframe\">\n",
              "  <thead>\n",
              "    <tr style=\"text-align: right;\">\n",
              "      <th></th>\n",
              "      <th>Hate</th>\n",
              "      <th>Not-Hate</th>\n",
              "      <th>Models</th>\n",
              "    </tr>\n",
              "  </thead>\n",
              "  <tbody>\n",
              "    <tr>\n",
              "      <th>0</th>\n",
              "      <td>44.0</td>\n",
              "      <td>31.1</td>\n",
              "      <td>Best Visual</td>\n",
              "    </tr>\n",
              "    <tr>\n",
              "      <th>1</th>\n",
              "      <td>54.1</td>\n",
              "      <td>22.1</td>\n",
              "      <td>Best Textual</td>\n",
              "    </tr>\n",
              "    <tr>\n",
              "      <th>2</th>\n",
              "      <td>38.0</td>\n",
              "      <td>29.0</td>\n",
              "      <td>Multimodal</td>\n",
              "    </tr>\n",
              "  </tbody>\n",
              "</table>\n",
              "</div>\n",
              "      <button class=\"colab-df-convert\" onclick=\"convertToInteractive('df-fafe60a6-c09c-42fb-bda0-6cfab804102b')\"\n",
              "              title=\"Convert this dataframe to an interactive table.\"\n",
              "              style=\"display:none;\">\n",
              "        \n",
              "  <svg xmlns=\"http://www.w3.org/2000/svg\" height=\"24px\"viewBox=\"0 0 24 24\"\n",
              "       width=\"24px\">\n",
              "    <path d=\"M0 0h24v24H0V0z\" fill=\"none\"/>\n",
              "    <path d=\"M18.56 5.44l.94 2.06.94-2.06 2.06-.94-2.06-.94-.94-2.06-.94 2.06-2.06.94zm-11 1L8.5 8.5l.94-2.06 2.06-.94-2.06-.94L8.5 2.5l-.94 2.06-2.06.94zm10 10l.94 2.06.94-2.06 2.06-.94-2.06-.94-.94-2.06-.94 2.06-2.06.94z\"/><path d=\"M17.41 7.96l-1.37-1.37c-.4-.4-.92-.59-1.43-.59-.52 0-1.04.2-1.43.59L10.3 9.45l-7.72 7.72c-.78.78-.78 2.05 0 2.83L4 21.41c.39.39.9.59 1.41.59.51 0 1.02-.2 1.41-.59l7.78-7.78 2.81-2.81c.8-.78.8-2.07 0-2.86zM5.41 20L4 18.59l7.72-7.72 1.47 1.35L5.41 20z\"/>\n",
              "  </svg>\n",
              "      </button>\n",
              "      \n",
              "  <style>\n",
              "    .colab-df-container {\n",
              "      display:flex;\n",
              "      flex-wrap:wrap;\n",
              "      gap: 12px;\n",
              "    }\n",
              "\n",
              "    .colab-df-convert {\n",
              "      background-color: #E8F0FE;\n",
              "      border: none;\n",
              "      border-radius: 50%;\n",
              "      cursor: pointer;\n",
              "      display: none;\n",
              "      fill: #1967D2;\n",
              "      height: 32px;\n",
              "      padding: 0 0 0 0;\n",
              "      width: 32px;\n",
              "    }\n",
              "\n",
              "    .colab-df-convert:hover {\n",
              "      background-color: #E2EBFA;\n",
              "      box-shadow: 0px 1px 2px rgba(60, 64, 67, 0.3), 0px 1px 3px 1px rgba(60, 64, 67, 0.15);\n",
              "      fill: #174EA6;\n",
              "    }\n",
              "\n",
              "    [theme=dark] .colab-df-convert {\n",
              "      background-color: #3B4455;\n",
              "      fill: #D2E3FC;\n",
              "    }\n",
              "\n",
              "    [theme=dark] .colab-df-convert:hover {\n",
              "      background-color: #434B5C;\n",
              "      box-shadow: 0px 1px 3px 1px rgba(0, 0, 0, 0.15);\n",
              "      filter: drop-shadow(0px 1px 2px rgba(0, 0, 0, 0.3));\n",
              "      fill: #FFFFFF;\n",
              "    }\n",
              "  </style>\n",
              "\n",
              "      <script>\n",
              "        const buttonEl =\n",
              "          document.querySelector('#df-fafe60a6-c09c-42fb-bda0-6cfab804102b button.colab-df-convert');\n",
              "        buttonEl.style.display =\n",
              "          google.colab.kernel.accessAllowed ? 'block' : 'none';\n",
              "\n",
              "        async function convertToInteractive(key) {\n",
              "          const element = document.querySelector('#df-fafe60a6-c09c-42fb-bda0-6cfab804102b');\n",
              "          const dataTable =\n",
              "            await google.colab.kernel.invokeFunction('convertToInteractive',\n",
              "                                                     [key], {});\n",
              "          if (!dataTable) return;\n",
              "\n",
              "          const docLinkHtml = 'Like what you see? Visit the ' +\n",
              "            '<a target=\"_blank\" href=https://colab.research.google.com/notebooks/data_table.ipynb>data table notebook</a>'\n",
              "            + ' to learn more about interactive tables.';\n",
              "          element.innerHTML = '';\n",
              "          dataTable['output_type'] = 'display_data';\n",
              "          await google.colab.output.renderOutput(dataTable, element);\n",
              "          const docLink = document.createElement('div');\n",
              "          docLink.innerHTML = docLinkHtml;\n",
              "          element.appendChild(docLink);\n",
              "        }\n",
              "      </script>\n",
              "    </div>\n",
              "  </div>\n",
              "  "
            ]
          },
          "metadata": {},
          "execution_count": 3
        }
      ]
    },
    {
      "cell_type": "code",
      "metadata": {
        "colab": {
          "base_uri": "https://localhost:8080/"
        },
        "id": "GgTJ0Et1xXVz",
        "outputId": "9c0f7ef3-03be-4a15-8adb-897f22f1b380"
      },
      "source": [
        "df = pd.melt(data_matrix, id_vars='Models', var_name=\"Category\", value_name=\"Values\")\n",
        "print(df)"
      ],
      "execution_count": null,
      "outputs": [
        {
          "output_type": "stream",
          "name": "stdout",
          "text": [
            "         Models  Category  Values\n",
            "0   Best Visual      Hate    44.0\n",
            "1  Best Textual      Hate    54.1\n",
            "2    Multimodal      Hate    38.0\n",
            "3   Best Visual  Not-Hate    31.1\n",
            "4  Best Textual  Not-Hate    22.1\n",
            "5    Multimodal  Not-Hate    29.0\n"
          ]
        }
      ]
    },
    {
      "cell_type": "code",
      "metadata": {
        "colab": {
          "base_uri": "https://localhost:8080/",
          "height": 225
        },
        "id": "06G2qqGoyLqk",
        "outputId": "007edb16-2231-4072-c014-c18df7a75f0e"
      },
      "source": [
        "model_names = ['Best Visual', 'Best Textual','Multimodal']\n",
        "plt.figure(figsize=(4, 3))\n",
        "#ax = plt.subplot()c\n",
        "splot = sns.barplot(data=df,x='Models', y='Values' ,hue='Category',palette=\"deep\")\n",
        "for p in splot.patches:\n",
        "    splot.annotate(format(p.get_height(), '.1f'),\n",
        "                   (p.get_x() + p.get_width() / 2., p.get_height()),\n",
        "                   ha = 'center', va = 'center',\n",
        "                   xytext = (0, 17),\n",
        "                   textcoords = 'offset points',\n",
        "                   rotation= 90)\n",
        "\n",
        "plt.xlabel('Model')\n",
        "plt.ylabel('Misclassification Rate (%)')\n",
        "#plt.title('Classwise Misclassification Rate')\n",
        "plt.ylim([15,65])\n",
        "plt.xticks([0,1,2],model_names ,rotation = '0')\n",
        "plt.savefig('ms-rate.png',dpi = 500,bbox_inches ='tight')"
      ],
      "execution_count": null,
      "outputs": [
        {
          "output_type": "display_data",
          "data": {
            "text/plain": [
              "<Figure size 288x216 with 1 Axes>"
            ],
            "image/png": "[encoded data removed]"
          },
          "metadata": {
            "needs_background": "light"
          }
        }
      ]
    }
  ]
}